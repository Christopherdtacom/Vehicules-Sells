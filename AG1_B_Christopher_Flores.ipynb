{
 "cells": [
  {
   "cell_type": "markdown",
   "id": "ca15c322",
   "metadata": {},
   "source": [
    "# Actividad 1 - Estadistica Avanzada "
   ]
  },
  {
   "cell_type": "markdown",
   "id": "e4c89ae9",
   "metadata": {},
   "source": [
    "### Christopher Flores Zapata - 117260513"
   ]
  },
  {
   "cell_type": "markdown",
   "id": "97a06f74",
   "metadata": {},
   "source": [
    "## Exploración de Datos"
   ]
  },
  {
   "cell_type": "code",
   "execution_count": 1,
   "id": "6126d890",
   "metadata": {},
   "outputs": [],
   "source": [
    "#SE TRAEN LOS DATOS DE GITHUB\n",
    "url <- \"https://github.com/Christopherdtacom/Vehicules-Sells/raw/main/Cardetailsv3.csv\"\n",
    "data <- read.csv(url)"
   ]
  },
  {
   "cell_type": "code",
   "execution_count": 2,
   "id": "3966171c",
   "metadata": {},
   "outputs": [
    {
     "data": {
      "text/html": [
       "<table class=\"dataframe\">\n",
       "<caption>A data.frame: 6 × 13</caption>\n",
       "<thead>\n",
       "\t<tr><th></th><th scope=col>name</th><th scope=col>year</th><th scope=col>selling_price</th><th scope=col>km_driven</th><th scope=col>fuel</th><th scope=col>seller_type</th><th scope=col>transmission</th><th scope=col>owner</th><th scope=col>mileage</th><th scope=col>engine</th><th scope=col>max_power</th><th scope=col>torque</th><th scope=col>seats</th></tr>\n",
       "\t<tr><th></th><th scope=col>&lt;chr&gt;</th><th scope=col>&lt;int&gt;</th><th scope=col>&lt;int&gt;</th><th scope=col>&lt;int&gt;</th><th scope=col>&lt;chr&gt;</th><th scope=col>&lt;chr&gt;</th><th scope=col>&lt;chr&gt;</th><th scope=col>&lt;chr&gt;</th><th scope=col>&lt;chr&gt;</th><th scope=col>&lt;chr&gt;</th><th scope=col>&lt;chr&gt;</th><th scope=col>&lt;chr&gt;</th><th scope=col>&lt;int&gt;</th></tr>\n",
       "</thead>\n",
       "<tbody>\n",
       "\t<tr><th scope=row>1</th><td>Maruti Swift Dzire VDI       </td><td>2014</td><td>450000</td><td>145500</td><td>Diesel</td><td>Individual</td><td>Manual</td><td>First Owner </td><td>23.4 kmpl </td><td>1248 CC</td><td>74 bhp    </td><td>190Nm@ 2000rpm          </td><td>5</td></tr>\n",
       "\t<tr><th scope=row>2</th><td>Skoda Rapid 1.5 TDI Ambition </td><td>2014</td><td>370000</td><td>120000</td><td>Diesel</td><td>Individual</td><td>Manual</td><td>Second Owner</td><td>21.14 kmpl</td><td>1498 CC</td><td>103.52 bhp</td><td>250Nm@ 1500-2500rpm     </td><td>5</td></tr>\n",
       "\t<tr><th scope=row>3</th><td>Honda City 2017-2020 EXi     </td><td>2006</td><td>158000</td><td>140000</td><td>Petrol</td><td>Individual</td><td>Manual</td><td>Third Owner </td><td>17.7 kmpl </td><td>1497 CC</td><td>78 bhp    </td><td>12.7@ 2,700(kgm@ rpm)   </td><td>5</td></tr>\n",
       "\t<tr><th scope=row>4</th><td>Hyundai i20 Sportz Diesel    </td><td>2010</td><td>225000</td><td>127000</td><td>Diesel</td><td>Individual</td><td>Manual</td><td>First Owner </td><td>23.0 kmpl </td><td>1396 CC</td><td>90 bhp    </td><td>22.4 kgm at 1750-2750rpm</td><td>5</td></tr>\n",
       "\t<tr><th scope=row>5</th><td>Maruti Swift VXI BSIII       </td><td>2007</td><td>130000</td><td>120000</td><td>Petrol</td><td>Individual</td><td>Manual</td><td>First Owner </td><td>16.1 kmpl </td><td>1298 CC</td><td>88.2 bhp  </td><td>11.5@ 4,500(kgm@ rpm)   </td><td>5</td></tr>\n",
       "\t<tr><th scope=row>6</th><td>Hyundai Xcent 1.2 VTVT E Plus</td><td>2017</td><td>440000</td><td> 45000</td><td>Petrol</td><td>Individual</td><td>Manual</td><td>First Owner </td><td>20.14 kmpl</td><td>1197 CC</td><td>81.86 bhp </td><td>113.75nm@ 4000rpm       </td><td>5</td></tr>\n",
       "</tbody>\n",
       "</table>\n"
      ],
      "text/latex": [
       "A data.frame: 6 × 13\n",
       "\\begin{tabular}{r|lllllllllllll}\n",
       "  & name & year & selling\\_price & km\\_driven & fuel & seller\\_type & transmission & owner & mileage & engine & max\\_power & torque & seats\\\\\n",
       "  & <chr> & <int> & <int> & <int> & <chr> & <chr> & <chr> & <chr> & <chr> & <chr> & <chr> & <chr> & <int>\\\\\n",
       "\\hline\n",
       "\t1 & Maruti Swift Dzire VDI        & 2014 & 450000 & 145500 & Diesel & Individual & Manual & First Owner  & 23.4 kmpl  & 1248 CC & 74 bhp     & 190Nm@ 2000rpm           & 5\\\\\n",
       "\t2 & Skoda Rapid 1.5 TDI Ambition  & 2014 & 370000 & 120000 & Diesel & Individual & Manual & Second Owner & 21.14 kmpl & 1498 CC & 103.52 bhp & 250Nm@ 1500-2500rpm      & 5\\\\\n",
       "\t3 & Honda City 2017-2020 EXi      & 2006 & 158000 & 140000 & Petrol & Individual & Manual & Third Owner  & 17.7 kmpl  & 1497 CC & 78 bhp     & 12.7@ 2,700(kgm@ rpm)    & 5\\\\\n",
       "\t4 & Hyundai i20 Sportz Diesel     & 2010 & 225000 & 127000 & Diesel & Individual & Manual & First Owner  & 23.0 kmpl  & 1396 CC & 90 bhp     & 22.4 kgm at 1750-2750rpm & 5\\\\\n",
       "\t5 & Maruti Swift VXI BSIII        & 2007 & 130000 & 120000 & Petrol & Individual & Manual & First Owner  & 16.1 kmpl  & 1298 CC & 88.2 bhp   & 11.5@ 4,500(kgm@ rpm)    & 5\\\\\n",
       "\t6 & Hyundai Xcent 1.2 VTVT E Plus & 2017 & 440000 &  45000 & Petrol & Individual & Manual & First Owner  & 20.14 kmpl & 1197 CC & 81.86 bhp  & 113.75nm@ 4000rpm        & 5\\\\\n",
       "\\end{tabular}\n"
      ],
      "text/markdown": [
       "\n",
       "A data.frame: 6 × 13\n",
       "\n",
       "| <!--/--> | name &lt;chr&gt; | year &lt;int&gt; | selling_price &lt;int&gt; | km_driven &lt;int&gt; | fuel &lt;chr&gt; | seller_type &lt;chr&gt; | transmission &lt;chr&gt; | owner &lt;chr&gt; | mileage &lt;chr&gt; | engine &lt;chr&gt; | max_power &lt;chr&gt; | torque &lt;chr&gt; | seats &lt;int&gt; |\n",
       "|---|---|---|---|---|---|---|---|---|---|---|---|---|---|\n",
       "| 1 | Maruti Swift Dzire VDI        | 2014 | 450000 | 145500 | Diesel | Individual | Manual | First Owner  | 23.4 kmpl  | 1248 CC | 74 bhp     | 190Nm@ 2000rpm           | 5 |\n",
       "| 2 | Skoda Rapid 1.5 TDI Ambition  | 2014 | 370000 | 120000 | Diesel | Individual | Manual | Second Owner | 21.14 kmpl | 1498 CC | 103.52 bhp | 250Nm@ 1500-2500rpm      | 5 |\n",
       "| 3 | Honda City 2017-2020 EXi      | 2006 | 158000 | 140000 | Petrol | Individual | Manual | Third Owner  | 17.7 kmpl  | 1497 CC | 78 bhp     | 12.7@ 2,700(kgm@ rpm)    | 5 |\n",
       "| 4 | Hyundai i20 Sportz Diesel     | 2010 | 225000 | 127000 | Diesel | Individual | Manual | First Owner  | 23.0 kmpl  | 1396 CC | 90 bhp     | 22.4 kgm at 1750-2750rpm | 5 |\n",
       "| 5 | Maruti Swift VXI BSIII        | 2007 | 130000 | 120000 | Petrol | Individual | Manual | First Owner  | 16.1 kmpl  | 1298 CC | 88.2 bhp   | 11.5@ 4,500(kgm@ rpm)    | 5 |\n",
       "| 6 | Hyundai Xcent 1.2 VTVT E Plus | 2017 | 440000 |  45000 | Petrol | Individual | Manual | First Owner  | 20.14 kmpl | 1197 CC | 81.86 bhp  | 113.75nm@ 4000rpm        | 5 |\n",
       "\n"
      ],
      "text/plain": [
       "  name                          year selling_price km_driven fuel   seller_type\n",
       "1 Maruti Swift Dzire VDI        2014 450000        145500    Diesel Individual \n",
       "2 Skoda Rapid 1.5 TDI Ambition  2014 370000        120000    Diesel Individual \n",
       "3 Honda City 2017-2020 EXi      2006 158000        140000    Petrol Individual \n",
       "4 Hyundai i20 Sportz Diesel     2010 225000        127000    Diesel Individual \n",
       "5 Maruti Swift VXI BSIII        2007 130000        120000    Petrol Individual \n",
       "6 Hyundai Xcent 1.2 VTVT E Plus 2017 440000         45000    Petrol Individual \n",
       "  transmission owner        mileage    engine  max_power \n",
       "1 Manual       First Owner  23.4 kmpl  1248 CC 74 bhp    \n",
       "2 Manual       Second Owner 21.14 kmpl 1498 CC 103.52 bhp\n",
       "3 Manual       Third Owner  17.7 kmpl  1497 CC 78 bhp    \n",
       "4 Manual       First Owner  23.0 kmpl  1396 CC 90 bhp    \n",
       "5 Manual       First Owner  16.1 kmpl  1298 CC 88.2 bhp  \n",
       "6 Manual       First Owner  20.14 kmpl 1197 CC 81.86 bhp \n",
       "  torque                   seats\n",
       "1 190Nm@ 2000rpm           5    \n",
       "2 250Nm@ 1500-2500rpm      5    \n",
       "3 12.7@ 2,700(kgm@ rpm)    5    \n",
       "4 22.4 kgm at 1750-2750rpm 5    \n",
       "5 11.5@ 4,500(kgm@ rpm)    5    \n",
       "6 113.75nm@ 4000rpm        5    "
      ]
     },
     "metadata": {},
     "output_type": "display_data"
    }
   ],
   "source": [
    "# Visualizar las primeras filas del conjunto de datos\n",
    "head(data)"
   ]
  },
  {
   "cell_type": "code",
   "execution_count": 3,
   "id": "9f7e4abc",
   "metadata": {
    "scrolled": true
   },
   "outputs": [
    {
     "data": {
      "text/html": [
       "<table class=\"dataframe\">\n",
       "<caption>A data.frame: 6 × 14</caption>\n",
       "<thead>\n",
       "\t<tr><th></th><th scope=col>name</th><th scope=col>year</th><th scope=col>selling_price</th><th scope=col>km_driven</th><th scope=col>fuel</th><th scope=col>seller_type</th><th scope=col>transmission</th><th scope=col>owner</th><th scope=col>mileage</th><th scope=col>engine</th><th scope=col>max_power</th><th scope=col>torque</th><th scope=col>seats</th><th scope=col>price_usd</th></tr>\n",
       "\t<tr><th></th><th scope=col>&lt;chr&gt;</th><th scope=col>&lt;int&gt;</th><th scope=col>&lt;int&gt;</th><th scope=col>&lt;int&gt;</th><th scope=col>&lt;chr&gt;</th><th scope=col>&lt;chr&gt;</th><th scope=col>&lt;chr&gt;</th><th scope=col>&lt;chr&gt;</th><th scope=col>&lt;chr&gt;</th><th scope=col>&lt;chr&gt;</th><th scope=col>&lt;chr&gt;</th><th scope=col>&lt;chr&gt;</th><th scope=col>&lt;int&gt;</th><th scope=col>&lt;dbl&gt;</th></tr>\n",
       "</thead>\n",
       "<tbody>\n",
       "\t<tr><th scope=row>1</th><td>Maruti Swift Dzire VDI       </td><td>2014</td><td>450000</td><td>145500</td><td>Diesel</td><td>Individual</td><td>Manual</td><td>First Owner </td><td>23.4 kmpl </td><td>1248 CC</td><td>74 bhp    </td><td>190Nm@ 2000rpm          </td><td>5</td><td>5401.135</td></tr>\n",
       "\t<tr><th scope=row>2</th><td>Skoda Rapid 1.5 TDI Ambition </td><td>2014</td><td>370000</td><td>120000</td><td>Diesel</td><td>Individual</td><td>Manual</td><td>Second Owner</td><td>21.14 kmpl</td><td>1498 CC</td><td>103.52 bhp</td><td>250Nm@ 1500-2500rpm     </td><td>5</td><td>4440.933</td></tr>\n",
       "\t<tr><th scope=row>3</th><td>Honda City 2017-2020 EXi     </td><td>2006</td><td>158000</td><td>140000</td><td>Petrol</td><td>Individual</td><td>Manual</td><td>Third Owner </td><td>17.7 kmpl </td><td>1497 CC</td><td>78 bhp    </td><td>12.7@ 2,700(kgm@ rpm)   </td><td>5</td><td>1896.398</td></tr>\n",
       "\t<tr><th scope=row>4</th><td>Hyundai i20 Sportz Diesel    </td><td>2010</td><td>225000</td><td>127000</td><td>Diesel</td><td>Individual</td><td>Manual</td><td>First Owner </td><td>23.0 kmpl </td><td>1396 CC</td><td>90 bhp    </td><td>22.4 kgm at 1750-2750rpm</td><td>5</td><td>2700.567</td></tr>\n",
       "\t<tr><th scope=row>5</th><td>Maruti Swift VXI BSIII       </td><td>2007</td><td>130000</td><td>120000</td><td>Petrol</td><td>Individual</td><td>Manual</td><td>First Owner </td><td>16.1 kmpl </td><td>1298 CC</td><td>88.2 bhp  </td><td>11.5@ 4,500(kgm@ rpm)   </td><td>5</td><td>1560.328</td></tr>\n",
       "\t<tr><th scope=row>6</th><td>Hyundai Xcent 1.2 VTVT E Plus</td><td>2017</td><td>440000</td><td> 45000</td><td>Petrol</td><td>Individual</td><td>Manual</td><td>First Owner </td><td>20.14 kmpl</td><td>1197 CC</td><td>81.86 bhp </td><td>113.75nm@ 4000rpm       </td><td>5</td><td>5281.109</td></tr>\n",
       "</tbody>\n",
       "</table>\n"
      ],
      "text/latex": [
       "A data.frame: 6 × 14\n",
       "\\begin{tabular}{r|llllllllllllll}\n",
       "  & name & year & selling\\_price & km\\_driven & fuel & seller\\_type & transmission & owner & mileage & engine & max\\_power & torque & seats & price\\_usd\\\\\n",
       "  & <chr> & <int> & <int> & <int> & <chr> & <chr> & <chr> & <chr> & <chr> & <chr> & <chr> & <chr> & <int> & <dbl>\\\\\n",
       "\\hline\n",
       "\t1 & Maruti Swift Dzire VDI        & 2014 & 450000 & 145500 & Diesel & Individual & Manual & First Owner  & 23.4 kmpl  & 1248 CC & 74 bhp     & 190Nm@ 2000rpm           & 5 & 5401.135\\\\\n",
       "\t2 & Skoda Rapid 1.5 TDI Ambition  & 2014 & 370000 & 120000 & Diesel & Individual & Manual & Second Owner & 21.14 kmpl & 1498 CC & 103.52 bhp & 250Nm@ 1500-2500rpm      & 5 & 4440.933\\\\\n",
       "\t3 & Honda City 2017-2020 EXi      & 2006 & 158000 & 140000 & Petrol & Individual & Manual & Third Owner  & 17.7 kmpl  & 1497 CC & 78 bhp     & 12.7@ 2,700(kgm@ rpm)    & 5 & 1896.398\\\\\n",
       "\t4 & Hyundai i20 Sportz Diesel     & 2010 & 225000 & 127000 & Diesel & Individual & Manual & First Owner  & 23.0 kmpl  & 1396 CC & 90 bhp     & 22.4 kgm at 1750-2750rpm & 5 & 2700.567\\\\\n",
       "\t5 & Maruti Swift VXI BSIII        & 2007 & 130000 & 120000 & Petrol & Individual & Manual & First Owner  & 16.1 kmpl  & 1298 CC & 88.2 bhp   & 11.5@ 4,500(kgm@ rpm)    & 5 & 1560.328\\\\\n",
       "\t6 & Hyundai Xcent 1.2 VTVT E Plus & 2017 & 440000 &  45000 & Petrol & Individual & Manual & First Owner  & 20.14 kmpl & 1197 CC & 81.86 bhp  & 113.75nm@ 4000rpm        & 5 & 5281.109\\\\\n",
       "\\end{tabular}\n"
      ],
      "text/markdown": [
       "\n",
       "A data.frame: 6 × 14\n",
       "\n",
       "| <!--/--> | name &lt;chr&gt; | year &lt;int&gt; | selling_price &lt;int&gt; | km_driven &lt;int&gt; | fuel &lt;chr&gt; | seller_type &lt;chr&gt; | transmission &lt;chr&gt; | owner &lt;chr&gt; | mileage &lt;chr&gt; | engine &lt;chr&gt; | max_power &lt;chr&gt; | torque &lt;chr&gt; | seats &lt;int&gt; | price_usd &lt;dbl&gt; |\n",
       "|---|---|---|---|---|---|---|---|---|---|---|---|---|---|---|\n",
       "| 1 | Maruti Swift Dzire VDI        | 2014 | 450000 | 145500 | Diesel | Individual | Manual | First Owner  | 23.4 kmpl  | 1248 CC | 74 bhp     | 190Nm@ 2000rpm           | 5 | 5401.135 |\n",
       "| 2 | Skoda Rapid 1.5 TDI Ambition  | 2014 | 370000 | 120000 | Diesel | Individual | Manual | Second Owner | 21.14 kmpl | 1498 CC | 103.52 bhp | 250Nm@ 1500-2500rpm      | 5 | 4440.933 |\n",
       "| 3 | Honda City 2017-2020 EXi      | 2006 | 158000 | 140000 | Petrol | Individual | Manual | Third Owner  | 17.7 kmpl  | 1497 CC | 78 bhp     | 12.7@ 2,700(kgm@ rpm)    | 5 | 1896.398 |\n",
       "| 4 | Hyundai i20 Sportz Diesel     | 2010 | 225000 | 127000 | Diesel | Individual | Manual | First Owner  | 23.0 kmpl  | 1396 CC | 90 bhp     | 22.4 kgm at 1750-2750rpm | 5 | 2700.567 |\n",
       "| 5 | Maruti Swift VXI BSIII        | 2007 | 130000 | 120000 | Petrol | Individual | Manual | First Owner  | 16.1 kmpl  | 1298 CC | 88.2 bhp   | 11.5@ 4,500(kgm@ rpm)    | 5 | 1560.328 |\n",
       "| 6 | Hyundai Xcent 1.2 VTVT E Plus | 2017 | 440000 |  45000 | Petrol | Individual | Manual | First Owner  | 20.14 kmpl | 1197 CC | 81.86 bhp  | 113.75nm@ 4000rpm        | 5 | 5281.109 |\n",
       "\n"
      ],
      "text/plain": [
       "  name                          year selling_price km_driven fuel   seller_type\n",
       "1 Maruti Swift Dzire VDI        2014 450000        145500    Diesel Individual \n",
       "2 Skoda Rapid 1.5 TDI Ambition  2014 370000        120000    Diesel Individual \n",
       "3 Honda City 2017-2020 EXi      2006 158000        140000    Petrol Individual \n",
       "4 Hyundai i20 Sportz Diesel     2010 225000        127000    Diesel Individual \n",
       "5 Maruti Swift VXI BSIII        2007 130000        120000    Petrol Individual \n",
       "6 Hyundai Xcent 1.2 VTVT E Plus 2017 440000         45000    Petrol Individual \n",
       "  transmission owner        mileage    engine  max_power \n",
       "1 Manual       First Owner  23.4 kmpl  1248 CC 74 bhp    \n",
       "2 Manual       Second Owner 21.14 kmpl 1498 CC 103.52 bhp\n",
       "3 Manual       Third Owner  17.7 kmpl  1497 CC 78 bhp    \n",
       "4 Manual       First Owner  23.0 kmpl  1396 CC 90 bhp    \n",
       "5 Manual       First Owner  16.1 kmpl  1298 CC 88.2 bhp  \n",
       "6 Manual       First Owner  20.14 kmpl 1197 CC 81.86 bhp \n",
       "  torque                   seats price_usd\n",
       "1 190Nm@ 2000rpm           5     5401.135 \n",
       "2 250Nm@ 1500-2500rpm      5     4440.933 \n",
       "3 12.7@ 2,700(kgm@ rpm)    5     1896.398 \n",
       "4 22.4 kgm at 1750-2750rpm 5     2700.567 \n",
       "5 11.5@ 4,500(kgm@ rpm)    5     1560.328 \n",
       "6 113.75nm@ 4000rpm        5     5281.109 "
      ]
     },
     "metadata": {},
     "output_type": "display_data"
    }
   ],
   "source": [
    "# Convertir selling_price de INR a USD\n",
    "data$price_usd <- data$selling_price / 83.315829 #Cambio del día apriximado por XE.COM\n",
    "\n",
    "# Mostrar las primeras filas para verificar los cambios\n",
    "head(data)\n"
   ]
  },
  {
   "cell_type": "code",
   "execution_count": 83,
   "id": "372fdc8f",
   "metadata": {},
   "outputs": [
    {
     "data": {
      "text/html": [
       "<table class=\"dataframe\">\n",
       "<caption>A data.frame: 8128 × 19</caption>\n",
       "<thead>\n",
       "\t<tr><th></th><th scope=col>name</th><th scope=col>year</th><th scope=col>selling_price</th><th scope=col>km_driven</th><th scope=col>fuel</th><th scope=col>seller_type</th><th scope=col>transmission</th><th scope=col>owner</th><th scope=col>mileage</th><th scope=col>engine</th><th scope=col>max_power</th><th scope=col>torque</th><th scope=col>seats</th><th scope=col>price_usd</th><th scope=col>fuelCNG</th><th scope=col>fuelDiesel</th><th scope=col>fuelLPG</th><th scope=col>fuelPetrol</th><th scope=col>transmissionManual</th></tr>\n",
       "\t<tr><th></th><th scope=col>&lt;chr&gt;</th><th scope=col>&lt;int&gt;</th><th scope=col>&lt;int&gt;</th><th scope=col>&lt;int&gt;</th><th scope=col>&lt;fct&gt;</th><th scope=col>&lt;fct&gt;</th><th scope=col>&lt;fct&gt;</th><th scope=col>&lt;chr&gt;</th><th scope=col>&lt;dbl&gt;</th><th scope=col>&lt;dbl&gt;</th><th scope=col>&lt;dbl&gt;</th><th scope=col>&lt;chr&gt;</th><th scope=col>&lt;dbl&gt;</th><th scope=col>&lt;dbl&gt;</th><th scope=col>&lt;dbl&gt;</th><th scope=col>&lt;dbl&gt;</th><th scope=col>&lt;dbl&gt;</th><th scope=col>&lt;dbl&gt;</th><th scope=col>&lt;dbl&gt;</th></tr>\n",
       "</thead>\n",
       "<tbody>\n",
       "\t<tr><th scope=row>1</th><td>Maruti Swift Dzire VDI              </td><td>2014</td><td>450000</td><td>145500</td><td>Diesel</td><td>0</td><td>Manual</td><td>First Owner </td><td>23.40000</td><td>1248.000</td><td>   74.000</td><td>190Nm@ 2000rpm          </td><td>5.000000</td><td> 5401.1345</td><td>0</td><td>1</td><td>0</td><td>0</td><td>1</td></tr>\n",
       "\t<tr><th scope=row>2</th><td>Skoda Rapid 1.5 TDI Ambition        </td><td>2014</td><td>370000</td><td>120000</td><td>Diesel</td><td>0</td><td>Manual</td><td>Second Owner</td><td>21.14000</td><td>1498.000</td><td>10352.000</td><td>250Nm@ 1500-2500rpm     </td><td>5.000000</td><td> 4440.9328</td><td>0</td><td>1</td><td>0</td><td>0</td><td>1</td></tr>\n",
       "\t<tr><th scope=row>3</th><td>Honda City 2017-2020 EXi            </td><td>2006</td><td>158000</td><td>140000</td><td>Petrol</td><td>0</td><td>Manual</td><td>Third Owner </td><td>17.70000</td><td>1497.000</td><td>   78.000</td><td>12.7@ 2,700(kgm@ rpm)   </td><td>5.000000</td><td> 1896.3983</td><td>0</td><td>0</td><td>0</td><td>1</td><td>1</td></tr>\n",
       "\t<tr><th scope=row>4</th><td>Hyundai i20 Sportz Diesel           </td><td>2010</td><td>225000</td><td>127000</td><td>Diesel</td><td>0</td><td>Manual</td><td>First Owner </td><td>23.00000</td><td>1396.000</td><td>   90.000</td><td>22.4 kgm at 1750-2750rpm</td><td>5.000000</td><td> 2700.5673</td><td>0</td><td>1</td><td>0</td><td>0</td><td>1</td></tr>\n",
       "\t<tr><th scope=row>5</th><td>Maruti Swift VXI BSIII              </td><td>2007</td><td>130000</td><td>120000</td><td>Petrol</td><td>0</td><td>Manual</td><td>First Owner </td><td>16.10000</td><td>1298.000</td><td>  882.000</td><td>11.5@ 4,500(kgm@ rpm)   </td><td>5.000000</td><td> 1560.3277</td><td>0</td><td>0</td><td>0</td><td>1</td><td>1</td></tr>\n",
       "\t<tr><th scope=row>6</th><td>Hyundai Xcent 1.2 VTVT E Plus       </td><td>2017</td><td>440000</td><td> 45000</td><td>Petrol</td><td>0</td><td>Manual</td><td>First Owner </td><td>20.14000</td><td>1197.000</td><td> 8186.000</td><td>113.75nm@ 4000rpm       </td><td>5.000000</td><td> 5281.1093</td><td>0</td><td>0</td><td>0</td><td>1</td><td>1</td></tr>\n",
       "\t<tr><th scope=row>7</th><td>Maruti Wagon R LXI DUO BSIII        </td><td>2007</td><td> 96000</td><td>175000</td><td>LPG   </td><td>0</td><td>Manual</td><td>First Owner </td><td>17.30000</td><td>1061.000</td><td>  575.000</td><td>7.8@ 4,500(kgm@ rpm)    </td><td>5.000000</td><td> 1152.2420</td><td>0</td><td>0</td><td>1</td><td>0</td><td>1</td></tr>\n",
       "\t<tr><th scope=row>8</th><td>Maruti 800 DX BSII                  </td><td>2001</td><td> 45000</td><td>  5000</td><td>Petrol</td><td>0</td><td>Manual</td><td>Second Owner</td><td>16.10000</td><td> 796.000</td><td>   37.000</td><td>59Nm@ 2500rpm           </td><td>4.000000</td><td>  540.1135</td><td>0</td><td>0</td><td>0</td><td>1</td><td>1</td></tr>\n",
       "\t<tr><th scope=row>9</th><td>Toyota Etios VXD                    </td><td>2011</td><td>350000</td><td> 90000</td><td>Diesel</td><td>0</td><td>Manual</td><td>First Owner </td><td>23.59000</td><td>1364.000</td><td>  671.000</td><td>170Nm@ 1800-2400rpm     </td><td>5.000000</td><td> 4200.8824</td><td>0</td><td>1</td><td>0</td><td>0</td><td>1</td></tr>\n",
       "\t<tr><th scope=row>10</th><td>Ford Figo Diesel Celebration Edition</td><td>2013</td><td>200000</td><td>169000</td><td>Diesel</td><td>0</td><td>Manual</td><td>First Owner </td><td>20.00000</td><td>1399.000</td><td>  681.000</td><td>160Nm@ 2000rpm          </td><td>5.000000</td><td> 2400.5042</td><td>0</td><td>1</td><td>0</td><td>0</td><td>1</td></tr>\n",
       "\t<tr><th scope=row>11</th><td>Renault Duster 110PS Diesel RxL     </td><td>2014</td><td>500000</td><td> 68000</td><td>Diesel</td><td>0</td><td>Manual</td><td>Second Owner</td><td>19.01000</td><td>1461.000</td><td>10845.000</td><td>248Nm@ 2250rpm          </td><td>5.000000</td><td> 6001.2606</td><td>0</td><td>1</td><td>0</td><td>0</td><td>1</td></tr>\n",
       "\t<tr><th scope=row>12</th><td>Maruti Zen LX                       </td><td>2005</td><td> 92000</td><td>100000</td><td>Petrol</td><td>0</td><td>Manual</td><td>Second Owner</td><td>17.30000</td><td> 993.000</td><td>   60.000</td><td>78Nm@ 4500rpm           </td><td>5.000000</td><td> 1104.2319</td><td>0</td><td>0</td><td>0</td><td>1</td><td>1</td></tr>\n",
       "\t<tr><th scope=row>13</th><td>Maruti Swift Dzire VDi              </td><td>2009</td><td>280000</td><td>140000</td><td>Diesel</td><td>0</td><td>Manual</td><td>Second Owner</td><td>19.30000</td><td>1248.000</td><td>  739.000</td><td>190Nm@ 2000rpm          </td><td>5.000000</td><td> 3360.7059</td><td>0</td><td>1</td><td>0</td><td>0</td><td>1</td></tr>\n",
       "\t<tr><th scope=row>14</th><td>Maruti Swift 1.3 VXi                </td><td>2007</td><td>200000</td><td> 80000</td><td>Petrol</td><td>0</td><td>Manual</td><td>Second Owner</td><td>19.41878</td><td>1458.625</td><td> 2764.028</td><td>                        </td><td>5.416719</td><td> 2400.5042</td><td>0</td><td>0</td><td>0</td><td>1</td><td>1</td></tr>\n",
       "\t<tr><th scope=row>15</th><td>Maruti Wagon R LXI Minor            </td><td>2009</td><td>180000</td><td> 90000</td><td>Petrol</td><td>0</td><td>Manual</td><td>Second Owner</td><td>18.90000</td><td>1061.000</td><td>   67.000</td><td>84Nm@ 3500rpm           </td><td>5.000000</td><td> 2160.4538</td><td>0</td><td>0</td><td>0</td><td>1</td><td>1</td></tr>\n",
       "\t<tr><th scope=row>16</th><td>Mahindra KUV 100 mFALCON G80 K8 5str</td><td>2016</td><td>400000</td><td> 40000</td><td>Petrol</td><td>0</td><td>Manual</td><td>First Owner </td><td>18.15000</td><td>1198.000</td><td>   82.000</td><td>115Nm@ 3500-3600rpm     </td><td>5.000000</td><td> 4801.0085</td><td>0</td><td>0</td><td>0</td><td>1</td><td>1</td></tr>\n",
       "\t<tr><th scope=row>17</th><td>Maruti Ertiga SHVS VDI              </td><td>2016</td><td>778000</td><td> 70000</td><td>Diesel</td><td>0</td><td>Manual</td><td>Second Owner</td><td>24.52000</td><td>1248.000</td><td>  885.000</td><td>200Nm@ 1750rpm          </td><td>7.000000</td><td> 9337.9615</td><td>0</td><td>1</td><td>0</td><td>0</td><td>1</td></tr>\n",
       "\t<tr><th scope=row>18</th><td>Hyundai i20 1.4 CRDi Asta           </td><td>2012</td><td>500000</td><td> 53000</td><td>Diesel</td><td>0</td><td>Manual</td><td>Second Owner</td><td>23.00000</td><td>1396.000</td><td>   90.000</td><td>22.4 kgm at 1750-2750rpm</td><td>5.000000</td><td> 6001.2606</td><td>0</td><td>1</td><td>0</td><td>0</td><td>1</td></tr>\n",
       "\t<tr><th scope=row>19</th><td>Maruti Alto LX                      </td><td>2002</td><td>150000</td><td> 80000</td><td>Petrol</td><td>0</td><td>Manual</td><td>Second Owner</td><td>19.70000</td><td> 796.000</td><td>  463.000</td><td>62Nm@ 3000rpm           </td><td>5.000000</td><td> 1800.3782</td><td>0</td><td>0</td><td>0</td><td>1</td><td>1</td></tr>\n",
       "\t<tr><th scope=row>20</th><td>Hyundai i20 2015-2017 Asta 1.4 CRDi </td><td>2016</td><td>680000</td><td>100000</td><td>Diesel</td><td>0</td><td>Manual</td><td>First Owner </td><td>22.54000</td><td>1396.000</td><td> 8873.000</td><td>219.7Nm@ 1500-2750rpm   </td><td>5.000000</td><td> 8161.7144</td><td>0</td><td>1</td><td>0</td><td>0</td><td>1</td></tr>\n",
       "\t<tr><th scope=row>21</th><td>Mahindra Verito 1.5 D4 BSIII        </td><td>2011</td><td>174000</td><td>100000</td><td>Diesel</td><td>0</td><td>Manual</td><td>Second Owner</td><td>21.00000</td><td>1461.000</td><td>  641.000</td><td>160Nm@ 2000rpm          </td><td>5.000000</td><td> 2088.4387</td><td>0</td><td>1</td><td>0</td><td>0</td><td>1</td></tr>\n",
       "\t<tr><th scope=row>22</th><td>Honda WR-V i-DTEC VX                </td><td>2017</td><td>950000</td><td> 50000</td><td>Diesel</td><td>0</td><td>Manual</td><td>First Owner </td><td>25.50000</td><td>1498.000</td><td>  986.000</td><td>200Nm@ 1750rpm          </td><td>5.000000</td><td>11402.3951</td><td>0</td><td>1</td><td>0</td><td>0</td><td>1</td></tr>\n",
       "\t<tr><th scope=row>23</th><td>Maruti Swift Dzire ZDI              </td><td>2015</td><td>525000</td><td> 40000</td><td>Diesel</td><td>0</td><td>Manual</td><td>First Owner </td><td>26.59000</td><td>1248.000</td><td>   74.000</td><td>190Nm@ 2000rpm          </td><td>5.000000</td><td> 6301.3236</td><td>0</td><td>1</td><td>0</td><td>0</td><td>1</td></tr>\n",
       "\t<tr><th scope=row>24</th><td>Maruti SX4 ZDI                      </td><td>2012</td><td>600000</td><td> 72000</td><td>Diesel</td><td>0</td><td>Manual</td><td>First Owner </td><td>21.50000</td><td>1248.000</td><td>  888.000</td><td>200Nm@ 1750rpm          </td><td>5.000000</td><td> 7201.5127</td><td>0</td><td>1</td><td>0</td><td>0</td><td>1</td></tr>\n",
       "\t<tr><th scope=row>25</th><td>Tata Tigor 2017-2020 XZ             </td><td>2018</td><td>500000</td><td> 35000</td><td>Petrol</td><td>0</td><td>Manual</td><td>First Owner </td><td>20.30000</td><td>1199.000</td><td> 8381.000</td><td>114Nm@ 3500rpm          </td><td>5.000000</td><td> 6001.2606</td><td>0</td><td>0</td><td>0</td><td>1</td><td>1</td></tr>\n",
       "\t<tr><th scope=row>26</th><td>Maruti Baleno Delta 1.2             </td><td>2016</td><td>575000</td><td> 45000</td><td>Petrol</td><td>0</td><td>Manual</td><td>First Owner </td><td>21.40000</td><td>1197.000</td><td>  831.000</td><td>115Nm@ 4000rpm          </td><td>5.000000</td><td> 6901.4497</td><td>0</td><td>0</td><td>0</td><td>1</td><td>1</td></tr>\n",
       "\t<tr><th scope=row>27</th><td>Maruti Alto 800 LXI                 </td><td>2017</td><td>275000</td><td> 28000</td><td>Petrol</td><td>0</td><td>Manual</td><td>First Owner </td><td>24.70000</td><td> 796.000</td><td>  473.000</td><td>69Nm@ 3500rpm           </td><td>5.000000</td><td> 3300.6933</td><td>0</td><td>0</td><td>0</td><td>1</td><td>1</td></tr>\n",
       "\t<tr><th scope=row>28</th><td>Chevrolet Enjoy TCDi LTZ 7 Seater   </td><td>2013</td><td>300000</td><td> 70000</td><td>Diesel</td><td>0</td><td>Manual</td><td>First Owner </td><td>18.20000</td><td>1248.000</td><td>  738.000</td><td>172.5Nm@ 1750rpm        </td><td>7.000000</td><td> 3600.7563</td><td>0</td><td>1</td><td>0</td><td>0</td><td>1</td></tr>\n",
       "\t<tr><th scope=row>29</th><td>Maruti Wagon R LXI Minor            </td><td>2009</td><td>220000</td><td>120000</td><td>Petrol</td><td>0</td><td>Manual</td><td>First Owner </td><td>18.90000</td><td>1061.000</td><td>   67.000</td><td>84Nm@ 3500rpm           </td><td>5.000000</td><td> 2640.5547</td><td>0</td><td>0</td><td>0</td><td>1</td><td>1</td></tr>\n",
       "\t<tr><th scope=row>30</th><td>Maruti Omni E MPI STD BS IV         </td><td>2018</td><td>254999</td><td> 25000</td><td>Petrol</td><td>0</td><td>Manual</td><td>First Owner </td><td>16.80000</td><td> 796.000</td><td>  342.000</td><td>59Nm@ 2500rpm           </td><td>8.000000</td><td> 3060.6309</td><td>0</td><td>0</td><td>0</td><td>1</td><td>1</td></tr>\n",
       "\t<tr><th scope=row>⋮</th><td>⋮</td><td>⋮</td><td>⋮</td><td>⋮</td><td>⋮</td><td>⋮</td><td>⋮</td><td>⋮</td><td>⋮</td><td>⋮</td><td>⋮</td><td>⋮</td><td>⋮</td><td>⋮</td><td>⋮</td><td>⋮</td><td>⋮</td><td>⋮</td><td>⋮</td></tr>\n",
       "\t<tr><th scope=row>8099</th><td>Maruti Swift Vdi BSIII                      </td><td>2009</td><td> 307000</td><td>100000</td><td>Diesel</td><td>0</td><td>Manual   </td><td>Second Owner        </td><td>17.80000</td><td>1248.000</td><td>   75.000</td><td>190Nm@ 2000rpm           </td><td>5.000000</td><td> 3684.7740</td><td>0</td><td>1</td><td>0</td><td>0</td><td>1</td></tr>\n",
       "\t<tr><th scope=row>8100</th><td>Mahindra XUV500 W8 2WD                      </td><td>2013</td><td> 750000</td><td>120000</td><td>Diesel</td><td>0</td><td>Manual   </td><td>First Owner         </td><td>15.10000</td><td>2179.000</td><td>  140.000</td><td>330Nm@ 1600-2800rpm      </td><td>7.000000</td><td> 9001.8909</td><td>0</td><td>1</td><td>0</td><td>0</td><td>1</td></tr>\n",
       "\t<tr><th scope=row>8101</th><td>Tata Nexon 1.5 Revotorq XT                  </td><td>2018</td><td> 800000</td><td> 85000</td><td>Diesel</td><td>0</td><td>Manual   </td><td>Second Owner        </td><td>21.50000</td><td>1497.000</td><td> 1085.000</td><td>260Nm@ 1500-2750rpm      </td><td>5.000000</td><td> 9602.0169</td><td>0</td><td>1</td><td>0</td><td>0</td><td>1</td></tr>\n",
       "\t<tr><th scope=row>8102</th><td>Fiat Grande Punto 1.3 Dynamic (Diesel)      </td><td>2012</td><td> 450000</td><td> 70000</td><td>Diesel</td><td>0</td><td>Manual   </td><td>First Owner         </td><td>20.30000</td><td>1248.000</td><td>   75.000</td><td>197Nm@ 1750rpm           </td><td>5.000000</td><td> 5401.1345</td><td>0</td><td>1</td><td>0</td><td>0</td><td>1</td></tr>\n",
       "\t<tr><th scope=row>8103</th><td>Hyundai Verna 1.6 SX CRDi (O)               </td><td>2011</td><td> 450000</td><td>128000</td><td>Diesel</td><td>0</td><td>Manual   </td><td>Second Owner        </td><td>22.32000</td><td>1582.000</td><td>12632.000</td><td>259.8Nm@ 1900-2750rpm    </td><td>5.000000</td><td> 5401.1345</td><td>0</td><td>1</td><td>0</td><td>0</td><td>1</td></tr>\n",
       "\t<tr><th scope=row>8104</th><td>Maruti Swift 1.3 VXi                        </td><td>2006</td><td> 130000</td><td>100000</td><td>Petrol</td><td>0</td><td>Manual   </td><td>Second Owner        </td><td>19.41878</td><td>1458.625</td><td> 2764.028</td><td>                         </td><td>5.416719</td><td> 1560.3277</td><td>0</td><td>0</td><td>0</td><td>1</td><td>1</td></tr>\n",
       "\t<tr><th scope=row>8105</th><td>Honda City 2017-2020 VTEC                   </td><td>2006</td><td> 160000</td><td> 70000</td><td>Petrol</td><td>0</td><td>Manual   </td><td>Second Owner        </td><td>16.90000</td><td>1497.000</td><td>  100.000</td><td>13.5@ 4,800(kgm@ rpm)    </td><td>5.000000</td><td> 1920.4034</td><td>0</td><td>0</td><td>0</td><td>1</td><td>1</td></tr>\n",
       "\t<tr><th scope=row>8106</th><td>Honda City 1.3 EXI                          </td><td>2004</td><td> 135000</td><td>120000</td><td>Petrol</td><td>0</td><td>Manual   </td><td>Second Owner        </td><td>13.00000</td><td>1343.000</td><td>   90.000</td><td>11.3kgm@ 4700rpm         </td><td>5.000000</td><td> 1620.3404</td><td>0</td><td>0</td><td>0</td><td>1</td><td>1</td></tr>\n",
       "\t<tr><th scope=row>8107</th><td>Hyundai Verna 1.6 SX                        </td><td>2012</td><td> 450000</td><td>128000</td><td>Diesel</td><td>0</td><td>Manual   </td><td>Second Owner        </td><td>22.32000</td><td>1582.000</td><td>12632.000</td><td>259.8Nm@ 1900-2750rpm    </td><td>5.000000</td><td> 5401.1345</td><td>0</td><td>1</td><td>0</td><td>0</td><td>1</td></tr>\n",
       "\t<tr><th scope=row>8108</th><td>Renault Duster 85PS Diesel RxL Plus         </td><td>2013</td><td> 325000</td><td>100000</td><td>Diesel</td><td>0</td><td>Manual   </td><td>Third Owner         </td><td>20.45000</td><td>1461.000</td><td>  838.000</td><td>200Nm@ 1900rpm           </td><td>5.000000</td><td> 3900.8194</td><td>0</td><td>1</td><td>0</td><td>0</td><td>1</td></tr>\n",
       "\t<tr><th scope=row>8109</th><td>Kia Seltos HTX Plus AT D                    </td><td>2019</td><td>1575000</td><td> 20000</td><td>Diesel</td><td>0</td><td>Automatic</td><td>First Owner         </td><td>17.80000</td><td>1493.000</td><td> 1134.000</td><td>250nm@ 1500-2750rpm      </td><td>5.000000</td><td>18903.9708</td><td>0</td><td>1</td><td>0</td><td>0</td><td>0</td></tr>\n",
       "\t<tr><th scope=row>8110</th><td>Ford Freestyle Titanium Plus Diesel BSIV    </td><td>2018</td><td> 750000</td><td> 24000</td><td>Diesel</td><td>0</td><td>Manual   </td><td>First Owner         </td><td>24.40000</td><td>1498.000</td><td> 9863.000</td><td>215Nm@ 1750-3000rpm      </td><td>5.000000</td><td> 9001.8909</td><td>0</td><td>1</td><td>0</td><td>0</td><td>1</td></tr>\n",
       "\t<tr><th scope=row>8111</th><td>Maruti Celerio VXI                          </td><td>2017</td><td> 425000</td><td> 12000</td><td>Petrol</td><td>0</td><td>Manual   </td><td>First Owner         </td><td>23.10000</td><td> 998.000</td><td> 6704.000</td><td>90Nm@ 3500rpm            </td><td>5.000000</td><td> 5101.0715</td><td>0</td><td>0</td><td>0</td><td>1</td><td>1</td></tr>\n",
       "\t<tr><th scope=row>8112</th><td>Toyota Etios Cross 1.4L GD                  </td><td>2014</td><td> 425000</td><td> 50000</td><td>Diesel</td><td>0</td><td>Manual   </td><td>First Owner         </td><td>23.59000</td><td>1364.000</td><td> 6706.000</td><td>170Nm@ 1800-2400rpm      </td><td>5.000000</td><td> 5101.0715</td><td>0</td><td>1</td><td>0</td><td>0</td><td>1</td></tr>\n",
       "\t<tr><th scope=row>8113</th><td>Ford Freestyle Titanium Plus Diesel BSIV    </td><td>2018</td><td> 746000</td><td> 24000</td><td>Diesel</td><td>0</td><td>Manual   </td><td>First Owner         </td><td>24.40000</td><td>1498.000</td><td> 9863.000</td><td>215Nm@ 1750-3000rpm      </td><td>5.000000</td><td> 8953.8808</td><td>0</td><td>1</td><td>0</td><td>0</td><td>1</td></tr>\n",
       "\t<tr><th scope=row>8114</th><td>Toyota Innova 2.5 GX (Diesel) 8 Seater BS IV</td><td>2010</td><td> 425000</td><td>129000</td><td>Diesel</td><td>0</td><td>Manual   </td><td>First Owner         </td><td>12.80000</td><td>2494.000</td><td>  102.000</td><td>20.4@ 1400-3400(kgm@ rpm)</td><td>8.000000</td><td> 5101.0715</td><td>0</td><td>1</td><td>0</td><td>0</td><td>1</td></tr>\n",
       "\t<tr><th scope=row>8115</th><td>Maruti Alto LXi                             </td><td>2011</td><td> 200000</td><td> 73000</td><td>Petrol</td><td>0</td><td>Manual   </td><td>First Owner         </td><td>19.70000</td><td> 796.000</td><td>  463.000</td><td>62Nm@ 3000rpm            </td><td>5.000000</td><td> 2400.5042</td><td>0</td><td>0</td><td>0</td><td>1</td><td>1</td></tr>\n",
       "\t<tr><th scope=row>8116</th><td>Maruti 800 AC                               </td><td>1997</td><td>  40000</td><td>120000</td><td>Petrol</td><td>0</td><td>Manual   </td><td>First Owner         </td><td>16.10000</td><td> 796.000</td><td>   37.000</td><td>59Nm@ 2500rpm            </td><td>4.000000</td><td>  480.1008</td><td>0</td><td>0</td><td>0</td><td>1</td><td>1</td></tr>\n",
       "\t<tr><th scope=row>8117</th><td>Maruti Alto K10 VXI Airbag                  </td><td>2017</td><td> 340000</td><td> 45000</td><td>Petrol</td><td>0</td><td>Manual   </td><td>First Owner         </td><td>23.95000</td><td> 998.000</td><td>  671.000</td><td>90Nm@ 3500rpm            </td><td>5.000000</td><td> 4080.8572</td><td>0</td><td>0</td><td>0</td><td>1</td><td>1</td></tr>\n",
       "\t<tr><th scope=row>8118</th><td>Maruti Swift Dzire VDI                      </td><td>2015</td><td> 625000</td><td> 50000</td><td>Diesel</td><td>0</td><td>Manual   </td><td>First Owner         </td><td>26.59000</td><td>1248.000</td><td>   74.000</td><td>190Nm@ 2000rpm           </td><td>5.000000</td><td> 7501.5757</td><td>0</td><td>1</td><td>0</td><td>0</td><td>1</td></tr>\n",
       "\t<tr><th scope=row>8119</th><td>Hyundai i20 Magna                           </td><td>2013</td><td> 380000</td><td> 25000</td><td>Petrol</td><td>0</td><td>Manual   </td><td>First Owner         </td><td>18.50000</td><td>1197.000</td><td> 8285.000</td><td>113.7Nm@ 4000rpm         </td><td>5.000000</td><td> 4560.9580</td><td>0</td><td>0</td><td>0</td><td>1</td><td>1</td></tr>\n",
       "\t<tr><th scope=row>8120</th><td>Maruti Wagon R LXI Optional                 </td><td>2017</td><td> 360000</td><td> 80000</td><td>Petrol</td><td>0</td><td>Manual   </td><td>First Owner         </td><td>20.51000</td><td> 998.000</td><td> 6704.000</td><td>90Nm@ 3500rpm            </td><td>5.000000</td><td> 4320.9076</td><td>0</td><td>0</td><td>0</td><td>1</td><td>1</td></tr>\n",
       "\t<tr><th scope=row>8121</th><td>Hyundai Santro Xing GLS                     </td><td>2008</td><td> 120000</td><td>191000</td><td>Petrol</td><td>0</td><td>Manual   </td><td>First Owner         </td><td>17.92000</td><td>1086.000</td><td>  621.000</td><td>96.1Nm@ 3000rpm          </td><td>5.000000</td><td> 1440.3025</td><td>0</td><td>0</td><td>0</td><td>1</td><td>1</td></tr>\n",
       "\t<tr><th scope=row>8122</th><td>Maruti Wagon R VXI BS IV with ABS           </td><td>2013</td><td> 260000</td><td> 50000</td><td>Petrol</td><td>0</td><td>Manual   </td><td>Second Owner        </td><td>18.90000</td><td> 998.000</td><td>  671.000</td><td>90Nm@ 3500rpm            </td><td>5.000000</td><td> 3120.6555</td><td>0</td><td>0</td><td>0</td><td>1</td><td>1</td></tr>\n",
       "\t<tr><th scope=row>8123</th><td>Hyundai i20 Magna 1.4 CRDi                  </td><td>2014</td><td> 475000</td><td> 80000</td><td>Diesel</td><td>0</td><td>Manual   </td><td>Second Owner        </td><td>22.54000</td><td>1396.000</td><td> 8873.000</td><td>219.7Nm@ 1500-2750rpm    </td><td>5.000000</td><td> 5701.1975</td><td>0</td><td>1</td><td>0</td><td>0</td><td>1</td></tr>\n",
       "\t<tr><th scope=row>8124</th><td>Hyundai i20 Magna                           </td><td>2013</td><td> 320000</td><td>110000</td><td>Petrol</td><td>0</td><td>Manual   </td><td>First Owner         </td><td>18.50000</td><td>1197.000</td><td> 8285.000</td><td>113.7Nm@ 4000rpm         </td><td>5.000000</td><td> 3840.8068</td><td>0</td><td>0</td><td>0</td><td>1</td><td>1</td></tr>\n",
       "\t<tr><th scope=row>8125</th><td><span style=white-space:pre-wrap>Hyundai Verna CRDi SX                       </span></td><td>2007</td><td> 135000</td><td>119000</td><td>Diesel</td><td>0</td><td><span style=white-space:pre-wrap>Manual   </span></td><td>Fourth &amp; Above Owner</td><td>16.80000</td><td>1493.000</td><td><span style=white-space:pre-wrap>  110.000</span></td><td>24@ 1,900-2,750(kgm@ rpm)</td><td>5.000000</td><td> 1620.3404</td><td>0</td><td>1</td><td>0</td><td>0</td><td>1</td></tr>\n",
       "\t<tr><th scope=row>8126</th><td>Maruti Swift Dzire ZDi                      </td><td>2009</td><td> 382000</td><td>120000</td><td>Diesel</td><td>0</td><td>Manual   </td><td>First Owner         </td><td>19.30000</td><td>1248.000</td><td>  739.000</td><td>190Nm@ 2000rpm           </td><td>5.000000</td><td> 4584.9631</td><td>0</td><td>1</td><td>0</td><td>0</td><td>1</td></tr>\n",
       "\t<tr><th scope=row>8127</th><td>Tata Indigo CR4                             </td><td>2013</td><td> 290000</td><td> 25000</td><td>Diesel</td><td>0</td><td>Manual   </td><td>First Owner         </td><td>23.57000</td><td>1396.000</td><td>   70.000</td><td>140Nm@ 1800-3000rpm      </td><td>5.000000</td><td> 3480.7311</td><td>0</td><td>1</td><td>0</td><td>0</td><td>1</td></tr>\n",
       "\t<tr><th scope=row>8128</th><td>Tata Indigo CR4                             </td><td>2013</td><td> 290000</td><td> 25000</td><td>Diesel</td><td>0</td><td>Manual   </td><td>First Owner         </td><td>23.57000</td><td>1396.000</td><td>   70.000</td><td>140Nm@ 1800-3000rpm      </td><td>5.000000</td><td> 3480.7311</td><td>0</td><td>1</td><td>0</td><td>0</td><td>1</td></tr>\n",
       "</tbody>\n",
       "</table>\n"
      ],
      "text/latex": [
       "A data.frame: 8128 × 19\n",
       "\\begin{tabular}{r|lllllllllllllllllll}\n",
       "  & name & year & selling\\_price & km\\_driven & fuel & seller\\_type & transmission & owner & mileage & engine & max\\_power & torque & seats & price\\_usd & fuelCNG & fuelDiesel & fuelLPG & fuelPetrol & transmissionManual\\\\\n",
       "  & <chr> & <int> & <int> & <int> & <fct> & <fct> & <fct> & <chr> & <dbl> & <dbl> & <dbl> & <chr> & <dbl> & <dbl> & <dbl> & <dbl> & <dbl> & <dbl> & <dbl>\\\\\n",
       "\\hline\n",
       "\t1 & Maruti Swift Dzire VDI               & 2014 & 450000 & 145500 & Diesel & 0 & Manual & First Owner  & 23.40000 & 1248.000 &    74.000 & 190Nm@ 2000rpm           & 5.000000 &  5401.1345 & 0 & 1 & 0 & 0 & 1\\\\\n",
       "\t2 & Skoda Rapid 1.5 TDI Ambition         & 2014 & 370000 & 120000 & Diesel & 0 & Manual & Second Owner & 21.14000 & 1498.000 & 10352.000 & 250Nm@ 1500-2500rpm      & 5.000000 &  4440.9328 & 0 & 1 & 0 & 0 & 1\\\\\n",
       "\t3 & Honda City 2017-2020 EXi             & 2006 & 158000 & 140000 & Petrol & 0 & Manual & Third Owner  & 17.70000 & 1497.000 &    78.000 & 12.7@ 2,700(kgm@ rpm)    & 5.000000 &  1896.3983 & 0 & 0 & 0 & 1 & 1\\\\\n",
       "\t4 & Hyundai i20 Sportz Diesel            & 2010 & 225000 & 127000 & Diesel & 0 & Manual & First Owner  & 23.00000 & 1396.000 &    90.000 & 22.4 kgm at 1750-2750rpm & 5.000000 &  2700.5673 & 0 & 1 & 0 & 0 & 1\\\\\n",
       "\t5 & Maruti Swift VXI BSIII               & 2007 & 130000 & 120000 & Petrol & 0 & Manual & First Owner  & 16.10000 & 1298.000 &   882.000 & 11.5@ 4,500(kgm@ rpm)    & 5.000000 &  1560.3277 & 0 & 0 & 0 & 1 & 1\\\\\n",
       "\t6 & Hyundai Xcent 1.2 VTVT E Plus        & 2017 & 440000 &  45000 & Petrol & 0 & Manual & First Owner  & 20.14000 & 1197.000 &  8186.000 & 113.75nm@ 4000rpm        & 5.000000 &  5281.1093 & 0 & 0 & 0 & 1 & 1\\\\\n",
       "\t7 & Maruti Wagon R LXI DUO BSIII         & 2007 &  96000 & 175000 & LPG    & 0 & Manual & First Owner  & 17.30000 & 1061.000 &   575.000 & 7.8@ 4,500(kgm@ rpm)     & 5.000000 &  1152.2420 & 0 & 0 & 1 & 0 & 1\\\\\n",
       "\t8 & Maruti 800 DX BSII                   & 2001 &  45000 &   5000 & Petrol & 0 & Manual & Second Owner & 16.10000 &  796.000 &    37.000 & 59Nm@ 2500rpm            & 4.000000 &   540.1135 & 0 & 0 & 0 & 1 & 1\\\\\n",
       "\t9 & Toyota Etios VXD                     & 2011 & 350000 &  90000 & Diesel & 0 & Manual & First Owner  & 23.59000 & 1364.000 &   671.000 & 170Nm@ 1800-2400rpm      & 5.000000 &  4200.8824 & 0 & 1 & 0 & 0 & 1\\\\\n",
       "\t10 & Ford Figo Diesel Celebration Edition & 2013 & 200000 & 169000 & Diesel & 0 & Manual & First Owner  & 20.00000 & 1399.000 &   681.000 & 160Nm@ 2000rpm           & 5.000000 &  2400.5042 & 0 & 1 & 0 & 0 & 1\\\\\n",
       "\t11 & Renault Duster 110PS Diesel RxL      & 2014 & 500000 &  68000 & Diesel & 0 & Manual & Second Owner & 19.01000 & 1461.000 & 10845.000 & 248Nm@ 2250rpm           & 5.000000 &  6001.2606 & 0 & 1 & 0 & 0 & 1\\\\\n",
       "\t12 & Maruti Zen LX                        & 2005 &  92000 & 100000 & Petrol & 0 & Manual & Second Owner & 17.30000 &  993.000 &    60.000 & 78Nm@ 4500rpm            & 5.000000 &  1104.2319 & 0 & 0 & 0 & 1 & 1\\\\\n",
       "\t13 & Maruti Swift Dzire VDi               & 2009 & 280000 & 140000 & Diesel & 0 & Manual & Second Owner & 19.30000 & 1248.000 &   739.000 & 190Nm@ 2000rpm           & 5.000000 &  3360.7059 & 0 & 1 & 0 & 0 & 1\\\\\n",
       "\t14 & Maruti Swift 1.3 VXi                 & 2007 & 200000 &  80000 & Petrol & 0 & Manual & Second Owner & 19.41878 & 1458.625 &  2764.028 &                          & 5.416719 &  2400.5042 & 0 & 0 & 0 & 1 & 1\\\\\n",
       "\t15 & Maruti Wagon R LXI Minor             & 2009 & 180000 &  90000 & Petrol & 0 & Manual & Second Owner & 18.90000 & 1061.000 &    67.000 & 84Nm@ 3500rpm            & 5.000000 &  2160.4538 & 0 & 0 & 0 & 1 & 1\\\\\n",
       "\t16 & Mahindra KUV 100 mFALCON G80 K8 5str & 2016 & 400000 &  40000 & Petrol & 0 & Manual & First Owner  & 18.15000 & 1198.000 &    82.000 & 115Nm@ 3500-3600rpm      & 5.000000 &  4801.0085 & 0 & 0 & 0 & 1 & 1\\\\\n",
       "\t17 & Maruti Ertiga SHVS VDI               & 2016 & 778000 &  70000 & Diesel & 0 & Manual & Second Owner & 24.52000 & 1248.000 &   885.000 & 200Nm@ 1750rpm           & 7.000000 &  9337.9615 & 0 & 1 & 0 & 0 & 1\\\\\n",
       "\t18 & Hyundai i20 1.4 CRDi Asta            & 2012 & 500000 &  53000 & Diesel & 0 & Manual & Second Owner & 23.00000 & 1396.000 &    90.000 & 22.4 kgm at 1750-2750rpm & 5.000000 &  6001.2606 & 0 & 1 & 0 & 0 & 1\\\\\n",
       "\t19 & Maruti Alto LX                       & 2002 & 150000 &  80000 & Petrol & 0 & Manual & Second Owner & 19.70000 &  796.000 &   463.000 & 62Nm@ 3000rpm            & 5.000000 &  1800.3782 & 0 & 0 & 0 & 1 & 1\\\\\n",
       "\t20 & Hyundai i20 2015-2017 Asta 1.4 CRDi  & 2016 & 680000 & 100000 & Diesel & 0 & Manual & First Owner  & 22.54000 & 1396.000 &  8873.000 & 219.7Nm@ 1500-2750rpm    & 5.000000 &  8161.7144 & 0 & 1 & 0 & 0 & 1\\\\\n",
       "\t21 & Mahindra Verito 1.5 D4 BSIII         & 2011 & 174000 & 100000 & Diesel & 0 & Manual & Second Owner & 21.00000 & 1461.000 &   641.000 & 160Nm@ 2000rpm           & 5.000000 &  2088.4387 & 0 & 1 & 0 & 0 & 1\\\\\n",
       "\t22 & Honda WR-V i-DTEC VX                 & 2017 & 950000 &  50000 & Diesel & 0 & Manual & First Owner  & 25.50000 & 1498.000 &   986.000 & 200Nm@ 1750rpm           & 5.000000 & 11402.3951 & 0 & 1 & 0 & 0 & 1\\\\\n",
       "\t23 & Maruti Swift Dzire ZDI               & 2015 & 525000 &  40000 & Diesel & 0 & Manual & First Owner  & 26.59000 & 1248.000 &    74.000 & 190Nm@ 2000rpm           & 5.000000 &  6301.3236 & 0 & 1 & 0 & 0 & 1\\\\\n",
       "\t24 & Maruti SX4 ZDI                       & 2012 & 600000 &  72000 & Diesel & 0 & Manual & First Owner  & 21.50000 & 1248.000 &   888.000 & 200Nm@ 1750rpm           & 5.000000 &  7201.5127 & 0 & 1 & 0 & 0 & 1\\\\\n",
       "\t25 & Tata Tigor 2017-2020 XZ              & 2018 & 500000 &  35000 & Petrol & 0 & Manual & First Owner  & 20.30000 & 1199.000 &  8381.000 & 114Nm@ 3500rpm           & 5.000000 &  6001.2606 & 0 & 0 & 0 & 1 & 1\\\\\n",
       "\t26 & Maruti Baleno Delta 1.2              & 2016 & 575000 &  45000 & Petrol & 0 & Manual & First Owner  & 21.40000 & 1197.000 &   831.000 & 115Nm@ 4000rpm           & 5.000000 &  6901.4497 & 0 & 0 & 0 & 1 & 1\\\\\n",
       "\t27 & Maruti Alto 800 LXI                  & 2017 & 275000 &  28000 & Petrol & 0 & Manual & First Owner  & 24.70000 &  796.000 &   473.000 & 69Nm@ 3500rpm            & 5.000000 &  3300.6933 & 0 & 0 & 0 & 1 & 1\\\\\n",
       "\t28 & Chevrolet Enjoy TCDi LTZ 7 Seater    & 2013 & 300000 &  70000 & Diesel & 0 & Manual & First Owner  & 18.20000 & 1248.000 &   738.000 & 172.5Nm@ 1750rpm         & 7.000000 &  3600.7563 & 0 & 1 & 0 & 0 & 1\\\\\n",
       "\t29 & Maruti Wagon R LXI Minor             & 2009 & 220000 & 120000 & Petrol & 0 & Manual & First Owner  & 18.90000 & 1061.000 &    67.000 & 84Nm@ 3500rpm            & 5.000000 &  2640.5547 & 0 & 0 & 0 & 1 & 1\\\\\n",
       "\t30 & Maruti Omni E MPI STD BS IV          & 2018 & 254999 &  25000 & Petrol & 0 & Manual & First Owner  & 16.80000 &  796.000 &   342.000 & 59Nm@ 2500rpm            & 8.000000 &  3060.6309 & 0 & 0 & 0 & 1 & 1\\\\\n",
       "\t⋮ & ⋮ & ⋮ & ⋮ & ⋮ & ⋮ & ⋮ & ⋮ & ⋮ & ⋮ & ⋮ & ⋮ & ⋮ & ⋮ & ⋮ & ⋮ & ⋮ & ⋮ & ⋮ & ⋮\\\\\n",
       "\t8099 & Maruti Swift Vdi BSIII                       & 2009 &  307000 & 100000 & Diesel & 0 & Manual    & Second Owner         & 17.80000 & 1248.000 &    75.000 & 190Nm@ 2000rpm            & 5.000000 &  3684.7740 & 0 & 1 & 0 & 0 & 1\\\\\n",
       "\t8100 & Mahindra XUV500 W8 2WD                       & 2013 &  750000 & 120000 & Diesel & 0 & Manual    & First Owner          & 15.10000 & 2179.000 &   140.000 & 330Nm@ 1600-2800rpm       & 7.000000 &  9001.8909 & 0 & 1 & 0 & 0 & 1\\\\\n",
       "\t8101 & Tata Nexon 1.5 Revotorq XT                   & 2018 &  800000 &  85000 & Diesel & 0 & Manual    & Second Owner         & 21.50000 & 1497.000 &  1085.000 & 260Nm@ 1500-2750rpm       & 5.000000 &  9602.0169 & 0 & 1 & 0 & 0 & 1\\\\\n",
       "\t8102 & Fiat Grande Punto 1.3 Dynamic (Diesel)       & 2012 &  450000 &  70000 & Diesel & 0 & Manual    & First Owner          & 20.30000 & 1248.000 &    75.000 & 197Nm@ 1750rpm            & 5.000000 &  5401.1345 & 0 & 1 & 0 & 0 & 1\\\\\n",
       "\t8103 & Hyundai Verna 1.6 SX CRDi (O)                & 2011 &  450000 & 128000 & Diesel & 0 & Manual    & Second Owner         & 22.32000 & 1582.000 & 12632.000 & 259.8Nm@ 1900-2750rpm     & 5.000000 &  5401.1345 & 0 & 1 & 0 & 0 & 1\\\\\n",
       "\t8104 & Maruti Swift 1.3 VXi                         & 2006 &  130000 & 100000 & Petrol & 0 & Manual    & Second Owner         & 19.41878 & 1458.625 &  2764.028 &                           & 5.416719 &  1560.3277 & 0 & 0 & 0 & 1 & 1\\\\\n",
       "\t8105 & Honda City 2017-2020 VTEC                    & 2006 &  160000 &  70000 & Petrol & 0 & Manual    & Second Owner         & 16.90000 & 1497.000 &   100.000 & 13.5@ 4,800(kgm@ rpm)     & 5.000000 &  1920.4034 & 0 & 0 & 0 & 1 & 1\\\\\n",
       "\t8106 & Honda City 1.3 EXI                           & 2004 &  135000 & 120000 & Petrol & 0 & Manual    & Second Owner         & 13.00000 & 1343.000 &    90.000 & 11.3kgm@ 4700rpm          & 5.000000 &  1620.3404 & 0 & 0 & 0 & 1 & 1\\\\\n",
       "\t8107 & Hyundai Verna 1.6 SX                         & 2012 &  450000 & 128000 & Diesel & 0 & Manual    & Second Owner         & 22.32000 & 1582.000 & 12632.000 & 259.8Nm@ 1900-2750rpm     & 5.000000 &  5401.1345 & 0 & 1 & 0 & 0 & 1\\\\\n",
       "\t8108 & Renault Duster 85PS Diesel RxL Plus          & 2013 &  325000 & 100000 & Diesel & 0 & Manual    & Third Owner          & 20.45000 & 1461.000 &   838.000 & 200Nm@ 1900rpm            & 5.000000 &  3900.8194 & 0 & 1 & 0 & 0 & 1\\\\\n",
       "\t8109 & Kia Seltos HTX Plus AT D                     & 2019 & 1575000 &  20000 & Diesel & 0 & Automatic & First Owner          & 17.80000 & 1493.000 &  1134.000 & 250nm@ 1500-2750rpm       & 5.000000 & 18903.9708 & 0 & 1 & 0 & 0 & 0\\\\\n",
       "\t8110 & Ford Freestyle Titanium Plus Diesel BSIV     & 2018 &  750000 &  24000 & Diesel & 0 & Manual    & First Owner          & 24.40000 & 1498.000 &  9863.000 & 215Nm@ 1750-3000rpm       & 5.000000 &  9001.8909 & 0 & 1 & 0 & 0 & 1\\\\\n",
       "\t8111 & Maruti Celerio VXI                           & 2017 &  425000 &  12000 & Petrol & 0 & Manual    & First Owner          & 23.10000 &  998.000 &  6704.000 & 90Nm@ 3500rpm             & 5.000000 &  5101.0715 & 0 & 0 & 0 & 1 & 1\\\\\n",
       "\t8112 & Toyota Etios Cross 1.4L GD                   & 2014 &  425000 &  50000 & Diesel & 0 & Manual    & First Owner          & 23.59000 & 1364.000 &  6706.000 & 170Nm@ 1800-2400rpm       & 5.000000 &  5101.0715 & 0 & 1 & 0 & 0 & 1\\\\\n",
       "\t8113 & Ford Freestyle Titanium Plus Diesel BSIV     & 2018 &  746000 &  24000 & Diesel & 0 & Manual    & First Owner          & 24.40000 & 1498.000 &  9863.000 & 215Nm@ 1750-3000rpm       & 5.000000 &  8953.8808 & 0 & 1 & 0 & 0 & 1\\\\\n",
       "\t8114 & Toyota Innova 2.5 GX (Diesel) 8 Seater BS IV & 2010 &  425000 & 129000 & Diesel & 0 & Manual    & First Owner          & 12.80000 & 2494.000 &   102.000 & 20.4@ 1400-3400(kgm@ rpm) & 8.000000 &  5101.0715 & 0 & 1 & 0 & 0 & 1\\\\\n",
       "\t8115 & Maruti Alto LXi                              & 2011 &  200000 &  73000 & Petrol & 0 & Manual    & First Owner          & 19.70000 &  796.000 &   463.000 & 62Nm@ 3000rpm             & 5.000000 &  2400.5042 & 0 & 0 & 0 & 1 & 1\\\\\n",
       "\t8116 & Maruti 800 AC                                & 1997 &   40000 & 120000 & Petrol & 0 & Manual    & First Owner          & 16.10000 &  796.000 &    37.000 & 59Nm@ 2500rpm             & 4.000000 &   480.1008 & 0 & 0 & 0 & 1 & 1\\\\\n",
       "\t8117 & Maruti Alto K10 VXI Airbag                   & 2017 &  340000 &  45000 & Petrol & 0 & Manual    & First Owner          & 23.95000 &  998.000 &   671.000 & 90Nm@ 3500rpm             & 5.000000 &  4080.8572 & 0 & 0 & 0 & 1 & 1\\\\\n",
       "\t8118 & Maruti Swift Dzire VDI                       & 2015 &  625000 &  50000 & Diesel & 0 & Manual    & First Owner          & 26.59000 & 1248.000 &    74.000 & 190Nm@ 2000rpm            & 5.000000 &  7501.5757 & 0 & 1 & 0 & 0 & 1\\\\\n",
       "\t8119 & Hyundai i20 Magna                            & 2013 &  380000 &  25000 & Petrol & 0 & Manual    & First Owner          & 18.50000 & 1197.000 &  8285.000 & 113.7Nm@ 4000rpm          & 5.000000 &  4560.9580 & 0 & 0 & 0 & 1 & 1\\\\\n",
       "\t8120 & Maruti Wagon R LXI Optional                  & 2017 &  360000 &  80000 & Petrol & 0 & Manual    & First Owner          & 20.51000 &  998.000 &  6704.000 & 90Nm@ 3500rpm             & 5.000000 &  4320.9076 & 0 & 0 & 0 & 1 & 1\\\\\n",
       "\t8121 & Hyundai Santro Xing GLS                      & 2008 &  120000 & 191000 & Petrol & 0 & Manual    & First Owner          & 17.92000 & 1086.000 &   621.000 & 96.1Nm@ 3000rpm           & 5.000000 &  1440.3025 & 0 & 0 & 0 & 1 & 1\\\\\n",
       "\t8122 & Maruti Wagon R VXI BS IV with ABS            & 2013 &  260000 &  50000 & Petrol & 0 & Manual    & Second Owner         & 18.90000 &  998.000 &   671.000 & 90Nm@ 3500rpm             & 5.000000 &  3120.6555 & 0 & 0 & 0 & 1 & 1\\\\\n",
       "\t8123 & Hyundai i20 Magna 1.4 CRDi                   & 2014 &  475000 &  80000 & Diesel & 0 & Manual    & Second Owner         & 22.54000 & 1396.000 &  8873.000 & 219.7Nm@ 1500-2750rpm     & 5.000000 &  5701.1975 & 0 & 1 & 0 & 0 & 1\\\\\n",
       "\t8124 & Hyundai i20 Magna                            & 2013 &  320000 & 110000 & Petrol & 0 & Manual    & First Owner          & 18.50000 & 1197.000 &  8285.000 & 113.7Nm@ 4000rpm          & 5.000000 &  3840.8068 & 0 & 0 & 0 & 1 & 1\\\\\n",
       "\t8125 & Hyundai Verna CRDi SX                        & 2007 &  135000 & 119000 & Diesel & 0 & Manual    & Fourth \\& Above Owner & 16.80000 & 1493.000 &   110.000 & 24@ 1,900-2,750(kgm@ rpm) & 5.000000 &  1620.3404 & 0 & 1 & 0 & 0 & 1\\\\\n",
       "\t8126 & Maruti Swift Dzire ZDi                       & 2009 &  382000 & 120000 & Diesel & 0 & Manual    & First Owner          & 19.30000 & 1248.000 &   739.000 & 190Nm@ 2000rpm            & 5.000000 &  4584.9631 & 0 & 1 & 0 & 0 & 1\\\\\n",
       "\t8127 & Tata Indigo CR4                              & 2013 &  290000 &  25000 & Diesel & 0 & Manual    & First Owner          & 23.57000 & 1396.000 &    70.000 & 140Nm@ 1800-3000rpm       & 5.000000 &  3480.7311 & 0 & 1 & 0 & 0 & 1\\\\\n",
       "\t8128 & Tata Indigo CR4                              & 2013 &  290000 &  25000 & Diesel & 0 & Manual    & First Owner          & 23.57000 & 1396.000 &    70.000 & 140Nm@ 1800-3000rpm       & 5.000000 &  3480.7311 & 0 & 1 & 0 & 0 & 1\\\\\n",
       "\\end{tabular}\n"
      ],
      "text/markdown": [
       "\n",
       "A data.frame: 8128 × 19\n",
       "\n",
       "| <!--/--> | name &lt;chr&gt; | year &lt;int&gt; | selling_price &lt;int&gt; | km_driven &lt;int&gt; | fuel &lt;fct&gt; | seller_type &lt;fct&gt; | transmission &lt;fct&gt; | owner &lt;chr&gt; | mileage &lt;dbl&gt; | engine &lt;dbl&gt; | max_power &lt;dbl&gt; | torque &lt;chr&gt; | seats &lt;dbl&gt; | price_usd &lt;dbl&gt; | fuelCNG &lt;dbl&gt; | fuelDiesel &lt;dbl&gt; | fuelLPG &lt;dbl&gt; | fuelPetrol &lt;dbl&gt; | transmissionManual &lt;dbl&gt; |\n",
       "|---|---|---|---|---|---|---|---|---|---|---|---|---|---|---|---|---|---|---|---|\n",
       "| 1 | Maruti Swift Dzire VDI               | 2014 | 450000 | 145500 | Diesel | 0 | Manual | First Owner  | 23.40000 | 1248.000 |    74.000 | 190Nm@ 2000rpm           | 5.000000 |  5401.1345 | 0 | 1 | 0 | 0 | 1 |\n",
       "| 2 | Skoda Rapid 1.5 TDI Ambition         | 2014 | 370000 | 120000 | Diesel | 0 | Manual | Second Owner | 21.14000 | 1498.000 | 10352.000 | 250Nm@ 1500-2500rpm      | 5.000000 |  4440.9328 | 0 | 1 | 0 | 0 | 1 |\n",
       "| 3 | Honda City 2017-2020 EXi             | 2006 | 158000 | 140000 | Petrol | 0 | Manual | Third Owner  | 17.70000 | 1497.000 |    78.000 | 12.7@ 2,700(kgm@ rpm)    | 5.000000 |  1896.3983 | 0 | 0 | 0 | 1 | 1 |\n",
       "| 4 | Hyundai i20 Sportz Diesel            | 2010 | 225000 | 127000 | Diesel | 0 | Manual | First Owner  | 23.00000 | 1396.000 |    90.000 | 22.4 kgm at 1750-2750rpm | 5.000000 |  2700.5673 | 0 | 1 | 0 | 0 | 1 |\n",
       "| 5 | Maruti Swift VXI BSIII               | 2007 | 130000 | 120000 | Petrol | 0 | Manual | First Owner  | 16.10000 | 1298.000 |   882.000 | 11.5@ 4,500(kgm@ rpm)    | 5.000000 |  1560.3277 | 0 | 0 | 0 | 1 | 1 |\n",
       "| 6 | Hyundai Xcent 1.2 VTVT E Plus        | 2017 | 440000 |  45000 | Petrol | 0 | Manual | First Owner  | 20.14000 | 1197.000 |  8186.000 | 113.75nm@ 4000rpm        | 5.000000 |  5281.1093 | 0 | 0 | 0 | 1 | 1 |\n",
       "| 7 | Maruti Wagon R LXI DUO BSIII         | 2007 |  96000 | 175000 | LPG    | 0 | Manual | First Owner  | 17.30000 | 1061.000 |   575.000 | 7.8@ 4,500(kgm@ rpm)     | 5.000000 |  1152.2420 | 0 | 0 | 1 | 0 | 1 |\n",
       "| 8 | Maruti 800 DX BSII                   | 2001 |  45000 |   5000 | Petrol | 0 | Manual | Second Owner | 16.10000 |  796.000 |    37.000 | 59Nm@ 2500rpm            | 4.000000 |   540.1135 | 0 | 0 | 0 | 1 | 1 |\n",
       "| 9 | Toyota Etios VXD                     | 2011 | 350000 |  90000 | Diesel | 0 | Manual | First Owner  | 23.59000 | 1364.000 |   671.000 | 170Nm@ 1800-2400rpm      | 5.000000 |  4200.8824 | 0 | 1 | 0 | 0 | 1 |\n",
       "| 10 | Ford Figo Diesel Celebration Edition | 2013 | 200000 | 169000 | Diesel | 0 | Manual | First Owner  | 20.00000 | 1399.000 |   681.000 | 160Nm@ 2000rpm           | 5.000000 |  2400.5042 | 0 | 1 | 0 | 0 | 1 |\n",
       "| 11 | Renault Duster 110PS Diesel RxL      | 2014 | 500000 |  68000 | Diesel | 0 | Manual | Second Owner | 19.01000 | 1461.000 | 10845.000 | 248Nm@ 2250rpm           | 5.000000 |  6001.2606 | 0 | 1 | 0 | 0 | 1 |\n",
       "| 12 | Maruti Zen LX                        | 2005 |  92000 | 100000 | Petrol | 0 | Manual | Second Owner | 17.30000 |  993.000 |    60.000 | 78Nm@ 4500rpm            | 5.000000 |  1104.2319 | 0 | 0 | 0 | 1 | 1 |\n",
       "| 13 | Maruti Swift Dzire VDi               | 2009 | 280000 | 140000 | Diesel | 0 | Manual | Second Owner | 19.30000 | 1248.000 |   739.000 | 190Nm@ 2000rpm           | 5.000000 |  3360.7059 | 0 | 1 | 0 | 0 | 1 |\n",
       "| 14 | Maruti Swift 1.3 VXi                 | 2007 | 200000 |  80000 | Petrol | 0 | Manual | Second Owner | 19.41878 | 1458.625 |  2764.028 | <!----> | 5.416719 |  2400.5042 | 0 | 0 | 0 | 1 | 1 |\n",
       "| 15 | Maruti Wagon R LXI Minor             | 2009 | 180000 |  90000 | Petrol | 0 | Manual | Second Owner | 18.90000 | 1061.000 |    67.000 | 84Nm@ 3500rpm            | 5.000000 |  2160.4538 | 0 | 0 | 0 | 1 | 1 |\n",
       "| 16 | Mahindra KUV 100 mFALCON G80 K8 5str | 2016 | 400000 |  40000 | Petrol | 0 | Manual | First Owner  | 18.15000 | 1198.000 |    82.000 | 115Nm@ 3500-3600rpm      | 5.000000 |  4801.0085 | 0 | 0 | 0 | 1 | 1 |\n",
       "| 17 | Maruti Ertiga SHVS VDI               | 2016 | 778000 |  70000 | Diesel | 0 | Manual | Second Owner | 24.52000 | 1248.000 |   885.000 | 200Nm@ 1750rpm           | 7.000000 |  9337.9615 | 0 | 1 | 0 | 0 | 1 |\n",
       "| 18 | Hyundai i20 1.4 CRDi Asta            | 2012 | 500000 |  53000 | Diesel | 0 | Manual | Second Owner | 23.00000 | 1396.000 |    90.000 | 22.4 kgm at 1750-2750rpm | 5.000000 |  6001.2606 | 0 | 1 | 0 | 0 | 1 |\n",
       "| 19 | Maruti Alto LX                       | 2002 | 150000 |  80000 | Petrol | 0 | Manual | Second Owner | 19.70000 |  796.000 |   463.000 | 62Nm@ 3000rpm            | 5.000000 |  1800.3782 | 0 | 0 | 0 | 1 | 1 |\n",
       "| 20 | Hyundai i20 2015-2017 Asta 1.4 CRDi  | 2016 | 680000 | 100000 | Diesel | 0 | Manual | First Owner  | 22.54000 | 1396.000 |  8873.000 | 219.7Nm@ 1500-2750rpm    | 5.000000 |  8161.7144 | 0 | 1 | 0 | 0 | 1 |\n",
       "| 21 | Mahindra Verito 1.5 D4 BSIII         | 2011 | 174000 | 100000 | Diesel | 0 | Manual | Second Owner | 21.00000 | 1461.000 |   641.000 | 160Nm@ 2000rpm           | 5.000000 |  2088.4387 | 0 | 1 | 0 | 0 | 1 |\n",
       "| 22 | Honda WR-V i-DTEC VX                 | 2017 | 950000 |  50000 | Diesel | 0 | Manual | First Owner  | 25.50000 | 1498.000 |   986.000 | 200Nm@ 1750rpm           | 5.000000 | 11402.3951 | 0 | 1 | 0 | 0 | 1 |\n",
       "| 23 | Maruti Swift Dzire ZDI               | 2015 | 525000 |  40000 | Diesel | 0 | Manual | First Owner  | 26.59000 | 1248.000 |    74.000 | 190Nm@ 2000rpm           | 5.000000 |  6301.3236 | 0 | 1 | 0 | 0 | 1 |\n",
       "| 24 | Maruti SX4 ZDI                       | 2012 | 600000 |  72000 | Diesel | 0 | Manual | First Owner  | 21.50000 | 1248.000 |   888.000 | 200Nm@ 1750rpm           | 5.000000 |  7201.5127 | 0 | 1 | 0 | 0 | 1 |\n",
       "| 25 | Tata Tigor 2017-2020 XZ              | 2018 | 500000 |  35000 | Petrol | 0 | Manual | First Owner  | 20.30000 | 1199.000 |  8381.000 | 114Nm@ 3500rpm           | 5.000000 |  6001.2606 | 0 | 0 | 0 | 1 | 1 |\n",
       "| 26 | Maruti Baleno Delta 1.2              | 2016 | 575000 |  45000 | Petrol | 0 | Manual | First Owner  | 21.40000 | 1197.000 |   831.000 | 115Nm@ 4000rpm           | 5.000000 |  6901.4497 | 0 | 0 | 0 | 1 | 1 |\n",
       "| 27 | Maruti Alto 800 LXI                  | 2017 | 275000 |  28000 | Petrol | 0 | Manual | First Owner  | 24.70000 |  796.000 |   473.000 | 69Nm@ 3500rpm            | 5.000000 |  3300.6933 | 0 | 0 | 0 | 1 | 1 |\n",
       "| 28 | Chevrolet Enjoy TCDi LTZ 7 Seater    | 2013 | 300000 |  70000 | Diesel | 0 | Manual | First Owner  | 18.20000 | 1248.000 |   738.000 | 172.5Nm@ 1750rpm         | 7.000000 |  3600.7563 | 0 | 1 | 0 | 0 | 1 |\n",
       "| 29 | Maruti Wagon R LXI Minor             | 2009 | 220000 | 120000 | Petrol | 0 | Manual | First Owner  | 18.90000 | 1061.000 |    67.000 | 84Nm@ 3500rpm            | 5.000000 |  2640.5547 | 0 | 0 | 0 | 1 | 1 |\n",
       "| 30 | Maruti Omni E MPI STD BS IV          | 2018 | 254999 |  25000 | Petrol | 0 | Manual | First Owner  | 16.80000 |  796.000 |   342.000 | 59Nm@ 2500rpm            | 8.000000 |  3060.6309 | 0 | 0 | 0 | 1 | 1 |\n",
       "| ⋮ | ⋮ | ⋮ | ⋮ | ⋮ | ⋮ | ⋮ | ⋮ | ⋮ | ⋮ | ⋮ | ⋮ | ⋮ | ⋮ | ⋮ | ⋮ | ⋮ | ⋮ | ⋮ | ⋮ |\n",
       "| 8099 | Maruti Swift Vdi BSIII                       | 2009 |  307000 | 100000 | Diesel | 0 | Manual    | Second Owner         | 17.80000 | 1248.000 |    75.000 | 190Nm@ 2000rpm            | 5.000000 |  3684.7740 | 0 | 1 | 0 | 0 | 1 |\n",
       "| 8100 | Mahindra XUV500 W8 2WD                       | 2013 |  750000 | 120000 | Diesel | 0 | Manual    | First Owner          | 15.10000 | 2179.000 |   140.000 | 330Nm@ 1600-2800rpm       | 7.000000 |  9001.8909 | 0 | 1 | 0 | 0 | 1 |\n",
       "| 8101 | Tata Nexon 1.5 Revotorq XT                   | 2018 |  800000 |  85000 | Diesel | 0 | Manual    | Second Owner         | 21.50000 | 1497.000 |  1085.000 | 260Nm@ 1500-2750rpm       | 5.000000 |  9602.0169 | 0 | 1 | 0 | 0 | 1 |\n",
       "| 8102 | Fiat Grande Punto 1.3 Dynamic (Diesel)       | 2012 |  450000 |  70000 | Diesel | 0 | Manual    | First Owner          | 20.30000 | 1248.000 |    75.000 | 197Nm@ 1750rpm            | 5.000000 |  5401.1345 | 0 | 1 | 0 | 0 | 1 |\n",
       "| 8103 | Hyundai Verna 1.6 SX CRDi (O)                | 2011 |  450000 | 128000 | Diesel | 0 | Manual    | Second Owner         | 22.32000 | 1582.000 | 12632.000 | 259.8Nm@ 1900-2750rpm     | 5.000000 |  5401.1345 | 0 | 1 | 0 | 0 | 1 |\n",
       "| 8104 | Maruti Swift 1.3 VXi                         | 2006 |  130000 | 100000 | Petrol | 0 | Manual    | Second Owner         | 19.41878 | 1458.625 |  2764.028 | <!----> | 5.416719 |  1560.3277 | 0 | 0 | 0 | 1 | 1 |\n",
       "| 8105 | Honda City 2017-2020 VTEC                    | 2006 |  160000 |  70000 | Petrol | 0 | Manual    | Second Owner         | 16.90000 | 1497.000 |   100.000 | 13.5@ 4,800(kgm@ rpm)     | 5.000000 |  1920.4034 | 0 | 0 | 0 | 1 | 1 |\n",
       "| 8106 | Honda City 1.3 EXI                           | 2004 |  135000 | 120000 | Petrol | 0 | Manual    | Second Owner         | 13.00000 | 1343.000 |    90.000 | 11.3kgm@ 4700rpm          | 5.000000 |  1620.3404 | 0 | 0 | 0 | 1 | 1 |\n",
       "| 8107 | Hyundai Verna 1.6 SX                         | 2012 |  450000 | 128000 | Diesel | 0 | Manual    | Second Owner         | 22.32000 | 1582.000 | 12632.000 | 259.8Nm@ 1900-2750rpm     | 5.000000 |  5401.1345 | 0 | 1 | 0 | 0 | 1 |\n",
       "| 8108 | Renault Duster 85PS Diesel RxL Plus          | 2013 |  325000 | 100000 | Diesel | 0 | Manual    | Third Owner          | 20.45000 | 1461.000 |   838.000 | 200Nm@ 1900rpm            | 5.000000 |  3900.8194 | 0 | 1 | 0 | 0 | 1 |\n",
       "| 8109 | Kia Seltos HTX Plus AT D                     | 2019 | 1575000 |  20000 | Diesel | 0 | Automatic | First Owner          | 17.80000 | 1493.000 |  1134.000 | 250nm@ 1500-2750rpm       | 5.000000 | 18903.9708 | 0 | 1 | 0 | 0 | 0 |\n",
       "| 8110 | Ford Freestyle Titanium Plus Diesel BSIV     | 2018 |  750000 |  24000 | Diesel | 0 | Manual    | First Owner          | 24.40000 | 1498.000 |  9863.000 | 215Nm@ 1750-3000rpm       | 5.000000 |  9001.8909 | 0 | 1 | 0 | 0 | 1 |\n",
       "| 8111 | Maruti Celerio VXI                           | 2017 |  425000 |  12000 | Petrol | 0 | Manual    | First Owner          | 23.10000 |  998.000 |  6704.000 | 90Nm@ 3500rpm             | 5.000000 |  5101.0715 | 0 | 0 | 0 | 1 | 1 |\n",
       "| 8112 | Toyota Etios Cross 1.4L GD                   | 2014 |  425000 |  50000 | Diesel | 0 | Manual    | First Owner          | 23.59000 | 1364.000 |  6706.000 | 170Nm@ 1800-2400rpm       | 5.000000 |  5101.0715 | 0 | 1 | 0 | 0 | 1 |\n",
       "| 8113 | Ford Freestyle Titanium Plus Diesel BSIV     | 2018 |  746000 |  24000 | Diesel | 0 | Manual    | First Owner          | 24.40000 | 1498.000 |  9863.000 | 215Nm@ 1750-3000rpm       | 5.000000 |  8953.8808 | 0 | 1 | 0 | 0 | 1 |\n",
       "| 8114 | Toyota Innova 2.5 GX (Diesel) 8 Seater BS IV | 2010 |  425000 | 129000 | Diesel | 0 | Manual    | First Owner          | 12.80000 | 2494.000 |   102.000 | 20.4@ 1400-3400(kgm@ rpm) | 8.000000 |  5101.0715 | 0 | 1 | 0 | 0 | 1 |\n",
       "| 8115 | Maruti Alto LXi                              | 2011 |  200000 |  73000 | Petrol | 0 | Manual    | First Owner          | 19.70000 |  796.000 |   463.000 | 62Nm@ 3000rpm             | 5.000000 |  2400.5042 | 0 | 0 | 0 | 1 | 1 |\n",
       "| 8116 | Maruti 800 AC                                | 1997 |   40000 | 120000 | Petrol | 0 | Manual    | First Owner          | 16.10000 |  796.000 |    37.000 | 59Nm@ 2500rpm             | 4.000000 |   480.1008 | 0 | 0 | 0 | 1 | 1 |\n",
       "| 8117 | Maruti Alto K10 VXI Airbag                   | 2017 |  340000 |  45000 | Petrol | 0 | Manual    | First Owner          | 23.95000 |  998.000 |   671.000 | 90Nm@ 3500rpm             | 5.000000 |  4080.8572 | 0 | 0 | 0 | 1 | 1 |\n",
       "| 8118 | Maruti Swift Dzire VDI                       | 2015 |  625000 |  50000 | Diesel | 0 | Manual    | First Owner          | 26.59000 | 1248.000 |    74.000 | 190Nm@ 2000rpm            | 5.000000 |  7501.5757 | 0 | 1 | 0 | 0 | 1 |\n",
       "| 8119 | Hyundai i20 Magna                            | 2013 |  380000 |  25000 | Petrol | 0 | Manual    | First Owner          | 18.50000 | 1197.000 |  8285.000 | 113.7Nm@ 4000rpm          | 5.000000 |  4560.9580 | 0 | 0 | 0 | 1 | 1 |\n",
       "| 8120 | Maruti Wagon R LXI Optional                  | 2017 |  360000 |  80000 | Petrol | 0 | Manual    | First Owner          | 20.51000 |  998.000 |  6704.000 | 90Nm@ 3500rpm             | 5.000000 |  4320.9076 | 0 | 0 | 0 | 1 | 1 |\n",
       "| 8121 | Hyundai Santro Xing GLS                      | 2008 |  120000 | 191000 | Petrol | 0 | Manual    | First Owner          | 17.92000 | 1086.000 |   621.000 | 96.1Nm@ 3000rpm           | 5.000000 |  1440.3025 | 0 | 0 | 0 | 1 | 1 |\n",
       "| 8122 | Maruti Wagon R VXI BS IV with ABS            | 2013 |  260000 |  50000 | Petrol | 0 | Manual    | Second Owner         | 18.90000 |  998.000 |   671.000 | 90Nm@ 3500rpm             | 5.000000 |  3120.6555 | 0 | 0 | 0 | 1 | 1 |\n",
       "| 8123 | Hyundai i20 Magna 1.4 CRDi                   | 2014 |  475000 |  80000 | Diesel | 0 | Manual    | Second Owner         | 22.54000 | 1396.000 |  8873.000 | 219.7Nm@ 1500-2750rpm     | 5.000000 |  5701.1975 | 0 | 1 | 0 | 0 | 1 |\n",
       "| 8124 | Hyundai i20 Magna                            | 2013 |  320000 | 110000 | Petrol | 0 | Manual    | First Owner          | 18.50000 | 1197.000 |  8285.000 | 113.7Nm@ 4000rpm          | 5.000000 |  3840.8068 | 0 | 0 | 0 | 1 | 1 |\n",
       "| 8125 | Hyundai Verna CRDi SX                        | 2007 |  135000 | 119000 | Diesel | 0 | Manual    | Fourth &amp; Above Owner | 16.80000 | 1493.000 |   110.000 | 24@ 1,900-2,750(kgm@ rpm) | 5.000000 |  1620.3404 | 0 | 1 | 0 | 0 | 1 |\n",
       "| 8126 | Maruti Swift Dzire ZDi                       | 2009 |  382000 | 120000 | Diesel | 0 | Manual    | First Owner          | 19.30000 | 1248.000 |   739.000 | 190Nm@ 2000rpm            | 5.000000 |  4584.9631 | 0 | 1 | 0 | 0 | 1 |\n",
       "| 8127 | Tata Indigo CR4                              | 2013 |  290000 |  25000 | Diesel | 0 | Manual    | First Owner          | 23.57000 | 1396.000 |    70.000 | 140Nm@ 1800-3000rpm       | 5.000000 |  3480.7311 | 0 | 1 | 0 | 0 | 1 |\n",
       "| 8128 | Tata Indigo CR4                              | 2013 |  290000 |  25000 | Diesel | 0 | Manual    | First Owner          | 23.57000 | 1396.000 |    70.000 | 140Nm@ 1800-3000rpm       | 5.000000 |  3480.7311 | 0 | 1 | 0 | 0 | 1 |\n",
       "\n"
      ],
      "text/plain": [
       "     name                                         year selling_price km_driven\n",
       "1    Maruti Swift Dzire VDI                       2014 450000        145500   \n",
       "2    Skoda Rapid 1.5 TDI Ambition                 2014 370000        120000   \n",
       "3    Honda City 2017-2020 EXi                     2006 158000        140000   \n",
       "4    Hyundai i20 Sportz Diesel                    2010 225000        127000   \n",
       "5    Maruti Swift VXI BSIII                       2007 130000        120000   \n",
       "6    Hyundai Xcent 1.2 VTVT E Plus                2017 440000         45000   \n",
       "7    Maruti Wagon R LXI DUO BSIII                 2007  96000        175000   \n",
       "8    Maruti 800 DX BSII                           2001  45000          5000   \n",
       "9    Toyota Etios VXD                             2011 350000         90000   \n",
       "10   Ford Figo Diesel Celebration Edition         2013 200000        169000   \n",
       "11   Renault Duster 110PS Diesel RxL              2014 500000         68000   \n",
       "12   Maruti Zen LX                                2005  92000        100000   \n",
       "13   Maruti Swift Dzire VDi                       2009 280000        140000   \n",
       "14   Maruti Swift 1.3 VXi                         2007 200000         80000   \n",
       "15   Maruti Wagon R LXI Minor                     2009 180000         90000   \n",
       "16   Mahindra KUV 100 mFALCON G80 K8 5str         2016 400000         40000   \n",
       "17   Maruti Ertiga SHVS VDI                       2016 778000         70000   \n",
       "18   Hyundai i20 1.4 CRDi Asta                    2012 500000         53000   \n",
       "19   Maruti Alto LX                               2002 150000         80000   \n",
       "20   Hyundai i20 2015-2017 Asta 1.4 CRDi          2016 680000        100000   \n",
       "21   Mahindra Verito 1.5 D4 BSIII                 2011 174000        100000   \n",
       "22   Honda WR-V i-DTEC VX                         2017 950000         50000   \n",
       "23   Maruti Swift Dzire ZDI                       2015 525000         40000   \n",
       "24   Maruti SX4 ZDI                               2012 600000         72000   \n",
       "25   Tata Tigor 2017-2020 XZ                      2018 500000         35000   \n",
       "26   Maruti Baleno Delta 1.2                      2016 575000         45000   \n",
       "27   Maruti Alto 800 LXI                          2017 275000         28000   \n",
       "28   Chevrolet Enjoy TCDi LTZ 7 Seater            2013 300000         70000   \n",
       "29   Maruti Wagon R LXI Minor                     2009 220000        120000   \n",
       "30   Maruti Omni E MPI STD BS IV                  2018 254999         25000   \n",
       "⋮    ⋮                                            ⋮    ⋮             ⋮        \n",
       "8099 Maruti Swift Vdi BSIII                       2009  307000       100000   \n",
       "8100 Mahindra XUV500 W8 2WD                       2013  750000       120000   \n",
       "8101 Tata Nexon 1.5 Revotorq XT                   2018  800000        85000   \n",
       "8102 Fiat Grande Punto 1.3 Dynamic (Diesel)       2012  450000        70000   \n",
       "8103 Hyundai Verna 1.6 SX CRDi (O)                2011  450000       128000   \n",
       "8104 Maruti Swift 1.3 VXi                         2006  130000       100000   \n",
       "8105 Honda City 2017-2020 VTEC                    2006  160000        70000   \n",
       "8106 Honda City 1.3 EXI                           2004  135000       120000   \n",
       "8107 Hyundai Verna 1.6 SX                         2012  450000       128000   \n",
       "8108 Renault Duster 85PS Diesel RxL Plus          2013  325000       100000   \n",
       "8109 Kia Seltos HTX Plus AT D                     2019 1575000        20000   \n",
       "8110 Ford Freestyle Titanium Plus Diesel BSIV     2018  750000        24000   \n",
       "8111 Maruti Celerio VXI                           2017  425000        12000   \n",
       "8112 Toyota Etios Cross 1.4L GD                   2014  425000        50000   \n",
       "8113 Ford Freestyle Titanium Plus Diesel BSIV     2018  746000        24000   \n",
       "8114 Toyota Innova 2.5 GX (Diesel) 8 Seater BS IV 2010  425000       129000   \n",
       "8115 Maruti Alto LXi                              2011  200000        73000   \n",
       "8116 Maruti 800 AC                                1997   40000       120000   \n",
       "8117 Maruti Alto K10 VXI Airbag                   2017  340000        45000   \n",
       "8118 Maruti Swift Dzire VDI                       2015  625000        50000   \n",
       "8119 Hyundai i20 Magna                            2013  380000        25000   \n",
       "8120 Maruti Wagon R LXI Optional                  2017  360000        80000   \n",
       "8121 Hyundai Santro Xing GLS                      2008  120000       191000   \n",
       "8122 Maruti Wagon R VXI BS IV with ABS            2013  260000        50000   \n",
       "8123 Hyundai i20 Magna 1.4 CRDi                   2014  475000        80000   \n",
       "8124 Hyundai i20 Magna                            2013  320000       110000   \n",
       "8125 Hyundai Verna CRDi SX                        2007  135000       119000   \n",
       "8126 Maruti Swift Dzire ZDi                       2009  382000       120000   \n",
       "8127 Tata Indigo CR4                              2013  290000        25000   \n",
       "8128 Tata Indigo CR4                              2013  290000        25000   \n",
       "     fuel   seller_type transmission owner                mileage  engine  \n",
       "1    Diesel 0           Manual       First Owner          23.40000 1248.000\n",
       "2    Diesel 0           Manual       Second Owner         21.14000 1498.000\n",
       "3    Petrol 0           Manual       Third Owner          17.70000 1497.000\n",
       "4    Diesel 0           Manual       First Owner          23.00000 1396.000\n",
       "5    Petrol 0           Manual       First Owner          16.10000 1298.000\n",
       "6    Petrol 0           Manual       First Owner          20.14000 1197.000\n",
       "7    LPG    0           Manual       First Owner          17.30000 1061.000\n",
       "8    Petrol 0           Manual       Second Owner         16.10000  796.000\n",
       "9    Diesel 0           Manual       First Owner          23.59000 1364.000\n",
       "10   Diesel 0           Manual       First Owner          20.00000 1399.000\n",
       "11   Diesel 0           Manual       Second Owner         19.01000 1461.000\n",
       "12   Petrol 0           Manual       Second Owner         17.30000  993.000\n",
       "13   Diesel 0           Manual       Second Owner         19.30000 1248.000\n",
       "14   Petrol 0           Manual       Second Owner         19.41878 1458.625\n",
       "15   Petrol 0           Manual       Second Owner         18.90000 1061.000\n",
       "16   Petrol 0           Manual       First Owner          18.15000 1198.000\n",
       "17   Diesel 0           Manual       Second Owner         24.52000 1248.000\n",
       "18   Diesel 0           Manual       Second Owner         23.00000 1396.000\n",
       "19   Petrol 0           Manual       Second Owner         19.70000  796.000\n",
       "20   Diesel 0           Manual       First Owner          22.54000 1396.000\n",
       "21   Diesel 0           Manual       Second Owner         21.00000 1461.000\n",
       "22   Diesel 0           Manual       First Owner          25.50000 1498.000\n",
       "23   Diesel 0           Manual       First Owner          26.59000 1248.000\n",
       "24   Diesel 0           Manual       First Owner          21.50000 1248.000\n",
       "25   Petrol 0           Manual       First Owner          20.30000 1199.000\n",
       "26   Petrol 0           Manual       First Owner          21.40000 1197.000\n",
       "27   Petrol 0           Manual       First Owner          24.70000  796.000\n",
       "28   Diesel 0           Manual       First Owner          18.20000 1248.000\n",
       "29   Petrol 0           Manual       First Owner          18.90000 1061.000\n",
       "30   Petrol 0           Manual       First Owner          16.80000  796.000\n",
       "⋮    ⋮      ⋮           ⋮            ⋮                    ⋮        ⋮       \n",
       "8099 Diesel 0           Manual       Second Owner         17.80000 1248.000\n",
       "8100 Diesel 0           Manual       First Owner          15.10000 2179.000\n",
       "8101 Diesel 0           Manual       Second Owner         21.50000 1497.000\n",
       "8102 Diesel 0           Manual       First Owner          20.30000 1248.000\n",
       "8103 Diesel 0           Manual       Second Owner         22.32000 1582.000\n",
       "8104 Petrol 0           Manual       Second Owner         19.41878 1458.625\n",
       "8105 Petrol 0           Manual       Second Owner         16.90000 1497.000\n",
       "8106 Petrol 0           Manual       Second Owner         13.00000 1343.000\n",
       "8107 Diesel 0           Manual       Second Owner         22.32000 1582.000\n",
       "8108 Diesel 0           Manual       Third Owner          20.45000 1461.000\n",
       "8109 Diesel 0           Automatic    First Owner          17.80000 1493.000\n",
       "8110 Diesel 0           Manual       First Owner          24.40000 1498.000\n",
       "8111 Petrol 0           Manual       First Owner          23.10000  998.000\n",
       "8112 Diesel 0           Manual       First Owner          23.59000 1364.000\n",
       "8113 Diesel 0           Manual       First Owner          24.40000 1498.000\n",
       "8114 Diesel 0           Manual       First Owner          12.80000 2494.000\n",
       "8115 Petrol 0           Manual       First Owner          19.70000  796.000\n",
       "8116 Petrol 0           Manual       First Owner          16.10000  796.000\n",
       "8117 Petrol 0           Manual       First Owner          23.95000  998.000\n",
       "8118 Diesel 0           Manual       First Owner          26.59000 1248.000\n",
       "8119 Petrol 0           Manual       First Owner          18.50000 1197.000\n",
       "8120 Petrol 0           Manual       First Owner          20.51000  998.000\n",
       "8121 Petrol 0           Manual       First Owner          17.92000 1086.000\n",
       "8122 Petrol 0           Manual       Second Owner         18.90000  998.000\n",
       "8123 Diesel 0           Manual       Second Owner         22.54000 1396.000\n",
       "8124 Petrol 0           Manual       First Owner          18.50000 1197.000\n",
       "8125 Diesel 0           Manual       Fourth & Above Owner 16.80000 1493.000\n",
       "8126 Diesel 0           Manual       First Owner          19.30000 1248.000\n",
       "8127 Diesel 0           Manual       First Owner          23.57000 1396.000\n",
       "8128 Diesel 0           Manual       First Owner          23.57000 1396.000\n",
       "     max_power torque                    seats    price_usd  fuelCNG fuelDiesel\n",
       "1       74.000 190Nm@ 2000rpm            5.000000  5401.1345 0       1         \n",
       "2    10352.000 250Nm@ 1500-2500rpm       5.000000  4440.9328 0       1         \n",
       "3       78.000 12.7@ 2,700(kgm@ rpm)     5.000000  1896.3983 0       0         \n",
       "4       90.000 22.4 kgm at 1750-2750rpm  5.000000  2700.5673 0       1         \n",
       "5      882.000 11.5@ 4,500(kgm@ rpm)     5.000000  1560.3277 0       0         \n",
       "6     8186.000 113.75nm@ 4000rpm         5.000000  5281.1093 0       0         \n",
       "7      575.000 7.8@ 4,500(kgm@ rpm)      5.000000  1152.2420 0       0         \n",
       "8       37.000 59Nm@ 2500rpm             4.000000   540.1135 0       0         \n",
       "9      671.000 170Nm@ 1800-2400rpm       5.000000  4200.8824 0       1         \n",
       "10     681.000 160Nm@ 2000rpm            5.000000  2400.5042 0       1         \n",
       "11   10845.000 248Nm@ 2250rpm            5.000000  6001.2606 0       1         \n",
       "12      60.000 78Nm@ 4500rpm             5.000000  1104.2319 0       0         \n",
       "13     739.000 190Nm@ 2000rpm            5.000000  3360.7059 0       1         \n",
       "14    2764.028                           5.416719  2400.5042 0       0         \n",
       "15      67.000 84Nm@ 3500rpm             5.000000  2160.4538 0       0         \n",
       "16      82.000 115Nm@ 3500-3600rpm       5.000000  4801.0085 0       0         \n",
       "17     885.000 200Nm@ 1750rpm            7.000000  9337.9615 0       1         \n",
       "18      90.000 22.4 kgm at 1750-2750rpm  5.000000  6001.2606 0       1         \n",
       "19     463.000 62Nm@ 3000rpm             5.000000  1800.3782 0       0         \n",
       "20    8873.000 219.7Nm@ 1500-2750rpm     5.000000  8161.7144 0       1         \n",
       "21     641.000 160Nm@ 2000rpm            5.000000  2088.4387 0       1         \n",
       "22     986.000 200Nm@ 1750rpm            5.000000 11402.3951 0       1         \n",
       "23      74.000 190Nm@ 2000rpm            5.000000  6301.3236 0       1         \n",
       "24     888.000 200Nm@ 1750rpm            5.000000  7201.5127 0       1         \n",
       "25    8381.000 114Nm@ 3500rpm            5.000000  6001.2606 0       0         \n",
       "26     831.000 115Nm@ 4000rpm            5.000000  6901.4497 0       0         \n",
       "27     473.000 69Nm@ 3500rpm             5.000000  3300.6933 0       0         \n",
       "28     738.000 172.5Nm@ 1750rpm          7.000000  3600.7563 0       1         \n",
       "29      67.000 84Nm@ 3500rpm             5.000000  2640.5547 0       0         \n",
       "30     342.000 59Nm@ 2500rpm             8.000000  3060.6309 0       0         \n",
       "⋮    ⋮         ⋮                         ⋮        ⋮          ⋮       ⋮         \n",
       "8099    75.000 190Nm@ 2000rpm            5.000000  3684.7740 0       1         \n",
       "8100   140.000 330Nm@ 1600-2800rpm       7.000000  9001.8909 0       1         \n",
       "8101  1085.000 260Nm@ 1500-2750rpm       5.000000  9602.0169 0       1         \n",
       "8102    75.000 197Nm@ 1750rpm            5.000000  5401.1345 0       1         \n",
       "8103 12632.000 259.8Nm@ 1900-2750rpm     5.000000  5401.1345 0       1         \n",
       "8104  2764.028                           5.416719  1560.3277 0       0         \n",
       "8105   100.000 13.5@ 4,800(kgm@ rpm)     5.000000  1920.4034 0       0         \n",
       "8106    90.000 11.3kgm@ 4700rpm          5.000000  1620.3404 0       0         \n",
       "8107 12632.000 259.8Nm@ 1900-2750rpm     5.000000  5401.1345 0       1         \n",
       "8108   838.000 200Nm@ 1900rpm            5.000000  3900.8194 0       1         \n",
       "8109  1134.000 250nm@ 1500-2750rpm       5.000000 18903.9708 0       1         \n",
       "8110  9863.000 215Nm@ 1750-3000rpm       5.000000  9001.8909 0       1         \n",
       "8111  6704.000 90Nm@ 3500rpm             5.000000  5101.0715 0       0         \n",
       "8112  6706.000 170Nm@ 1800-2400rpm       5.000000  5101.0715 0       1         \n",
       "8113  9863.000 215Nm@ 1750-3000rpm       5.000000  8953.8808 0       1         \n",
       "8114   102.000 20.4@ 1400-3400(kgm@ rpm) 8.000000  5101.0715 0       1         \n",
       "8115   463.000 62Nm@ 3000rpm             5.000000  2400.5042 0       0         \n",
       "8116    37.000 59Nm@ 2500rpm             4.000000   480.1008 0       0         \n",
       "8117   671.000 90Nm@ 3500rpm             5.000000  4080.8572 0       0         \n",
       "8118    74.000 190Nm@ 2000rpm            5.000000  7501.5757 0       1         \n",
       "8119  8285.000 113.7Nm@ 4000rpm          5.000000  4560.9580 0       0         \n",
       "8120  6704.000 90Nm@ 3500rpm             5.000000  4320.9076 0       0         \n",
       "8121   621.000 96.1Nm@ 3000rpm           5.000000  1440.3025 0       0         \n",
       "8122   671.000 90Nm@ 3500rpm             5.000000  3120.6555 0       0         \n",
       "8123  8873.000 219.7Nm@ 1500-2750rpm     5.000000  5701.1975 0       1         \n",
       "8124  8285.000 113.7Nm@ 4000rpm          5.000000  3840.8068 0       0         \n",
       "8125   110.000 24@ 1,900-2,750(kgm@ rpm) 5.000000  1620.3404 0       1         \n",
       "8126   739.000 190Nm@ 2000rpm            5.000000  4584.9631 0       1         \n",
       "8127    70.000 140Nm@ 1800-3000rpm       5.000000  3480.7311 0       1         \n",
       "8128    70.000 140Nm@ 1800-3000rpm       5.000000  3480.7311 0       1         \n",
       "     fuelLPG fuelPetrol transmissionManual\n",
       "1    0       0          1                 \n",
       "2    0       0          1                 \n",
       "3    0       1          1                 \n",
       "4    0       0          1                 \n",
       "5    0       1          1                 \n",
       "6    0       1          1                 \n",
       "7    1       0          1                 \n",
       "8    0       1          1                 \n",
       "9    0       0          1                 \n",
       "10   0       0          1                 \n",
       "11   0       0          1                 \n",
       "12   0       1          1                 \n",
       "13   0       0          1                 \n",
       "14   0       1          1                 \n",
       "15   0       1          1                 \n",
       "16   0       1          1                 \n",
       "17   0       0          1                 \n",
       "18   0       0          1                 \n",
       "19   0       1          1                 \n",
       "20   0       0          1                 \n",
       "21   0       0          1                 \n",
       "22   0       0          1                 \n",
       "23   0       0          1                 \n",
       "24   0       0          1                 \n",
       "25   0       1          1                 \n",
       "26   0       1          1                 \n",
       "27   0       1          1                 \n",
       "28   0       0          1                 \n",
       "29   0       1          1                 \n",
       "30   0       1          1                 \n",
       "⋮    ⋮       ⋮          ⋮                 \n",
       "8099 0       0          1                 \n",
       "8100 0       0          1                 \n",
       "8101 0       0          1                 \n",
       "8102 0       0          1                 \n",
       "8103 0       0          1                 \n",
       "8104 0       1          1                 \n",
       "8105 0       1          1                 \n",
       "8106 0       1          1                 \n",
       "8107 0       0          1                 \n",
       "8108 0       0          1                 \n",
       "8109 0       0          0                 \n",
       "8110 0       0          1                 \n",
       "8111 0       1          1                 \n",
       "8112 0       0          1                 \n",
       "8113 0       0          1                 \n",
       "8114 0       0          1                 \n",
       "8115 0       1          1                 \n",
       "8116 0       1          1                 \n",
       "8117 0       1          1                 \n",
       "8118 0       0          1                 \n",
       "8119 0       1          1                 \n",
       "8120 0       1          1                 \n",
       "8121 0       1          1                 \n",
       "8122 0       1          1                 \n",
       "8123 0       0          1                 \n",
       "8124 0       1          1                 \n",
       "8125 0       0          1                 \n",
       "8126 0       0          1                 \n",
       "8127 0       0          1                 \n",
       "8128 0       0          1                 "
      ]
     },
     "metadata": {},
     "output_type": "display_data"
    }
   ],
   "source": [
    "# Resumen estadístico de las variables numéricas\n",
    "summary(data)"
   ]
  },
  {
   "cell_type": "code",
   "execution_count": 5,
   "id": "b66e303b",
   "metadata": {},
   "outputs": [
    {
     "data": {
      "image/png": "[encoded data removed]",
      "text/plain": [
       "Plot with title \"Year vs Selling Price USD\""
      ]
     },
     "metadata": {
      "image/png": {
       "height": 420,
       "width": 420
      }
     },
     "output_type": "display_data"
    }
   ],
   "source": [
    "# Gráfico de dispersión para ver la relación entre dos variables (por ejemplo, year y selling_price)\n",
    "plot(data$year, data$price_usd, xlab = \"Year\", ylab = \"price_usd\", main = \"Year vs Selling Price USD\")"
   ]
  },
  {
   "cell_type": "code",
   "execution_count": 6,
   "id": "019e32a3",
   "metadata": {},
   "outputs": [
    {
     "data": {
      "image/png": "[encoded data removed]",
      "text/plain": [
       "Plot with title \"km_driven vs Selling Price USD\""
      ]
     },
     "metadata": {
      "image/png": {
       "height": 420,
       "width": 420
      }
     },
     "output_type": "display_data"
    }
   ],
   "source": [
    "# Gráfico de dispersión para ver la relación entre dos variables (por ejemplo, year y selling_price)\n",
    "plot(data$km_driven, data$price_usd, xlab = \"km_driven\", ylab = \"price_usd\", main = \"km_driven vs Selling Price USD\")"
   ]
  },
  {
   "cell_type": "code",
   "execution_count": 7,
   "id": "6b744686",
   "metadata": {
    "scrolled": false
   },
   "outputs": [
    {
     "data": {
      "image/png": "[encoded data removed]",
      "text/plain": [
       "Plot with title \"Boxplot - km_driven\""
      ]
     },
     "metadata": {
      "image/png": {
       "height": 420,
       "width": 420
      }
     },
     "output_type": "display_data"
    },
    {
     "data": {
      "image/png": "[encoded data removed]",
      "text/plain": [
       "Plot with title \"Boxplot - Price USD\""
      ]
     },
     "metadata": {
      "image/png": {
       "height": 420,
       "width": 420
      }
     },
     "output_type": "display_data"
    }
   ],
   "source": [
    "# Graficar un boxplot para km_driven\n",
    "boxplot(data$km_driven, main = \"Boxplot - km_driven\", ylab = \"km_driven\")\n",
    "\n",
    "# Graficar un boxplot para price_usd\n",
    "boxplot(data$price_usd, main = \"Boxplot - Price USD\", ylab = \"price_usd\")\n"
   ]
  },
  {
   "cell_type": "markdown",
   "id": "b2238cce",
   "metadata": {},
   "source": [
    "## Regresión Logistica"
   ]
  },
  {
   "cell_type": "code",
   "execution_count": 8,
   "id": "39674a99",
   "metadata": {
    "scrolled": true
   },
   "outputs": [
    {
     "data": {
      "image/png": "[encoded data removed]",
      "text/plain": [
       "Plot with title \"Distribución de Owner\""
      ]
     },
     "metadata": {
      "image/png": {
       "height": 420,
       "width": 420
      }
     },
     "output_type": "display_data"
    }
   ],
   "source": [
    "# Graficar un gráfico de barras para la distribución de 'owner' si son categorías específicas\n",
    "barplot(table(data$seller_type), main = \"Distribución de Owner\", xlab = \"Categoría de Propietarios\", ylab = \"Frecuencia\")\n"
   ]
  },
  {
   "cell_type": "code",
   "execution_count": 9,
   "id": "8750dfbf",
   "metadata": {},
   "outputs": [],
   "source": [
    "data$fuel <- as.factor(data$fuel)\n",
    "data$transmission <- as.factor(data$transmission)"
   ]
  },
  {
   "cell_type": "code",
   "execution_count": 10,
   "id": "f7507b29",
   "metadata": {},
   "outputs": [],
   "source": [
    "# Crear variables dummy para las variables categóricas\n",
    "data <- cbind(data, model.matrix(~ fuel + transmission - 1, data))"
   ]
  },
  {
   "cell_type": "code",
   "execution_count": 11,
   "id": "2e8afe24",
   "metadata": {},
   "outputs": [],
   "source": [
    "# Combinar 'dealer' y 'trustmark dealer' en una sola categoría 'dealer'\n",
    "data$seller_type <- ifelse(data$seller_type == \"Trustmark Dealer\", \"Dealer\", data$seller_type)\n"
   ]
  },
  {
   "cell_type": "code",
   "execution_count": 12,
   "id": "3ea83679",
   "metadata": {},
   "outputs": [
    {
     "data": {
      "text/html": [
       "<style>\n",
       ".list-inline {list-style: none; margin:0; padding: 0}\n",
       ".list-inline>li {display: inline-block}\n",
       ".list-inline>li:not(:last-child)::after {content: \"\\00b7\"; padding: 0 .5ex}\n",
       "</style>\n",
       "<ol class=list-inline><li>'Individual'</li><li>'Dealer'</li></ol>\n"
      ],
      "text/latex": [
       "\\begin{enumerate*}\n",
       "\\item 'Individual'\n",
       "\\item 'Dealer'\n",
       "\\end{enumerate*}\n"
      ],
      "text/markdown": [
       "1. 'Individual'\n",
       "2. 'Dealer'\n",
       "\n",
       "\n"
      ],
      "text/plain": [
       "[1] \"Individual\" \"Dealer\"    "
      ]
     },
     "metadata": {},
     "output_type": "display_data"
    }
   ],
   "source": [
    "# Ver los valores únicos en la columna seller_type\n",
    "unique(data$seller_type)"
   ]
  },
  {
   "cell_type": "code",
   "execution_count": 84,
   "id": "61781f36",
   "metadata": {
    "scrolled": true
   },
   "outputs": [
    {
     "data": {
      "image/png": "[encoded data removed]",
      "text/plain": [
       "Plot with title \"Distribución de Owner\""
      ]
     },
     "metadata": {
      "image/png": {
       "height": 420,
       "width": 420
      }
     },
     "output_type": "display_data"
    }
   ],
   "source": [
    "# Graficar un gráfico de barras para la distribución de 'owner' si son categorías específicas\n",
    "barplot(table(data$seller_type), main = \"Distribución de Owner\", xlab = \"Categoría de Propietarios\", ylab = \"Frecuencia\")"
   ]
  },
  {
   "cell_type": "code",
   "execution_count": 14,
   "id": "37b3e2bf",
   "metadata": {},
   "outputs": [],
   "source": [
    "# Codificar 'seller_type' como una variable binaria\n",
    "data$seller_type <- factor(data$seller_type, levels = c(\"Individual\", \"Dealer\"), labels = c(0, 1))"
   ]
  },
  {
   "cell_type": "code",
   "execution_count": 15,
   "id": "33072a66",
   "metadata": {},
   "outputs": [
    {
     "data": {
      "text/html": [
       "<style>\n",
       ".list-inline {list-style: none; margin:0; padding: 0}\n",
       ".list-inline>li {display: inline-block}\n",
       ".list-inline>li:not(:last-child)::after {content: \"\\00b7\"; padding: 0 .5ex}\n",
       "</style>\n",
       "<ol class=list-inline><li>'CNG'</li><li>'Diesel'</li><li>'LPG'</li><li>'Petrol'</li></ol>\n"
      ],
      "text/latex": [
       "\\begin{enumerate*}\n",
       "\\item 'CNG'\n",
       "\\item 'Diesel'\n",
       "\\item 'LPG'\n",
       "\\item 'Petrol'\n",
       "\\end{enumerate*}\n"
      ],
      "text/markdown": [
       "1. 'CNG'\n",
       "2. 'Diesel'\n",
       "3. 'LPG'\n",
       "4. 'Petrol'\n",
       "\n",
       "\n"
      ],
      "text/plain": [
       "[1] \"CNG\"    \"Diesel\" \"LPG\"    \"Petrol\""
      ]
     },
     "metadata": {},
     "output_type": "display_data"
    },
    {
     "data": {
      "text/html": [
       "<style>\n",
       ".list-inline {list-style: none; margin:0; padding: 0}\n",
       ".list-inline>li {display: inline-block}\n",
       ".list-inline>li:not(:last-child)::after {content: \"\\00b7\"; padding: 0 .5ex}\n",
       "</style>\n",
       "<ol class=list-inline><li>'Automatic'</li><li>'Manual'</li></ol>\n"
      ],
      "text/latex": [
       "\\begin{enumerate*}\n",
       "\\item 'Automatic'\n",
       "\\item 'Manual'\n",
       "\\end{enumerate*}\n"
      ],
      "text/markdown": [
       "1. 'Automatic'\n",
       "2. 'Manual'\n",
       "\n",
       "\n"
      ],
      "text/plain": [
       "[1] \"Automatic\" \"Manual\"   "
      ]
     },
     "metadata": {},
     "output_type": "display_data"
    }
   ],
   "source": [
    "# Verificar la cantidad de niveles de las variables categóricas\n",
    "levels(data$fuel)\n",
    "levels(data$transmission)"
   ]
  },
  {
   "cell_type": "code",
   "execution_count": 16,
   "id": "48477481",
   "metadata": {},
   "outputs": [],
   "source": [
    "# Dividir los datos en conjunto de entrenamiento y prueba\n",
    "set.seed(132) # Para reproducibilidad\n",
    "train_index <- sample(1:nrow(data), 0.7 * nrow(data)) # 70% para entrenamiento, 30% para prueba\n",
    "train_data <- data[train_index, ]\n",
    "test_data <- data[-train_index, ]"
   ]
  },
  {
   "cell_type": "code",
   "execution_count": 17,
   "id": "45458270",
   "metadata": {},
   "outputs": [
    {
     "name": "stdout",
     "output_type": "stream",
     "text": [
      " int [1:5689] 2012 2015 2005 2018 2016 2015 2010 2011 2012 2014 ...\n",
      " int [1:5689] 60000 110000 120000 38817 85000 140000 158000 70000 13000 40000 ...\n",
      " chr [1:5689] \"17.8 kmpl\" \"14.1 kmpl\" \"12.8 kmpl\" \"27.39 kmpl\" \"12.62 kmpl\" ...\n"
     ]
    }
   ],
   "source": [
    "# Verificar el tipo de las variables que podrían estar causando el error\n",
    "str(train_data$year)\n",
    "str(train_data$km_driven)\n",
    "str(train_data$mileage)\n"
   ]
  },
  {
   "cell_type": "code",
   "execution_count": 18,
   "id": "1e868599",
   "metadata": {},
   "outputs": [
    {
     "name": "stdout",
     "output_type": "stream",
     "text": [
      " num [1:5689] 17.8 14.1 12.8 27.4 12.6 ...\n"
     ]
    }
   ],
   "source": [
    "# Extraer solo los números de la columna mileage y convertir a numérico\n",
    "train_data$mileage <- as.numeric(gsub(\"[^0-9.]\", \"\", train_data$mileage))\n",
    "\n",
    "# Verificar la estructura actual de la variable mileage\n",
    "str(train_data$mileage)"
   ]
  },
  {
   "cell_type": "code",
   "execution_count": 19,
   "id": "f03e8b1a",
   "metadata": {
    "scrolled": true
   },
   "outputs": [
    {
     "data": {
      "text/plain": [
       "     name                year      selling_price       km_driven     \n",
       " Length:5689        Min.   :1991   Min.   :  30000   Min.   :     1  \n",
       " Class :character   1st Qu.:2011   1st Qu.: 260000   1st Qu.: 35000  \n",
       " Mode  :character   Median :2015   Median : 450000   Median : 60000  \n",
       "                    Mean   :2014   Mean   : 634333   Mean   : 70154  \n",
       "                    3rd Qu.:2017   3rd Qu.: 680000   3rd Qu.:100000  \n",
       "                    Max.   :2020   Max.   :6523000   Max.   :577414  \n",
       "                                                                     \n",
       "     fuel      seller_type    transmission     owner              mileage     \n",
       " CNG   :  38   0:4742      Automatic: 711   Length:5689        Min.   : 0.00  \n",
       " Diesel:3122   1: 947      Manual   :4978   Class :character   1st Qu.:16.78  \n",
       " LPG   :  30                                Mode  :character   Median :19.33  \n",
       " Petrol:2499                                                   Mean   :19.41  \n",
       "                                                               3rd Qu.:22.32  \n",
       "                                                               Max.   :33.44  \n",
       "                                                               NA's   :148    \n",
       "    engine           max_power            torque              seats       \n",
       " Length:5689        Length:5689        Length:5689        Min.   : 2.000  \n",
       " Class :character   Class :character   Class :character   1st Qu.: 5.000  \n",
       " Mode  :character   Mode  :character   Mode  :character   Median : 5.000  \n",
       "                                                          Mean   : 5.425  \n",
       "                                                          3rd Qu.: 5.000  \n",
       "                                                          Max.   :10.000  \n",
       "                                                          NA's   :148     \n",
       "   price_usd          fuelCNG          fuelDiesel        fuelLPG        \n",
       " Min.   :  360.1   Min.   :0.00000   Min.   :0.0000   Min.   :0.000000  \n",
       " 1st Qu.: 3120.7   1st Qu.:0.00000   1st Qu.:0.0000   1st Qu.:0.000000  \n",
       " Median : 5401.1   Median :0.00000   Median :1.0000   Median :0.000000  \n",
       " Mean   : 7613.6   Mean   :0.00668   Mean   :0.5488   Mean   :0.005273  \n",
       " 3rd Qu.: 8161.7   3rd Qu.:0.00000   3rd Qu.:1.0000   3rd Qu.:0.000000  \n",
       " Max.   :78292.4   Max.   :1.00000   Max.   :1.0000   Max.   :1.000000  \n",
       "                                                                        \n",
       "   fuelPetrol     transmissionManual\n",
       " Min.   :0.0000   Min.   :0.000     \n",
       " 1st Qu.:0.0000   1st Qu.:1.000     \n",
       " Median :0.0000   Median :1.000     \n",
       " Mean   :0.4393   Mean   :0.875     \n",
       " 3rd Qu.:1.0000   3rd Qu.:1.000     \n",
       " Max.   :1.0000   Max.   :1.000     \n",
       "                                    "
      ]
     },
     "metadata": {},
     "output_type": "display_data"
    }
   ],
   "source": [
    "# Resumen estadístico de las variables numéricas\n",
    "summary(train_data)"
   ]
  },
  {
   "cell_type": "code",
   "execution_count": 20,
   "id": "ba7daad6",
   "metadata": {},
   "outputs": [],
   "source": [
    "# Limpiar caracteres no numéricos y mantener solo los números y puntos decimales\n",
    "train_data$mileage <- as.numeric(gsub(\"[^0-9.]\", \"\", train_data$mileage))\n",
    "# Limpiar caracteres no numéricos y mantener solo los números\n",
    "train_data$engine <- as.numeric(gsub(\"[^0-9]\", \"\", train_data$engine))\n",
    "train_data$max_power <- as.numeric(gsub(\"[^0-9]\", \"\", train_data$max_power))\n",
    "\n"
   ]
  },
  {
   "cell_type": "code",
   "execution_count": 21,
   "id": "9f1282fe",
   "metadata": {},
   "outputs": [
    {
     "data": {
      "text/html": [
       "<table class=\"dataframe\">\n",
       "<caption>A data.frame: 6 × 19</caption>\n",
       "<thead>\n",
       "\t<tr><th></th><th scope=col>name</th><th scope=col>year</th><th scope=col>selling_price</th><th scope=col>km_driven</th><th scope=col>fuel</th><th scope=col>seller_type</th><th scope=col>transmission</th><th scope=col>owner</th><th scope=col>mileage</th><th scope=col>engine</th><th scope=col>max_power</th><th scope=col>torque</th><th scope=col>seats</th><th scope=col>price_usd</th><th scope=col>fuelCNG</th><th scope=col>fuelDiesel</th><th scope=col>fuelLPG</th><th scope=col>fuelPetrol</th><th scope=col>transmissionManual</th></tr>\n",
       "\t<tr><th></th><th scope=col>&lt;chr&gt;</th><th scope=col>&lt;int&gt;</th><th scope=col>&lt;int&gt;</th><th scope=col>&lt;int&gt;</th><th scope=col>&lt;fct&gt;</th><th scope=col>&lt;fct&gt;</th><th scope=col>&lt;fct&gt;</th><th scope=col>&lt;chr&gt;</th><th scope=col>&lt;dbl&gt;</th><th scope=col>&lt;dbl&gt;</th><th scope=col>&lt;dbl&gt;</th><th scope=col>&lt;chr&gt;</th><th scope=col>&lt;int&gt;</th><th scope=col>&lt;dbl&gt;</th><th scope=col>&lt;dbl&gt;</th><th scope=col>&lt;dbl&gt;</th><th scope=col>&lt;dbl&gt;</th><th scope=col>&lt;dbl&gt;</th><th scope=col>&lt;dbl&gt;</th></tr>\n",
       "</thead>\n",
       "<tbody>\n",
       "\t<tr><th scope=row>3755</th><td>Ford Fiesta Classic 1.4 Duratorq CLXI</td><td>2012</td><td> 330000</td><td> 60000</td><td>Diesel</td><td>0</td><td>Manual   </td><td>First Owner </td><td>17.80</td><td>1399</td><td>   67</td><td>160Nm@ 2000rpm           </td><td>5</td><td> 3960.832</td><td>0</td><td>1</td><td>0</td><td>0</td><td>1</td></tr>\n",
       "\t<tr><th scope=row>5087</th><td>Tata Safari Storme EX                </td><td>2015</td><td> 503000</td><td>110000</td><td>Diesel</td><td>0</td><td>Manual   </td><td>First Owner </td><td>14.10</td><td>2179</td><td>14794</td><td>320Nm@ 1500-3000rpm      </td><td>7</td><td> 6037.268</td><td>0</td><td>1</td><td>0</td><td>0</td><td>1</td></tr>\n",
       "\t<tr><th scope=row>2587</th><td>Toyota Innova 2.5 G2                 </td><td>2005</td><td> 245000</td><td>120000</td><td>Diesel</td><td>0</td><td>Manual   </td><td>First Owner </td><td>12.80</td><td>2494</td><td>  102</td><td>20.4@ 1400-3400(kgm@ rpm)</td><td>8</td><td> 2940.618</td><td>0</td><td>1</td><td>0</td><td>0</td><td>1</td></tr>\n",
       "\t<tr><th scope=row>6562</th><td>Maruti Baleno Alpha 1.3              </td><td>2018</td><td> 740000</td><td> 38817</td><td>Diesel</td><td>1</td><td>Manual   </td><td>First Owner </td><td>27.39</td><td>1248</td><td>   74</td><td>190Nm@ 2000rpm           </td><td>5</td><td> 8881.866</td><td>0</td><td>1</td><td>0</td><td>0</td><td>1</td></tr>\n",
       "\t<tr><th scope=row>7932</th><td>Ford Endeavour 2.2 Titanium AT 4X2   </td><td>2016</td><td>2100000</td><td> 85000</td><td>Diesel</td><td>0</td><td>Automatic</td><td>Second Owner</td><td>12.62</td><td>2198</td><td>  158</td><td>385Nm@ 1600-2500rpm      </td><td>7</td><td>25205.294</td><td>0</td><td>1</td><td>0</td><td>0</td><td>0</td></tr>\n",
       "\t<tr><th scope=row>2553</th><td>Renault Duster 85PS Diesel RxL Plus  </td><td>2015</td><td> 620000</td><td>140000</td><td>Diesel</td><td>0</td><td>Manual   </td><td>Second Owner</td><td>20.45</td><td>1461</td><td>  838</td><td>200Nm@ 1900rpm           </td><td>5</td><td> 7441.563</td><td>0</td><td>1</td><td>0</td><td>0</td><td>1</td></tr>\n",
       "</tbody>\n",
       "</table>\n"
      ],
      "text/latex": [
       "A data.frame: 6 × 19\n",
       "\\begin{tabular}{r|lllllllllllllllllll}\n",
       "  & name & year & selling\\_price & km\\_driven & fuel & seller\\_type & transmission & owner & mileage & engine & max\\_power & torque & seats & price\\_usd & fuelCNG & fuelDiesel & fuelLPG & fuelPetrol & transmissionManual\\\\\n",
       "  & <chr> & <int> & <int> & <int> & <fct> & <fct> & <fct> & <chr> & <dbl> & <dbl> & <dbl> & <chr> & <int> & <dbl> & <dbl> & <dbl> & <dbl> & <dbl> & <dbl>\\\\\n",
       "\\hline\n",
       "\t3755 & Ford Fiesta Classic 1.4 Duratorq CLXI & 2012 &  330000 &  60000 & Diesel & 0 & Manual    & First Owner  & 17.80 & 1399 &    67 & 160Nm@ 2000rpm            & 5 &  3960.832 & 0 & 1 & 0 & 0 & 1\\\\\n",
       "\t5087 & Tata Safari Storme EX                 & 2015 &  503000 & 110000 & Diesel & 0 & Manual    & First Owner  & 14.10 & 2179 & 14794 & 320Nm@ 1500-3000rpm       & 7 &  6037.268 & 0 & 1 & 0 & 0 & 1\\\\\n",
       "\t2587 & Toyota Innova 2.5 G2                  & 2005 &  245000 & 120000 & Diesel & 0 & Manual    & First Owner  & 12.80 & 2494 &   102 & 20.4@ 1400-3400(kgm@ rpm) & 8 &  2940.618 & 0 & 1 & 0 & 0 & 1\\\\\n",
       "\t6562 & Maruti Baleno Alpha 1.3               & 2018 &  740000 &  38817 & Diesel & 1 & Manual    & First Owner  & 27.39 & 1248 &    74 & 190Nm@ 2000rpm            & 5 &  8881.866 & 0 & 1 & 0 & 0 & 1\\\\\n",
       "\t7932 & Ford Endeavour 2.2 Titanium AT 4X2    & 2016 & 2100000 &  85000 & Diesel & 0 & Automatic & Second Owner & 12.62 & 2198 &   158 & 385Nm@ 1600-2500rpm       & 7 & 25205.294 & 0 & 1 & 0 & 0 & 0\\\\\n",
       "\t2553 & Renault Duster 85PS Diesel RxL Plus   & 2015 &  620000 & 140000 & Diesel & 0 & Manual    & Second Owner & 20.45 & 1461 &   838 & 200Nm@ 1900rpm            & 5 &  7441.563 & 0 & 1 & 0 & 0 & 1\\\\\n",
       "\\end{tabular}\n"
      ],
      "text/markdown": [
       "\n",
       "A data.frame: 6 × 19\n",
       "\n",
       "| <!--/--> | name &lt;chr&gt; | year &lt;int&gt; | selling_price &lt;int&gt; | km_driven &lt;int&gt; | fuel &lt;fct&gt; | seller_type &lt;fct&gt; | transmission &lt;fct&gt; | owner &lt;chr&gt; | mileage &lt;dbl&gt; | engine &lt;dbl&gt; | max_power &lt;dbl&gt; | torque &lt;chr&gt; | seats &lt;int&gt; | price_usd &lt;dbl&gt; | fuelCNG &lt;dbl&gt; | fuelDiesel &lt;dbl&gt; | fuelLPG &lt;dbl&gt; | fuelPetrol &lt;dbl&gt; | transmissionManual &lt;dbl&gt; |\n",
       "|---|---|---|---|---|---|---|---|---|---|---|---|---|---|---|---|---|---|---|---|\n",
       "| 3755 | Ford Fiesta Classic 1.4 Duratorq CLXI | 2012 |  330000 |  60000 | Diesel | 0 | Manual    | First Owner  | 17.80 | 1399 |    67 | 160Nm@ 2000rpm            | 5 |  3960.832 | 0 | 1 | 0 | 0 | 1 |\n",
       "| 5087 | Tata Safari Storme EX                 | 2015 |  503000 | 110000 | Diesel | 0 | Manual    | First Owner  | 14.10 | 2179 | 14794 | 320Nm@ 1500-3000rpm       | 7 |  6037.268 | 0 | 1 | 0 | 0 | 1 |\n",
       "| 2587 | Toyota Innova 2.5 G2                  | 2005 |  245000 | 120000 | Diesel | 0 | Manual    | First Owner  | 12.80 | 2494 |   102 | 20.4@ 1400-3400(kgm@ rpm) | 8 |  2940.618 | 0 | 1 | 0 | 0 | 1 |\n",
       "| 6562 | Maruti Baleno Alpha 1.3               | 2018 |  740000 |  38817 | Diesel | 1 | Manual    | First Owner  | 27.39 | 1248 |    74 | 190Nm@ 2000rpm            | 5 |  8881.866 | 0 | 1 | 0 | 0 | 1 |\n",
       "| 7932 | Ford Endeavour 2.2 Titanium AT 4X2    | 2016 | 2100000 |  85000 | Diesel | 0 | Automatic | Second Owner | 12.62 | 2198 |   158 | 385Nm@ 1600-2500rpm       | 7 | 25205.294 | 0 | 1 | 0 | 0 | 0 |\n",
       "| 2553 | Renault Duster 85PS Diesel RxL Plus   | 2015 |  620000 | 140000 | Diesel | 0 | Manual    | Second Owner | 20.45 | 1461 |   838 | 200Nm@ 1900rpm            | 5 |  7441.563 | 0 | 1 | 0 | 0 | 1 |\n",
       "\n"
      ],
      "text/plain": [
       "     name                                  year selling_price km_driven fuel  \n",
       "3755 Ford Fiesta Classic 1.4 Duratorq CLXI 2012  330000        60000    Diesel\n",
       "5087 Tata Safari Storme EX                 2015  503000       110000    Diesel\n",
       "2587 Toyota Innova 2.5 G2                  2005  245000       120000    Diesel\n",
       "6562 Maruti Baleno Alpha 1.3               2018  740000        38817    Diesel\n",
       "7932 Ford Endeavour 2.2 Titanium AT 4X2    2016 2100000        85000    Diesel\n",
       "2553 Renault Duster 85PS Diesel RxL Plus   2015  620000       140000    Diesel\n",
       "     seller_type transmission owner        mileage engine max_power\n",
       "3755 0           Manual       First Owner  17.80   1399      67    \n",
       "5087 0           Manual       First Owner  14.10   2179   14794    \n",
       "2587 0           Manual       First Owner  12.80   2494     102    \n",
       "6562 1           Manual       First Owner  27.39   1248      74    \n",
       "7932 0           Automatic    Second Owner 12.62   2198     158    \n",
       "2553 0           Manual       Second Owner 20.45   1461     838    \n",
       "     torque                    seats price_usd fuelCNG fuelDiesel fuelLPG\n",
       "3755 160Nm@ 2000rpm            5      3960.832 0       1          0      \n",
       "5087 320Nm@ 1500-3000rpm       7      6037.268 0       1          0      \n",
       "2587 20.4@ 1400-3400(kgm@ rpm) 8      2940.618 0       1          0      \n",
       "6562 190Nm@ 2000rpm            5      8881.866 0       1          0      \n",
       "7932 385Nm@ 1600-2500rpm       7     25205.294 0       1          0      \n",
       "2553 200Nm@ 1900rpm            5      7441.563 0       1          0      \n",
       "     fuelPetrol transmissionManual\n",
       "3755 0          1                 \n",
       "5087 0          1                 \n",
       "2587 0          1                 \n",
       "6562 0          1                 \n",
       "7932 0          0                 \n",
       "2553 0          1                 "
      ]
     },
     "metadata": {},
     "output_type": "display_data"
    },
    {
     "data": {
      "text/html": [
       "<table class=\"dataframe\">\n",
       "<caption>A data.frame: 6 × 19</caption>\n",
       "<thead>\n",
       "\t<tr><th></th><th scope=col>name</th><th scope=col>year</th><th scope=col>selling_price</th><th scope=col>km_driven</th><th scope=col>fuel</th><th scope=col>seller_type</th><th scope=col>transmission</th><th scope=col>owner</th><th scope=col>mileage</th><th scope=col>engine</th><th scope=col>max_power</th><th scope=col>torque</th><th scope=col>seats</th><th scope=col>price_usd</th><th scope=col>fuelCNG</th><th scope=col>fuelDiesel</th><th scope=col>fuelLPG</th><th scope=col>fuelPetrol</th><th scope=col>transmissionManual</th></tr>\n",
       "\t<tr><th></th><th scope=col>&lt;chr&gt;</th><th scope=col>&lt;int&gt;</th><th scope=col>&lt;int&gt;</th><th scope=col>&lt;int&gt;</th><th scope=col>&lt;fct&gt;</th><th scope=col>&lt;fct&gt;</th><th scope=col>&lt;fct&gt;</th><th scope=col>&lt;chr&gt;</th><th scope=col>&lt;chr&gt;</th><th scope=col>&lt;chr&gt;</th><th scope=col>&lt;chr&gt;</th><th scope=col>&lt;chr&gt;</th><th scope=col>&lt;int&gt;</th><th scope=col>&lt;dbl&gt;</th><th scope=col>&lt;dbl&gt;</th><th scope=col>&lt;dbl&gt;</th><th scope=col>&lt;dbl&gt;</th><th scope=col>&lt;dbl&gt;</th><th scope=col>&lt;dbl&gt;</th></tr>\n",
       "</thead>\n",
       "<tbody>\n",
       "\t<tr><th scope=row>1</th><td>Maruti Swift Dzire VDI       </td><td>2014</td><td>450000</td><td>145500</td><td>Diesel</td><td>0</td><td>Manual</td><td>First Owner </td><td>23.4 kmpl </td><td>1248 CC</td><td>74 bhp    </td><td>190Nm@ 2000rpm          </td><td>5</td><td>5401.135</td><td>0</td><td>1</td><td>0</td><td>0</td><td>1</td></tr>\n",
       "\t<tr><th scope=row>2</th><td>Skoda Rapid 1.5 TDI Ambition </td><td>2014</td><td>370000</td><td>120000</td><td>Diesel</td><td>0</td><td>Manual</td><td>Second Owner</td><td>21.14 kmpl</td><td>1498 CC</td><td>103.52 bhp</td><td>250Nm@ 1500-2500rpm     </td><td>5</td><td>4440.933</td><td>0</td><td>1</td><td>0</td><td>0</td><td>1</td></tr>\n",
       "\t<tr><th scope=row>3</th><td>Honda City 2017-2020 EXi     </td><td>2006</td><td>158000</td><td>140000</td><td>Petrol</td><td>0</td><td>Manual</td><td>Third Owner </td><td>17.7 kmpl </td><td>1497 CC</td><td>78 bhp    </td><td>12.7@ 2,700(kgm@ rpm)   </td><td>5</td><td>1896.398</td><td>0</td><td>0</td><td>0</td><td>1</td><td>1</td></tr>\n",
       "\t<tr><th scope=row>4</th><td>Hyundai i20 Sportz Diesel    </td><td>2010</td><td>225000</td><td>127000</td><td>Diesel</td><td>0</td><td>Manual</td><td>First Owner </td><td>23.0 kmpl </td><td>1396 CC</td><td>90 bhp    </td><td>22.4 kgm at 1750-2750rpm</td><td>5</td><td>2700.567</td><td>0</td><td>1</td><td>0</td><td>0</td><td>1</td></tr>\n",
       "\t<tr><th scope=row>5</th><td>Maruti Swift VXI BSIII       </td><td>2007</td><td>130000</td><td>120000</td><td>Petrol</td><td>0</td><td>Manual</td><td>First Owner </td><td>16.1 kmpl </td><td>1298 CC</td><td>88.2 bhp  </td><td>11.5@ 4,500(kgm@ rpm)   </td><td>5</td><td>1560.328</td><td>0</td><td>0</td><td>0</td><td>1</td><td>1</td></tr>\n",
       "\t<tr><th scope=row>6</th><td>Hyundai Xcent 1.2 VTVT E Plus</td><td>2017</td><td>440000</td><td> 45000</td><td>Petrol</td><td>0</td><td>Manual</td><td>First Owner </td><td>20.14 kmpl</td><td>1197 CC</td><td>81.86 bhp </td><td>113.75nm@ 4000rpm       </td><td>5</td><td>5281.109</td><td>0</td><td>0</td><td>0</td><td>1</td><td>1</td></tr>\n",
       "</tbody>\n",
       "</table>\n"
      ],
      "text/latex": [
       "A data.frame: 6 × 19\n",
       "\\begin{tabular}{r|lllllllllllllllllll}\n",
       "  & name & year & selling\\_price & km\\_driven & fuel & seller\\_type & transmission & owner & mileage & engine & max\\_power & torque & seats & price\\_usd & fuelCNG & fuelDiesel & fuelLPG & fuelPetrol & transmissionManual\\\\\n",
       "  & <chr> & <int> & <int> & <int> & <fct> & <fct> & <fct> & <chr> & <chr> & <chr> & <chr> & <chr> & <int> & <dbl> & <dbl> & <dbl> & <dbl> & <dbl> & <dbl>\\\\\n",
       "\\hline\n",
       "\t1 & Maruti Swift Dzire VDI        & 2014 & 450000 & 145500 & Diesel & 0 & Manual & First Owner  & 23.4 kmpl  & 1248 CC & 74 bhp     & 190Nm@ 2000rpm           & 5 & 5401.135 & 0 & 1 & 0 & 0 & 1\\\\\n",
       "\t2 & Skoda Rapid 1.5 TDI Ambition  & 2014 & 370000 & 120000 & Diesel & 0 & Manual & Second Owner & 21.14 kmpl & 1498 CC & 103.52 bhp & 250Nm@ 1500-2500rpm      & 5 & 4440.933 & 0 & 1 & 0 & 0 & 1\\\\\n",
       "\t3 & Honda City 2017-2020 EXi      & 2006 & 158000 & 140000 & Petrol & 0 & Manual & Third Owner  & 17.7 kmpl  & 1497 CC & 78 bhp     & 12.7@ 2,700(kgm@ rpm)    & 5 & 1896.398 & 0 & 0 & 0 & 1 & 1\\\\\n",
       "\t4 & Hyundai i20 Sportz Diesel     & 2010 & 225000 & 127000 & Diesel & 0 & Manual & First Owner  & 23.0 kmpl  & 1396 CC & 90 bhp     & 22.4 kgm at 1750-2750rpm & 5 & 2700.567 & 0 & 1 & 0 & 0 & 1\\\\\n",
       "\t5 & Maruti Swift VXI BSIII        & 2007 & 130000 & 120000 & Petrol & 0 & Manual & First Owner  & 16.1 kmpl  & 1298 CC & 88.2 bhp   & 11.5@ 4,500(kgm@ rpm)    & 5 & 1560.328 & 0 & 0 & 0 & 1 & 1\\\\\n",
       "\t6 & Hyundai Xcent 1.2 VTVT E Plus & 2017 & 440000 &  45000 & Petrol & 0 & Manual & First Owner  & 20.14 kmpl & 1197 CC & 81.86 bhp  & 113.75nm@ 4000rpm        & 5 & 5281.109 & 0 & 0 & 0 & 1 & 1\\\\\n",
       "\\end{tabular}\n"
      ],
      "text/markdown": [
       "\n",
       "A data.frame: 6 × 19\n",
       "\n",
       "| <!--/--> | name &lt;chr&gt; | year &lt;int&gt; | selling_price &lt;int&gt; | km_driven &lt;int&gt; | fuel &lt;fct&gt; | seller_type &lt;fct&gt; | transmission &lt;fct&gt; | owner &lt;chr&gt; | mileage &lt;chr&gt; | engine &lt;chr&gt; | max_power &lt;chr&gt; | torque &lt;chr&gt; | seats &lt;int&gt; | price_usd &lt;dbl&gt; | fuelCNG &lt;dbl&gt; | fuelDiesel &lt;dbl&gt; | fuelLPG &lt;dbl&gt; | fuelPetrol &lt;dbl&gt; | transmissionManual &lt;dbl&gt; |\n",
       "|---|---|---|---|---|---|---|---|---|---|---|---|---|---|---|---|---|---|---|---|\n",
       "| 1 | Maruti Swift Dzire VDI        | 2014 | 450000 | 145500 | Diesel | 0 | Manual | First Owner  | 23.4 kmpl  | 1248 CC | 74 bhp     | 190Nm@ 2000rpm           | 5 | 5401.135 | 0 | 1 | 0 | 0 | 1 |\n",
       "| 2 | Skoda Rapid 1.5 TDI Ambition  | 2014 | 370000 | 120000 | Diesel | 0 | Manual | Second Owner | 21.14 kmpl | 1498 CC | 103.52 bhp | 250Nm@ 1500-2500rpm      | 5 | 4440.933 | 0 | 1 | 0 | 0 | 1 |\n",
       "| 3 | Honda City 2017-2020 EXi      | 2006 | 158000 | 140000 | Petrol | 0 | Manual | Third Owner  | 17.7 kmpl  | 1497 CC | 78 bhp     | 12.7@ 2,700(kgm@ rpm)    | 5 | 1896.398 | 0 | 0 | 0 | 1 | 1 |\n",
       "| 4 | Hyundai i20 Sportz Diesel     | 2010 | 225000 | 127000 | Diesel | 0 | Manual | First Owner  | 23.0 kmpl  | 1396 CC | 90 bhp     | 22.4 kgm at 1750-2750rpm | 5 | 2700.567 | 0 | 1 | 0 | 0 | 1 |\n",
       "| 5 | Maruti Swift VXI BSIII        | 2007 | 130000 | 120000 | Petrol | 0 | Manual | First Owner  | 16.1 kmpl  | 1298 CC | 88.2 bhp   | 11.5@ 4,500(kgm@ rpm)    | 5 | 1560.328 | 0 | 0 | 0 | 1 | 1 |\n",
       "| 6 | Hyundai Xcent 1.2 VTVT E Plus | 2017 | 440000 |  45000 | Petrol | 0 | Manual | First Owner  | 20.14 kmpl | 1197 CC | 81.86 bhp  | 113.75nm@ 4000rpm        | 5 | 5281.109 | 0 | 0 | 0 | 1 | 1 |\n",
       "\n"
      ],
      "text/plain": [
       "  name                          year selling_price km_driven fuel   seller_type\n",
       "1 Maruti Swift Dzire VDI        2014 450000        145500    Diesel 0          \n",
       "2 Skoda Rapid 1.5 TDI Ambition  2014 370000        120000    Diesel 0          \n",
       "3 Honda City 2017-2020 EXi      2006 158000        140000    Petrol 0          \n",
       "4 Hyundai i20 Sportz Diesel     2010 225000        127000    Diesel 0          \n",
       "5 Maruti Swift VXI BSIII        2007 130000        120000    Petrol 0          \n",
       "6 Hyundai Xcent 1.2 VTVT E Plus 2017 440000         45000    Petrol 0          \n",
       "  transmission owner        mileage    engine  max_power \n",
       "1 Manual       First Owner  23.4 kmpl  1248 CC 74 bhp    \n",
       "2 Manual       Second Owner 21.14 kmpl 1498 CC 103.52 bhp\n",
       "3 Manual       Third Owner  17.7 kmpl  1497 CC 78 bhp    \n",
       "4 Manual       First Owner  23.0 kmpl  1396 CC 90 bhp    \n",
       "5 Manual       First Owner  16.1 kmpl  1298 CC 88.2 bhp  \n",
       "6 Manual       First Owner  20.14 kmpl 1197 CC 81.86 bhp \n",
       "  torque                   seats price_usd fuelCNG fuelDiesel fuelLPG\n",
       "1 190Nm@ 2000rpm           5     5401.135  0       1          0      \n",
       "2 250Nm@ 1500-2500rpm      5     4440.933  0       1          0      \n",
       "3 12.7@ 2,700(kgm@ rpm)    5     1896.398  0       0          0      \n",
       "4 22.4 kgm at 1750-2750rpm 5     2700.567  0       1          0      \n",
       "5 11.5@ 4,500(kgm@ rpm)    5     1560.328  0       0          0      \n",
       "6 113.75nm@ 4000rpm        5     5281.109  0       0          0      \n",
       "  fuelPetrol transmissionManual\n",
       "1 0          1                 \n",
       "2 0          1                 \n",
       "3 1          1                 \n",
       "4 0          1                 \n",
       "5 1          1                 \n",
       "6 1          1                 "
      ]
     },
     "metadata": {},
     "output_type": "display_data"
    }
   ],
   "source": [
    "head(train_data)\n",
    "head(data)"
   ]
  },
  {
   "cell_type": "code",
   "execution_count": 22,
   "id": "aa1ab432",
   "metadata": {},
   "outputs": [],
   "source": [
    "# Ajustar el modelo de regresión logística\n",
    "logistic_model <- glm(seller_type ~ year + km_driven + mileage + engine + max_power + seats + fuel + transmission, \n",
    "                      data = train_data, family = \"binomial\")"
   ]
  },
  {
   "cell_type": "code",
   "execution_count": 23,
   "id": "cb493554",
   "metadata": {
    "scrolled": true
   },
   "outputs": [
    {
     "data": {
      "text/plain": [
       "\n",
       "Call:\n",
       "glm(formula = seller_type ~ year + km_driven + mileage + engine + \n",
       "    max_power + seats + fuel + transmission, family = \"binomial\", \n",
       "    data = train_data)\n",
       "\n",
       "Deviance Residuals: \n",
       "    Min       1Q   Median       3Q      Max  \n",
       "-2.8677  -0.5770  -0.4014  -0.2479   2.7934  \n",
       "\n",
       "Coefficients:\n",
       "                     Estimate Std. Error z value Pr(>|z|)    \n",
       "(Intercept)        -1.505e+02  2.346e+02  -0.641 0.521217    \n",
       "year                6.749e-02  1.745e-02   3.868 0.000110 ***\n",
       "km_driven          -1.216e-05  1.498e-06  -8.121 4.62e-16 ***\n",
       "mileage             5.536e-02  1.625e-02   3.406 0.000658 ***\n",
       "engine              1.316e-03  1.591e-04   8.275  < 2e-16 ***\n",
       "max_power           3.758e-05  9.184e-06   4.092 4.28e-05 ***\n",
       "seats              -4.139e-01  6.939e-02  -5.965 2.45e-09 ***\n",
       "fuelDiesel          1.366e+01  2.320e+02   0.059 0.953053    \n",
       "fuelLPG             1.328e+01  2.320e+02   0.057 0.954355    \n",
       "fuelPetrol          1.369e+01  2.320e+02   0.059 0.952935    \n",
       "transmissionManual -1.271e+00  1.107e-01 -11.476  < 2e-16 ***\n",
       "---\n",
       "Signif. codes:  0 '***' 0.001 '**' 0.01 '*' 0.05 '.' 0.1 ' ' 1\n",
       "\n",
       "(Dispersion parameter for binomial family taken to be 1)\n",
       "\n",
       "    Null deviance: 5020.0  on 5539  degrees of freedom\n",
       "Residual deviance: 4043.4  on 5529  degrees of freedom\n",
       "  (149 observations deleted due to missingness)\n",
       "AIC: 4065.4\n",
       "\n",
       "Number of Fisher Scoring iterations: 14\n"
      ]
     },
     "metadata": {},
     "output_type": "display_data"
    }
   ],
   "source": [
    "summary(logistic_model)\n"
   ]
  },
  {
   "cell_type": "code",
   "execution_count": 24,
   "id": "d870b9f5",
   "metadata": {},
   "outputs": [],
   "source": [
    "# Convertir 'fuel' y 'transmission' a factores\n",
    "test_data$fuel <- as.factor(test_data$fuel)\n",
    "test_data$transmission <- as.factor(test_data$transmission)\n",
    "\n",
    "# Crear variables dummy para las variables categóricas\n",
    "test_data <- cbind(test_data, model.matrix(~ fuel + transmission - 1, test_data))\n",
    "\n",
    "# Extraer solo los números de la columna 'mileage' y convertir a numérico\n",
    "test_data$mileage <- as.numeric(gsub(\"[^0-9.]\", \"\", test_data$mileage))\n",
    "\n",
    "# Limpiar caracteres no numéricos y mantener solo los números y puntos decimales\n",
    "test_data$mileage <- as.numeric(gsub(\"[^0-9.]\", \"\", test_data$mileage))\n",
    "test_data$engine <- as.numeric(gsub(\"[^0-9]\", \"\", test_data$engine))\n",
    "test_data$max_power <- as.numeric(gsub(\"[^0-9]\", \"\", test_data$max_power))\n",
    "\n"
   ]
  },
  {
   "cell_type": "code",
   "execution_count": 34,
   "id": "4a464f32",
   "metadata": {},
   "outputs": [],
   "source": [
    "# Obtener predicciones en el conjunto de prueba\n",
    "predicted_values <- predict(logistic_model, newdata = test_data, type = \"response\")\n",
    "\n",
    "# Realizar validaciones y evaluación del modelo\n",
    "# Por ejemplo, matriz de confusión, precisión, sensibilidad, especificidad, etc.\n",
    "# Puedes usar funciones como table(), confusionMatrix() del paquete 'caret', etc."
   ]
  },
  {
   "cell_type": "code",
   "execution_count": 35,
   "id": "f0f9c1a4",
   "metadata": {},
   "outputs": [
    {
     "data": {
      "text/html": [
       "<table class=\"dataframe\">\n",
       "<caption>A data.frame: 2439 × 25</caption>\n",
       "<thead>\n",
       "\t<tr><th></th><th scope=col>name</th><th scope=col>year</th><th scope=col>selling_price</th><th scope=col>km_driven</th><th scope=col>fuel</th><th scope=col>seller_type</th><th scope=col>transmission</th><th scope=col>owner</th><th scope=col>mileage</th><th scope=col>engine</th><th scope=col>⋯</th><th scope=col>fuelDiesel</th><th scope=col>fuelLPG</th><th scope=col>fuelPetrol</th><th scope=col>transmissionManual</th><th scope=col>fuelCNG</th><th scope=col>fuelDiesel.1</th><th scope=col>fuelLPG.1</th><th scope=col>fuelPetrol.1</th><th scope=col>transmissionManual.1</th><th scope=col>seller_type_factor</th></tr>\n",
       "\t<tr><th></th><th scope=col>&lt;chr&gt;</th><th scope=col>&lt;int&gt;</th><th scope=col>&lt;int&gt;</th><th scope=col>&lt;int&gt;</th><th scope=col>&lt;fct&gt;</th><th scope=col>&lt;fct&gt;</th><th scope=col>&lt;fct&gt;</th><th scope=col>&lt;chr&gt;</th><th scope=col>&lt;dbl&gt;</th><th scope=col>&lt;dbl&gt;</th><th scope=col>⋯</th><th scope=col>&lt;dbl&gt;</th><th scope=col>&lt;dbl&gt;</th><th scope=col>&lt;dbl&gt;</th><th scope=col>&lt;dbl&gt;</th><th scope=col>&lt;dbl&gt;</th><th scope=col>&lt;dbl&gt;</th><th scope=col>&lt;dbl&gt;</th><th scope=col>&lt;dbl&gt;</th><th scope=col>&lt;dbl&gt;</th><th scope=col>&lt;fct&gt;</th></tr>\n",
       "</thead>\n",
       "<tbody>\n",
       "\t<tr><th scope=row>9</th><td>Toyota Etios VXD                         </td><td>2011</td><td> 350000</td><td> 90000</td><td>Diesel</td><td>0</td><td>Manual   </td><td>First Owner </td><td>23.59</td><td>1364</td><td>⋯</td><td>1</td><td>0</td><td>0</td><td>1</td><td>0</td><td>1</td><td>0</td><td>0</td><td>1</td><td>0</td></tr>\n",
       "\t<tr><th scope=row>12</th><td>Maruti Zen LX                            </td><td>2005</td><td>  92000</td><td>100000</td><td>Petrol</td><td>0</td><td>Manual   </td><td>Second Owner</td><td>17.30</td><td> 993</td><td>⋯</td><td>0</td><td>0</td><td>1</td><td>1</td><td>0</td><td>0</td><td>0</td><td>1</td><td>1</td><td>0</td></tr>\n",
       "\t<tr><th scope=row>16</th><td>Mahindra KUV 100 mFALCON G80 K8 5str     </td><td>2016</td><td> 400000</td><td> 40000</td><td>Petrol</td><td>0</td><td>Manual   </td><td>First Owner </td><td>18.15</td><td>1198</td><td>⋯</td><td>0</td><td>0</td><td>1</td><td>1</td><td>0</td><td>0</td><td>0</td><td>1</td><td>1</td><td>0</td></tr>\n",
       "\t<tr><th scope=row>19</th><td>Maruti Alto LX                           </td><td>2002</td><td> 150000</td><td> 80000</td><td>Petrol</td><td>0</td><td>Manual   </td><td>Second Owner</td><td>19.70</td><td> 796</td><td>⋯</td><td>0</td><td>0</td><td>1</td><td>1</td><td>0</td><td>0</td><td>0</td><td>1</td><td>1</td><td>0</td></tr>\n",
       "\t<tr><th scope=row>21</th><td>Mahindra Verito 1.5 D4 BSIII             </td><td>2011</td><td> 174000</td><td>100000</td><td>Diesel</td><td>0</td><td>Manual   </td><td>Second Owner</td><td>21.00</td><td>1461</td><td>⋯</td><td>1</td><td>0</td><td>0</td><td>1</td><td>0</td><td>1</td><td>0</td><td>0</td><td>1</td><td>0</td></tr>\n",
       "\t<tr><th scope=row>27</th><td>Maruti Alto 800 LXI                      </td><td>2017</td><td> 275000</td><td> 28000</td><td>Petrol</td><td>0</td><td>Manual   </td><td>First Owner </td><td>24.70</td><td> 796</td><td>⋯</td><td>0</td><td>0</td><td>1</td><td>1</td><td>0</td><td>0</td><td>0</td><td>1</td><td>1</td><td>0</td></tr>\n",
       "\t<tr><th scope=row>31</th><td>Maruti Vitara Brezza LDi Option          </td><td>2017</td><td> 670000</td><td> 70000</td><td>Diesel</td><td>0</td><td>Manual   </td><td>First Owner </td><td>24.30</td><td>1248</td><td>⋯</td><td>1</td><td>0</td><td>0</td><td>1</td><td>0</td><td>1</td><td>0</td><td>0</td><td>1</td><td>0</td></tr>\n",
       "\t<tr><th scope=row>33</th><td>Maruti Omni 8 Seater BSIV                </td><td>2012</td><td> 150000</td><td> 35000</td><td>Petrol</td><td>0</td><td>Manual   </td><td>Second Owner</td><td>14.00</td><td> 796</td><td>⋯</td><td>0</td><td>0</td><td>1</td><td>1</td><td>0</td><td>0</td><td>0</td><td>1</td><td>1</td><td>0</td></tr>\n",
       "\t<tr><th scope=row>35</th><td>Maruti Vitara Brezza LDi                 </td><td>2017</td><td> 650000</td><td> 16200</td><td>Diesel</td><td>0</td><td>Manual   </td><td>First Owner </td><td>24.30</td><td>1248</td><td>⋯</td><td>1</td><td>0</td><td>0</td><td>1</td><td>0</td><td>1</td><td>0</td><td>0</td><td>1</td><td>0</td></tr>\n",
       "\t<tr><th scope=row>36</th><td>Maruti Alto 800 CNG LXI Optional         </td><td>2019</td><td> 330000</td><td> 10000</td><td>CNG   </td><td>0</td><td>Manual   </td><td>Second Owner</td><td>33.44</td><td> 796</td><td>⋯</td><td>0</td><td>0</td><td>0</td><td>1</td><td>1</td><td>0</td><td>0</td><td>0</td><td>1</td><td>0</td></tr>\n",
       "\t<tr><th scope=row>41</th><td>Maruti 800 Std                           </td><td>2012</td><td> 150000</td><td> 76000</td><td>Petrol</td><td>0</td><td>Manual   </td><td>First Owner </td><td>16.10</td><td> 796</td><td>⋯</td><td>0</td><td>0</td><td>1</td><td>1</td><td>0</td><td>0</td><td>0</td><td>1</td><td>1</td><td>0</td></tr>\n",
       "\t<tr><th scope=row>43</th><td>Honda City i VTEC VX                     </td><td>2018</td><td> 925000</td><td> 28900</td><td>Petrol</td><td>1</td><td>Manual   </td><td>First Owner </td><td>17.80</td><td>1497</td><td>⋯</td><td>0</td><td>0</td><td>1</td><td>1</td><td>0</td><td>0</td><td>0</td><td>1</td><td>1</td><td>1</td></tr>\n",
       "\t<tr><th scope=row>46</th><td>Maruti Vitara Brezza VDi                 </td><td>2018</td><td> 819999</td><td> 32600</td><td>Diesel</td><td>1</td><td>Manual   </td><td>First Owner </td><td>24.30</td><td>1248</td><td>⋯</td><td>1</td><td>0</td><td>0</td><td>1</td><td>0</td><td>1</td><td>0</td><td>0</td><td>1</td><td>1</td></tr>\n",
       "\t<tr><th scope=row>48</th><td>Toyota Fortuner 4x4 MT                   </td><td>2014</td><td>1500000</td><td> 77000</td><td>Diesel</td><td>1</td><td>Manual   </td><td>First Owner </td><td>12.55</td><td>2982</td><td>⋯</td><td>1</td><td>0</td><td>0</td><td>1</td><td>0</td><td>1</td><td>0</td><td>0</td><td>1</td><td>1</td></tr>\n",
       "\t<tr><th scope=row>50</th><td>Mercedes-Benz B Class B180               </td><td>2014</td><td>1450000</td><td> 27800</td><td>Diesel</td><td>1</td><td>Automatic</td><td>Second Owner</td><td>14.80</td><td>2143</td><td>⋯</td><td>1</td><td>0</td><td>0</td><td>0</td><td>0</td><td>1</td><td>0</td><td>0</td><td>0</td><td>1</td></tr>\n",
       "\t<tr><th scope=row>52</th><td>Mitsubishi Pajero Sport 4X4              </td><td>2013</td><td>1090000</td><td>151000</td><td>Diesel</td><td>1</td><td>Manual   </td><td>First Owner </td><td>13.50</td><td>2477</td><td>⋯</td><td>1</td><td>0</td><td>0</td><td>1</td><td>0</td><td>1</td><td>0</td><td>0</td><td>1</td><td>1</td></tr>\n",
       "\t<tr><th scope=row>54</th><td>Maruti Ciaz Zeta                         </td><td>2018</td><td> 850000</td><td> 64000</td><td>Petrol</td><td>1</td><td>Manual   </td><td>First Owner </td><td>20.65</td><td>1462</td><td>⋯</td><td>0</td><td>0</td><td>1</td><td>1</td><td>0</td><td>0</td><td>0</td><td>1</td><td>1</td><td>1</td></tr>\n",
       "\t<tr><th scope=row>56</th><td>Toyota Innova Crysta 2.8 ZX AT BSIV      </td><td>2016</td><td>1650000</td><td>127700</td><td>Diesel</td><td>1</td><td>Automatic</td><td>Second Owner</td><td>11.36</td><td>2755</td><td>⋯</td><td>1</td><td>0</td><td>0</td><td>0</td><td>0</td><td>1</td><td>0</td><td>0</td><td>0</td><td>1</td></tr>\n",
       "\t<tr><th scope=row>58</th><td>Audi A6 2.0 TDI Technology               </td><td>2013</td><td>1750000</td><td> 33900</td><td>Diesel</td><td>1</td><td>Automatic</td><td>Second Owner</td><td>17.68</td><td>1968</td><td>⋯</td><td>1</td><td>0</td><td>0</td><td>0</td><td>0</td><td>1</td><td>0</td><td>0</td><td>0</td><td>1</td></tr>\n",
       "\t<tr><th scope=row>61</th><td>Mercedes-Benz New C-Class 220 CDI AT     </td><td>2013</td><td>1425000</td><td> 59000</td><td>Diesel</td><td>1</td><td>Automatic</td><td>First Owner </td><td>14.84</td><td>2143</td><td>⋯</td><td>1</td><td>0</td><td>0</td><td>0</td><td>0</td><td>1</td><td>0</td><td>0</td><td>0</td><td>1</td></tr>\n",
       "\t<tr><th scope=row>62</th><td>Tata Manza ELAN Quadrajet BS IV          </td><td>2011</td><td> 265000</td><td>120000</td><td>Diesel</td><td>0</td><td>Manual   </td><td>First Owner </td><td>21.12</td><td>1248</td><td>⋯</td><td>1</td><td>0</td><td>0</td><td>1</td><td>0</td><td>1</td><td>0</td><td>0</td><td>1</td><td>0</td></tr>\n",
       "\t<tr><th scope=row>68</th><td>Volkswagen Ameo 1.5 TDI Highline 16 Alloy</td><td>2016</td><td> 540000</td><td> 40000</td><td>Diesel</td><td>0</td><td>Manual   </td><td>First Owner </td><td>22.00</td><td>1498</td><td>⋯</td><td>1</td><td>0</td><td>0</td><td>1</td><td>0</td><td>1</td><td>0</td><td>0</td><td>1</td><td>0</td></tr>\n",
       "\t<tr><th scope=row>71</th><td>Volkswagen Ameo 1.5 TDI Comfortline      </td><td>2017</td><td> 500000</td><td> 80000</td><td>Diesel</td><td>0</td><td>Manual   </td><td>First Owner </td><td>21.66</td><td>1498</td><td>⋯</td><td>1</td><td>0</td><td>0</td><td>1</td><td>0</td><td>1</td><td>0</td><td>0</td><td>1</td><td>0</td></tr>\n",
       "\t<tr><th scope=row>77</th><td>Maruti Swift Star VDI                    </td><td>2013</td><td> 450000</td><td>120000</td><td>Diesel</td><td>0</td><td>Manual   </td><td>Second Owner</td><td>22.90</td><td>1248</td><td>⋯</td><td>1</td><td>0</td><td>0</td><td>1</td><td>0</td><td>1</td><td>0</td><td>0</td><td>1</td><td>0</td></tr>\n",
       "\t<tr><th scope=row>78</th><td>Maruti Ertiga ZXI                        </td><td>2012</td><td> 450000</td><td>120000</td><td>Petrol</td><td>0</td><td>Manual   </td><td>Second Owner</td><td>16.02</td><td>1373</td><td>⋯</td><td>0</td><td>0</td><td>1</td><td>1</td><td>0</td><td>0</td><td>0</td><td>1</td><td>1</td><td>0</td></tr>\n",
       "\t<tr><th scope=row>82</th><td>Ford EcoSport 1.5 TDCi Titanium Plus BSIV</td><td>2015</td><td> 610000</td><td> 90000</td><td>Diesel</td><td>0</td><td>Manual   </td><td>First Owner </td><td>22.77</td><td>1498</td><td>⋯</td><td>1</td><td>0</td><td>0</td><td>1</td><td>0</td><td>1</td><td>0</td><td>0</td><td>1</td><td>0</td></tr>\n",
       "\t<tr><th scope=row>85</th><td>Datsun GO A Petrol                       </td><td>2016</td><td> 275000</td><td> 49000</td><td>Petrol</td><td>1</td><td>Manual   </td><td>First Owner </td><td>19.02</td><td>1198</td><td>⋯</td><td>0</td><td>0</td><td>1</td><td>1</td><td>0</td><td>0</td><td>0</td><td>1</td><td>1</td><td>1</td></tr>\n",
       "\t<tr><th scope=row>87</th><td>Maruti Alto 800 LXI BSIV                 </td><td>2016</td><td> 275000</td><td> 38000</td><td>Petrol</td><td>1</td><td>Manual   </td><td>First Owner </td><td>24.70</td><td> 796</td><td>⋯</td><td>0</td><td>0</td><td>1</td><td>1</td><td>0</td><td>0</td><td>0</td><td>1</td><td>1</td><td>1</td></tr>\n",
       "\t<tr><th scope=row>90</th><td>Maruti Omni 8 Seater BSIV                </td><td>2017</td><td> 280000</td><td> 32000</td><td>Petrol</td><td>1</td><td>Manual   </td><td>First Owner </td><td>14.00</td><td> 796</td><td>⋯</td><td>0</td><td>0</td><td>1</td><td>1</td><td>0</td><td>0</td><td>0</td><td>1</td><td>1</td><td>1</td></tr>\n",
       "\t<tr><th scope=row>93</th><td>Hyundai i10 Magna 1.1L                   </td><td>2015</td><td> 351000</td><td> 45000</td><td>Petrol</td><td>1</td><td>Manual   </td><td>Second Owner</td><td>19.81</td><td>1086</td><td>⋯</td><td>0</td><td>0</td><td>1</td><td>1</td><td>0</td><td>0</td><td>0</td><td>1</td><td>1</td><td>1</td></tr>\n",
       "\t<tr><th scope=row>⋮</th><td>⋮</td><td>⋮</td><td>⋮</td><td>⋮</td><td>⋮</td><td>⋮</td><td>⋮</td><td>⋮</td><td>⋮</td><td>⋮</td><td>⋱</td><td>⋮</td><td>⋮</td><td>⋮</td><td>⋮</td><td>⋮</td><td>⋮</td><td>⋮</td><td>⋮</td><td>⋮</td><td>⋮</td></tr>\n",
       "\t<tr><th scope=row>7996</th><td>Maruti Swift VXI BSIII                    </td><td>2008</td><td> 170000</td><td> 80000</td><td>Petrol</td><td>0</td><td>Manual   </td><td>Third Owner </td><td>16.10</td><td>1298</td><td>⋯</td><td>0</td><td>0</td><td>1</td><td>1</td><td>0</td><td>0</td><td>0</td><td>1</td><td>1</td><td>0</td></tr>\n",
       "\t<tr><th scope=row>8000</th><td>Maruti Alto LX                            </td><td>2004</td><td> 100000</td><td> 40000</td><td>Petrol</td><td>0</td><td>Manual   </td><td>First Owner </td><td>19.70</td><td> 796</td><td>⋯</td><td>0</td><td>0</td><td>1</td><td>1</td><td>0</td><td>0</td><td>0</td><td>1</td><td>1</td><td>0</td></tr>\n",
       "\t<tr><th scope=row>8002</th><td>Ford Fiesta 1.4 ZXi Duratec               </td><td>2011</td><td> 240000</td><td> 80000</td><td>Petrol</td><td>0</td><td>Manual   </td><td>Second Owner</td><td>16.60</td><td>1388</td><td>⋯</td><td>0</td><td>0</td><td>1</td><td>1</td><td>0</td><td>0</td><td>0</td><td>1</td><td>1</td><td>0</td></tr>\n",
       "\t<tr><th scope=row>8006</th><td>Hyundai Verna CRDi 1.6 SX                 </td><td>2018</td><td> 950000</td><td> 70000</td><td>Diesel</td><td>0</td><td>Manual   </td><td>First Owner </td><td>22.00</td><td>1582</td><td>⋯</td><td>1</td><td>0</td><td>0</td><td>1</td><td>0</td><td>1</td><td>0</td><td>0</td><td>1</td><td>0</td></tr>\n",
       "\t<tr><th scope=row>8007</th><td>Maruti Swift VDI Optional                 </td><td>2017</td><td> 660000</td><td> 56000</td><td>Diesel</td><td>0</td><td>Manual   </td><td>First Owner </td><td>25.20</td><td>1248</td><td>⋯</td><td>1</td><td>0</td><td>0</td><td>1</td><td>0</td><td>1</td><td>0</td><td>0</td><td>1</td><td>0</td></tr>\n",
       "\t<tr><th scope=row>8009</th><td>Maruti Alto K10 VXI Airbag                </td><td>2017</td><td> 382000</td><td> 40000</td><td>Petrol</td><td>0</td><td>Manual   </td><td>First Owner </td><td>23.95</td><td> 998</td><td>⋯</td><td>0</td><td>0</td><td>1</td><td>1</td><td>0</td><td>0</td><td>0</td><td>1</td><td>1</td><td>0</td></tr>\n",
       "\t<tr><th scope=row>8013</th><td>Ford Figo Diesel Titanium                 </td><td>2011</td><td> 200000</td><td>170000</td><td>Diesel</td><td>0</td><td>Manual   </td><td>Second Owner</td><td>20.00</td><td>1399</td><td>⋯</td><td>1</td><td>0</td><td>0</td><td>1</td><td>0</td><td>1</td><td>0</td><td>0</td><td>1</td><td>0</td></tr>\n",
       "\t<tr><th scope=row>8014</th><td>Maruti Celerio LDi                        </td><td>2015</td><td> 400000</td><td> 95000</td><td>Diesel</td><td>0</td><td>Manual   </td><td>First Owner </td><td>27.62</td><td> 793</td><td>⋯</td><td>1</td><td>0</td><td>0</td><td>1</td><td>0</td><td>1</td><td>0</td><td>0</td><td>1</td><td>0</td></tr>\n",
       "\t<tr><th scope=row>8015</th><td>Maruti Swift VDI                          </td><td>2012</td><td> 416000</td><td> 90000</td><td>Diesel</td><td>0</td><td>Manual   </td><td>Second Owner</td><td>22.90</td><td>1248</td><td>⋯</td><td>1</td><td>0</td><td>0</td><td>1</td><td>0</td><td>1</td><td>0</td><td>0</td><td>1</td><td>0</td></tr>\n",
       "\t<tr><th scope=row>8035</th><td>Renault Duster 110PS Diesel RxZ           </td><td>2015</td><td> 600000</td><td>160000</td><td>Diesel</td><td>0</td><td>Manual   </td><td>First Owner </td><td>19.01</td><td>1461</td><td>⋯</td><td>1</td><td>0</td><td>0</td><td>1</td><td>0</td><td>1</td><td>0</td><td>0</td><td>1</td><td>0</td></tr>\n",
       "\t<tr><th scope=row>8040</th><td>Maruti Alto K10 LXI                       </td><td>2011</td><td> 135000</td><td>110048</td><td>Petrol</td><td>0</td><td>Manual   </td><td>Third Owner </td><td>20.92</td><td> 998</td><td>⋯</td><td>0</td><td>0</td><td>1</td><td>1</td><td>0</td><td>0</td><td>0</td><td>1</td><td>1</td><td>0</td></tr>\n",
       "\t<tr><th scope=row>8041</th><td>Hyundai Xcent 1.2 CRDi E Plus             </td><td>2018</td><td> 680000</td><td> 26000</td><td>Diesel</td><td>0</td><td>Manual   </td><td>First Owner </td><td>25.40</td><td>1186</td><td>⋯</td><td>1</td><td>0</td><td>0</td><td>1</td><td>0</td><td>1</td><td>0</td><td>0</td><td>1</td><td>0</td></tr>\n",
       "\t<tr><th scope=row>8049</th><td>Volkswagen Polo Select 1.2 MPI Highline   </td><td>2010</td><td> 210000</td><td> 44500</td><td>Petrol</td><td>1</td><td>Manual   </td><td>First Owner </td><td>16.47</td><td>1198</td><td>⋯</td><td>0</td><td>0</td><td>1</td><td>1</td><td>0</td><td>0</td><td>0</td><td>1</td><td>1</td><td>1</td></tr>\n",
       "\t<tr><th scope=row>8051</th><td>Ford Ecosport 1.5 Petrol Titanium         </td><td>2016</td><td> 599000</td><td> 39000</td><td>Petrol</td><td>1</td><td>Manual   </td><td>First Owner </td><td>15.90</td><td>1496</td><td>⋯</td><td>0</td><td>0</td><td>1</td><td>1</td><td>0</td><td>0</td><td>0</td><td>1</td><td>1</td><td>1</td></tr>\n",
       "\t<tr><th scope=row>8053</th><td>Honda CR-V 2.4L 4WD AT                    </td><td>2012</td><td> 750000</td><td> 50171</td><td>Petrol</td><td>1</td><td>Automatic</td><td>First Owner </td><td>11.10</td><td>2354</td><td>⋯</td><td>0</td><td>0</td><td>1</td><td>0</td><td>0</td><td>0</td><td>0</td><td>1</td><td>0</td><td>1</td></tr>\n",
       "\t<tr><th scope=row>8059</th><td>Audi A3 40 TFSI Premium                   </td><td>2017</td><td>1689999</td><td>  8000</td><td>Petrol</td><td>1</td><td>Automatic</td><td>First Owner </td><td>16.60</td><td>1798</td><td>⋯</td><td>0</td><td>0</td><td>1</td><td>0</td><td>0</td><td>0</td><td>0</td><td>1</td><td>0</td><td>1</td></tr>\n",
       "\t<tr><th scope=row>8062</th><td>Hyundai i20 Asta (o)                      </td><td>2017</td><td> 600000</td><td> 35000</td><td>Petrol</td><td>1</td><td>Manual   </td><td>First Owner </td><td>17.00</td><td>1197</td><td>⋯</td><td>0</td><td>0</td><td>1</td><td>1</td><td>0</td><td>0</td><td>0</td><td>1</td><td>1</td><td>1</td></tr>\n",
       "\t<tr><th scope=row>8064</th><td>Hyundai Creta 1.6 SX Automatic            </td><td>2016</td><td> 890000</td><td> 40000</td><td>Petrol</td><td>1</td><td>Automatic</td><td>First Owner </td><td>14.80</td><td>1591</td><td>⋯</td><td>0</td><td>0</td><td>1</td><td>0</td><td>0</td><td>0</td><td>0</td><td>1</td><td>0</td><td>1</td></tr>\n",
       "\t<tr><th scope=row>8074</th><td>Hyundai Grand i10 Magna                   </td><td>2014</td><td> 400000</td><td> 20000</td><td>Petrol</td><td>0</td><td>Manual   </td><td>First Owner </td><td>18.90</td><td>1197</td><td>⋯</td><td>0</td><td>0</td><td>1</td><td>1</td><td>0</td><td>0</td><td>0</td><td>1</td><td>1</td><td>0</td></tr>\n",
       "\t<tr><th scope=row>8075</th><td>Maruti SX4 ZXI MT BSIV                    </td><td>2013</td><td> 295000</td><td> 60000</td><td>Petrol</td><td>0</td><td>Manual   </td><td>Third Owner </td><td>16.51</td><td>1586</td><td>⋯</td><td>0</td><td>0</td><td>1</td><td>1</td><td>0</td><td>0</td><td>0</td><td>1</td><td>1</td><td>0</td></tr>\n",
       "\t<tr><th scope=row>8078</th><td>Toyota Innova 2.5 E 7 STR                 </td><td>2009</td><td> 550000</td><td>250000</td><td>Diesel</td><td>0</td><td>Manual   </td><td>First Owner </td><td>12.80</td><td>2494</td><td>⋯</td><td>1</td><td>0</td><td>0</td><td>1</td><td>0</td><td>1</td><td>0</td><td>0</td><td>1</td><td>0</td></tr>\n",
       "\t<tr><th scope=row>8079</th><td>Chevrolet Spark 1.0 LS                    </td><td>2011</td><td> 114999</td><td>100000</td><td>Petrol</td><td>0</td><td>Manual   </td><td>Second Owner</td><td>18.00</td><td> 995</td><td>⋯</td><td>0</td><td>0</td><td>1</td><td>1</td><td>0</td><td>0</td><td>0</td><td>1</td><td>1</td><td>0</td></tr>\n",
       "\t<tr><th scope=row>8080</th><td>Tata Indigo LS                            </td><td>2007</td><td>  90177</td><td>129000</td><td>Diesel</td><td>0</td><td>Manual   </td><td>Third Owner </td><td>17.00</td><td>1405</td><td>⋯</td><td>1</td><td>0</td><td>0</td><td>1</td><td>0</td><td>1</td><td>0</td><td>0</td><td>1</td><td>0</td></tr>\n",
       "\t<tr><th scope=row>8093</th><td>Hyundai i20 2015-2017 Asta Option 1.4 CRDi</td><td>2017</td><td> 780000</td><td> 28000</td><td>Diesel</td><td>0</td><td>Manual   </td><td>First Owner </td><td>22.54</td><td>1396</td><td>⋯</td><td>1</td><td>0</td><td>0</td><td>1</td><td>0</td><td>1</td><td>0</td><td>0</td><td>1</td><td>0</td></tr>\n",
       "\t<tr><th scope=row>8096</th><td>Ford Figo Diesel Titanium                 </td><td>2012</td><td> 260000</td><td>194000</td><td>Diesel</td><td>0</td><td>Manual   </td><td>First Owner </td><td>20.00</td><td>1399</td><td>⋯</td><td>1</td><td>0</td><td>0</td><td>1</td><td>0</td><td>1</td><td>0</td><td>0</td><td>1</td><td>0</td></tr>\n",
       "\t<tr><th scope=row>8107</th><td>Hyundai Verna 1.6 SX                      </td><td>2012</td><td> 450000</td><td>128000</td><td>Diesel</td><td>0</td><td>Manual   </td><td>Second Owner</td><td>22.32</td><td>1582</td><td>⋯</td><td>1</td><td>0</td><td>0</td><td>1</td><td>0</td><td>1</td><td>0</td><td>0</td><td>1</td><td>0</td></tr>\n",
       "\t<tr><th scope=row>8110</th><td>Ford Freestyle Titanium Plus Diesel BSIV  </td><td>2018</td><td> 750000</td><td> 24000</td><td>Diesel</td><td>0</td><td>Manual   </td><td>First Owner </td><td>24.40</td><td>1498</td><td>⋯</td><td>1</td><td>0</td><td>0</td><td>1</td><td>0</td><td>1</td><td>0</td><td>0</td><td>1</td><td>0</td></tr>\n",
       "\t<tr><th scope=row>8112</th><td>Toyota Etios Cross 1.4L GD                </td><td>2014</td><td> 425000</td><td> 50000</td><td>Diesel</td><td>0</td><td>Manual   </td><td>First Owner </td><td>23.59</td><td>1364</td><td>⋯</td><td>1</td><td>0</td><td>0</td><td>1</td><td>0</td><td>1</td><td>0</td><td>0</td><td>1</td><td>0</td></tr>\n",
       "\t<tr><th scope=row>8121</th><td>Hyundai Santro Xing GLS                   </td><td>2008</td><td> 120000</td><td>191000</td><td>Petrol</td><td>0</td><td>Manual   </td><td>First Owner </td><td>17.92</td><td>1086</td><td>⋯</td><td>0</td><td>0</td><td>1</td><td>1</td><td>0</td><td>0</td><td>0</td><td>1</td><td>1</td><td>0</td></tr>\n",
       "\t<tr><th scope=row>8127</th><td>Tata Indigo CR4                           </td><td>2013</td><td> 290000</td><td> 25000</td><td>Diesel</td><td>0</td><td>Manual   </td><td>First Owner </td><td>23.57</td><td>1396</td><td>⋯</td><td>1</td><td>0</td><td>0</td><td>1</td><td>0</td><td>1</td><td>0</td><td>0</td><td>1</td><td>0</td></tr>\n",
       "</tbody>\n",
       "</table>\n"
      ],
      "text/latex": [
       "A data.frame: 2439 × 25\n",
       "\\begin{tabular}{r|lllllllllllllllllllll}\n",
       "  & name & year & selling\\_price & km\\_driven & fuel & seller\\_type & transmission & owner & mileage & engine & ⋯ & fuelDiesel & fuelLPG & fuelPetrol & transmissionManual & fuelCNG & fuelDiesel.1 & fuelLPG.1 & fuelPetrol.1 & transmissionManual.1 & seller\\_type\\_factor\\\\\n",
       "  & <chr> & <int> & <int> & <int> & <fct> & <fct> & <fct> & <chr> & <dbl> & <dbl> & ⋯ & <dbl> & <dbl> & <dbl> & <dbl> & <dbl> & <dbl> & <dbl> & <dbl> & <dbl> & <fct>\\\\\n",
       "\\hline\n",
       "\t9 & Toyota Etios VXD                          & 2011 &  350000 &  90000 & Diesel & 0 & Manual    & First Owner  & 23.59 & 1364 & ⋯ & 1 & 0 & 0 & 1 & 0 & 1 & 0 & 0 & 1 & 0\\\\\n",
       "\t12 & Maruti Zen LX                             & 2005 &   92000 & 100000 & Petrol & 0 & Manual    & Second Owner & 17.30 &  993 & ⋯ & 0 & 0 & 1 & 1 & 0 & 0 & 0 & 1 & 1 & 0\\\\\n",
       "\t16 & Mahindra KUV 100 mFALCON G80 K8 5str      & 2016 &  400000 &  40000 & Petrol & 0 & Manual    & First Owner  & 18.15 & 1198 & ⋯ & 0 & 0 & 1 & 1 & 0 & 0 & 0 & 1 & 1 & 0\\\\\n",
       "\t19 & Maruti Alto LX                            & 2002 &  150000 &  80000 & Petrol & 0 & Manual    & Second Owner & 19.70 &  796 & ⋯ & 0 & 0 & 1 & 1 & 0 & 0 & 0 & 1 & 1 & 0\\\\\n",
       "\t21 & Mahindra Verito 1.5 D4 BSIII              & 2011 &  174000 & 100000 & Diesel & 0 & Manual    & Second Owner & 21.00 & 1461 & ⋯ & 1 & 0 & 0 & 1 & 0 & 1 & 0 & 0 & 1 & 0\\\\\n",
       "\t27 & Maruti Alto 800 LXI                       & 2017 &  275000 &  28000 & Petrol & 0 & Manual    & First Owner  & 24.70 &  796 & ⋯ & 0 & 0 & 1 & 1 & 0 & 0 & 0 & 1 & 1 & 0\\\\\n",
       "\t31 & Maruti Vitara Brezza LDi Option           & 2017 &  670000 &  70000 & Diesel & 0 & Manual    & First Owner  & 24.30 & 1248 & ⋯ & 1 & 0 & 0 & 1 & 0 & 1 & 0 & 0 & 1 & 0\\\\\n",
       "\t33 & Maruti Omni 8 Seater BSIV                 & 2012 &  150000 &  35000 & Petrol & 0 & Manual    & Second Owner & 14.00 &  796 & ⋯ & 0 & 0 & 1 & 1 & 0 & 0 & 0 & 1 & 1 & 0\\\\\n",
       "\t35 & Maruti Vitara Brezza LDi                  & 2017 &  650000 &  16200 & Diesel & 0 & Manual    & First Owner  & 24.30 & 1248 & ⋯ & 1 & 0 & 0 & 1 & 0 & 1 & 0 & 0 & 1 & 0\\\\\n",
       "\t36 & Maruti Alto 800 CNG LXI Optional          & 2019 &  330000 &  10000 & CNG    & 0 & Manual    & Second Owner & 33.44 &  796 & ⋯ & 0 & 0 & 0 & 1 & 1 & 0 & 0 & 0 & 1 & 0\\\\\n",
       "\t41 & Maruti 800 Std                            & 2012 &  150000 &  76000 & Petrol & 0 & Manual    & First Owner  & 16.10 &  796 & ⋯ & 0 & 0 & 1 & 1 & 0 & 0 & 0 & 1 & 1 & 0\\\\\n",
       "\t43 & Honda City i VTEC VX                      & 2018 &  925000 &  28900 & Petrol & 1 & Manual    & First Owner  & 17.80 & 1497 & ⋯ & 0 & 0 & 1 & 1 & 0 & 0 & 0 & 1 & 1 & 1\\\\\n",
       "\t46 & Maruti Vitara Brezza VDi                  & 2018 &  819999 &  32600 & Diesel & 1 & Manual    & First Owner  & 24.30 & 1248 & ⋯ & 1 & 0 & 0 & 1 & 0 & 1 & 0 & 0 & 1 & 1\\\\\n",
       "\t48 & Toyota Fortuner 4x4 MT                    & 2014 & 1500000 &  77000 & Diesel & 1 & Manual    & First Owner  & 12.55 & 2982 & ⋯ & 1 & 0 & 0 & 1 & 0 & 1 & 0 & 0 & 1 & 1\\\\\n",
       "\t50 & Mercedes-Benz B Class B180                & 2014 & 1450000 &  27800 & Diesel & 1 & Automatic & Second Owner & 14.80 & 2143 & ⋯ & 1 & 0 & 0 & 0 & 0 & 1 & 0 & 0 & 0 & 1\\\\\n",
       "\t52 & Mitsubishi Pajero Sport 4X4               & 2013 & 1090000 & 151000 & Diesel & 1 & Manual    & First Owner  & 13.50 & 2477 & ⋯ & 1 & 0 & 0 & 1 & 0 & 1 & 0 & 0 & 1 & 1\\\\\n",
       "\t54 & Maruti Ciaz Zeta                          & 2018 &  850000 &  64000 & Petrol & 1 & Manual    & First Owner  & 20.65 & 1462 & ⋯ & 0 & 0 & 1 & 1 & 0 & 0 & 0 & 1 & 1 & 1\\\\\n",
       "\t56 & Toyota Innova Crysta 2.8 ZX AT BSIV       & 2016 & 1650000 & 127700 & Diesel & 1 & Automatic & Second Owner & 11.36 & 2755 & ⋯ & 1 & 0 & 0 & 0 & 0 & 1 & 0 & 0 & 0 & 1\\\\\n",
       "\t58 & Audi A6 2.0 TDI Technology                & 2013 & 1750000 &  33900 & Diesel & 1 & Automatic & Second Owner & 17.68 & 1968 & ⋯ & 1 & 0 & 0 & 0 & 0 & 1 & 0 & 0 & 0 & 1\\\\\n",
       "\t61 & Mercedes-Benz New C-Class 220 CDI AT      & 2013 & 1425000 &  59000 & Diesel & 1 & Automatic & First Owner  & 14.84 & 2143 & ⋯ & 1 & 0 & 0 & 0 & 0 & 1 & 0 & 0 & 0 & 1\\\\\n",
       "\t62 & Tata Manza ELAN Quadrajet BS IV           & 2011 &  265000 & 120000 & Diesel & 0 & Manual    & First Owner  & 21.12 & 1248 & ⋯ & 1 & 0 & 0 & 1 & 0 & 1 & 0 & 0 & 1 & 0\\\\\n",
       "\t68 & Volkswagen Ameo 1.5 TDI Highline 16 Alloy & 2016 &  540000 &  40000 & Diesel & 0 & Manual    & First Owner  & 22.00 & 1498 & ⋯ & 1 & 0 & 0 & 1 & 0 & 1 & 0 & 0 & 1 & 0\\\\\n",
       "\t71 & Volkswagen Ameo 1.5 TDI Comfortline       & 2017 &  500000 &  80000 & Diesel & 0 & Manual    & First Owner  & 21.66 & 1498 & ⋯ & 1 & 0 & 0 & 1 & 0 & 1 & 0 & 0 & 1 & 0\\\\\n",
       "\t77 & Maruti Swift Star VDI                     & 2013 &  450000 & 120000 & Diesel & 0 & Manual    & Second Owner & 22.90 & 1248 & ⋯ & 1 & 0 & 0 & 1 & 0 & 1 & 0 & 0 & 1 & 0\\\\\n",
       "\t78 & Maruti Ertiga ZXI                         & 2012 &  450000 & 120000 & Petrol & 0 & Manual    & Second Owner & 16.02 & 1373 & ⋯ & 0 & 0 & 1 & 1 & 0 & 0 & 0 & 1 & 1 & 0\\\\\n",
       "\t82 & Ford EcoSport 1.5 TDCi Titanium Plus BSIV & 2015 &  610000 &  90000 & Diesel & 0 & Manual    & First Owner  & 22.77 & 1498 & ⋯ & 1 & 0 & 0 & 1 & 0 & 1 & 0 & 0 & 1 & 0\\\\\n",
       "\t85 & Datsun GO A Petrol                        & 2016 &  275000 &  49000 & Petrol & 1 & Manual    & First Owner  & 19.02 & 1198 & ⋯ & 0 & 0 & 1 & 1 & 0 & 0 & 0 & 1 & 1 & 1\\\\\n",
       "\t87 & Maruti Alto 800 LXI BSIV                  & 2016 &  275000 &  38000 & Petrol & 1 & Manual    & First Owner  & 24.70 &  796 & ⋯ & 0 & 0 & 1 & 1 & 0 & 0 & 0 & 1 & 1 & 1\\\\\n",
       "\t90 & Maruti Omni 8 Seater BSIV                 & 2017 &  280000 &  32000 & Petrol & 1 & Manual    & First Owner  & 14.00 &  796 & ⋯ & 0 & 0 & 1 & 1 & 0 & 0 & 0 & 1 & 1 & 1\\\\\n",
       "\t93 & Hyundai i10 Magna 1.1L                    & 2015 &  351000 &  45000 & Petrol & 1 & Manual    & Second Owner & 19.81 & 1086 & ⋯ & 0 & 0 & 1 & 1 & 0 & 0 & 0 & 1 & 1 & 1\\\\\n",
       "\t⋮ & ⋮ & ⋮ & ⋮ & ⋮ & ⋮ & ⋮ & ⋮ & ⋮ & ⋮ & ⋮ & ⋱ & ⋮ & ⋮ & ⋮ & ⋮ & ⋮ & ⋮ & ⋮ & ⋮ & ⋮ & ⋮\\\\\n",
       "\t7996 & Maruti Swift VXI BSIII                     & 2008 &  170000 &  80000 & Petrol & 0 & Manual    & Third Owner  & 16.10 & 1298 & ⋯ & 0 & 0 & 1 & 1 & 0 & 0 & 0 & 1 & 1 & 0\\\\\n",
       "\t8000 & Maruti Alto LX                             & 2004 &  100000 &  40000 & Petrol & 0 & Manual    & First Owner  & 19.70 &  796 & ⋯ & 0 & 0 & 1 & 1 & 0 & 0 & 0 & 1 & 1 & 0\\\\\n",
       "\t8002 & Ford Fiesta 1.4 ZXi Duratec                & 2011 &  240000 &  80000 & Petrol & 0 & Manual    & Second Owner & 16.60 & 1388 & ⋯ & 0 & 0 & 1 & 1 & 0 & 0 & 0 & 1 & 1 & 0\\\\\n",
       "\t8006 & Hyundai Verna CRDi 1.6 SX                  & 2018 &  950000 &  70000 & Diesel & 0 & Manual    & First Owner  & 22.00 & 1582 & ⋯ & 1 & 0 & 0 & 1 & 0 & 1 & 0 & 0 & 1 & 0\\\\\n",
       "\t8007 & Maruti Swift VDI Optional                  & 2017 &  660000 &  56000 & Diesel & 0 & Manual    & First Owner  & 25.20 & 1248 & ⋯ & 1 & 0 & 0 & 1 & 0 & 1 & 0 & 0 & 1 & 0\\\\\n",
       "\t8009 & Maruti Alto K10 VXI Airbag                 & 2017 &  382000 &  40000 & Petrol & 0 & Manual    & First Owner  & 23.95 &  998 & ⋯ & 0 & 0 & 1 & 1 & 0 & 0 & 0 & 1 & 1 & 0\\\\\n",
       "\t8013 & Ford Figo Diesel Titanium                  & 2011 &  200000 & 170000 & Diesel & 0 & Manual    & Second Owner & 20.00 & 1399 & ⋯ & 1 & 0 & 0 & 1 & 0 & 1 & 0 & 0 & 1 & 0\\\\\n",
       "\t8014 & Maruti Celerio LDi                         & 2015 &  400000 &  95000 & Diesel & 0 & Manual    & First Owner  & 27.62 &  793 & ⋯ & 1 & 0 & 0 & 1 & 0 & 1 & 0 & 0 & 1 & 0\\\\\n",
       "\t8015 & Maruti Swift VDI                           & 2012 &  416000 &  90000 & Diesel & 0 & Manual    & Second Owner & 22.90 & 1248 & ⋯ & 1 & 0 & 0 & 1 & 0 & 1 & 0 & 0 & 1 & 0\\\\\n",
       "\t8035 & Renault Duster 110PS Diesel RxZ            & 2015 &  600000 & 160000 & Diesel & 0 & Manual    & First Owner  & 19.01 & 1461 & ⋯ & 1 & 0 & 0 & 1 & 0 & 1 & 0 & 0 & 1 & 0\\\\\n",
       "\t8040 & Maruti Alto K10 LXI                        & 2011 &  135000 & 110048 & Petrol & 0 & Manual    & Third Owner  & 20.92 &  998 & ⋯ & 0 & 0 & 1 & 1 & 0 & 0 & 0 & 1 & 1 & 0\\\\\n",
       "\t8041 & Hyundai Xcent 1.2 CRDi E Plus              & 2018 &  680000 &  26000 & Diesel & 0 & Manual    & First Owner  & 25.40 & 1186 & ⋯ & 1 & 0 & 0 & 1 & 0 & 1 & 0 & 0 & 1 & 0\\\\\n",
       "\t8049 & Volkswagen Polo Select 1.2 MPI Highline    & 2010 &  210000 &  44500 & Petrol & 1 & Manual    & First Owner  & 16.47 & 1198 & ⋯ & 0 & 0 & 1 & 1 & 0 & 0 & 0 & 1 & 1 & 1\\\\\n",
       "\t8051 & Ford Ecosport 1.5 Petrol Titanium          & 2016 &  599000 &  39000 & Petrol & 1 & Manual    & First Owner  & 15.90 & 1496 & ⋯ & 0 & 0 & 1 & 1 & 0 & 0 & 0 & 1 & 1 & 1\\\\\n",
       "\t8053 & Honda CR-V 2.4L 4WD AT                     & 2012 &  750000 &  50171 & Petrol & 1 & Automatic & First Owner  & 11.10 & 2354 & ⋯ & 0 & 0 & 1 & 0 & 0 & 0 & 0 & 1 & 0 & 1\\\\\n",
       "\t8059 & Audi A3 40 TFSI Premium                    & 2017 & 1689999 &   8000 & Petrol & 1 & Automatic & First Owner  & 16.60 & 1798 & ⋯ & 0 & 0 & 1 & 0 & 0 & 0 & 0 & 1 & 0 & 1\\\\\n",
       "\t8062 & Hyundai i20 Asta (o)                       & 2017 &  600000 &  35000 & Petrol & 1 & Manual    & First Owner  & 17.00 & 1197 & ⋯ & 0 & 0 & 1 & 1 & 0 & 0 & 0 & 1 & 1 & 1\\\\\n",
       "\t8064 & Hyundai Creta 1.6 SX Automatic             & 2016 &  890000 &  40000 & Petrol & 1 & Automatic & First Owner  & 14.80 & 1591 & ⋯ & 0 & 0 & 1 & 0 & 0 & 0 & 0 & 1 & 0 & 1\\\\\n",
       "\t8074 & Hyundai Grand i10 Magna                    & 2014 &  400000 &  20000 & Petrol & 0 & Manual    & First Owner  & 18.90 & 1197 & ⋯ & 0 & 0 & 1 & 1 & 0 & 0 & 0 & 1 & 1 & 0\\\\\n",
       "\t8075 & Maruti SX4 ZXI MT BSIV                     & 2013 &  295000 &  60000 & Petrol & 0 & Manual    & Third Owner  & 16.51 & 1586 & ⋯ & 0 & 0 & 1 & 1 & 0 & 0 & 0 & 1 & 1 & 0\\\\\n",
       "\t8078 & Toyota Innova 2.5 E 7 STR                  & 2009 &  550000 & 250000 & Diesel & 0 & Manual    & First Owner  & 12.80 & 2494 & ⋯ & 1 & 0 & 0 & 1 & 0 & 1 & 0 & 0 & 1 & 0\\\\\n",
       "\t8079 & Chevrolet Spark 1.0 LS                     & 2011 &  114999 & 100000 & Petrol & 0 & Manual    & Second Owner & 18.00 &  995 & ⋯ & 0 & 0 & 1 & 1 & 0 & 0 & 0 & 1 & 1 & 0\\\\\n",
       "\t8080 & Tata Indigo LS                             & 2007 &   90177 & 129000 & Diesel & 0 & Manual    & Third Owner  & 17.00 & 1405 & ⋯ & 1 & 0 & 0 & 1 & 0 & 1 & 0 & 0 & 1 & 0\\\\\n",
       "\t8093 & Hyundai i20 2015-2017 Asta Option 1.4 CRDi & 2017 &  780000 &  28000 & Diesel & 0 & Manual    & First Owner  & 22.54 & 1396 & ⋯ & 1 & 0 & 0 & 1 & 0 & 1 & 0 & 0 & 1 & 0\\\\\n",
       "\t8096 & Ford Figo Diesel Titanium                  & 2012 &  260000 & 194000 & Diesel & 0 & Manual    & First Owner  & 20.00 & 1399 & ⋯ & 1 & 0 & 0 & 1 & 0 & 1 & 0 & 0 & 1 & 0\\\\\n",
       "\t8107 & Hyundai Verna 1.6 SX                       & 2012 &  450000 & 128000 & Diesel & 0 & Manual    & Second Owner & 22.32 & 1582 & ⋯ & 1 & 0 & 0 & 1 & 0 & 1 & 0 & 0 & 1 & 0\\\\\n",
       "\t8110 & Ford Freestyle Titanium Plus Diesel BSIV   & 2018 &  750000 &  24000 & Diesel & 0 & Manual    & First Owner  & 24.40 & 1498 & ⋯ & 1 & 0 & 0 & 1 & 0 & 1 & 0 & 0 & 1 & 0\\\\\n",
       "\t8112 & Toyota Etios Cross 1.4L GD                 & 2014 &  425000 &  50000 & Diesel & 0 & Manual    & First Owner  & 23.59 & 1364 & ⋯ & 1 & 0 & 0 & 1 & 0 & 1 & 0 & 0 & 1 & 0\\\\\n",
       "\t8121 & Hyundai Santro Xing GLS                    & 2008 &  120000 & 191000 & Petrol & 0 & Manual    & First Owner  & 17.92 & 1086 & ⋯ & 0 & 0 & 1 & 1 & 0 & 0 & 0 & 1 & 1 & 0\\\\\n",
       "\t8127 & Tata Indigo CR4                            & 2013 &  290000 &  25000 & Diesel & 0 & Manual    & First Owner  & 23.57 & 1396 & ⋯ & 1 & 0 & 0 & 1 & 0 & 1 & 0 & 0 & 1 & 0\\\\\n",
       "\\end{tabular}\n"
      ],
      "text/markdown": [
       "\n",
       "A data.frame: 2439 × 25\n",
       "\n",
       "| <!--/--> | name &lt;chr&gt; | year &lt;int&gt; | selling_price &lt;int&gt; | km_driven &lt;int&gt; | fuel &lt;fct&gt; | seller_type &lt;fct&gt; | transmission &lt;fct&gt; | owner &lt;chr&gt; | mileage &lt;dbl&gt; | engine &lt;dbl&gt; | ⋯ ⋯ | fuelDiesel &lt;dbl&gt; | fuelLPG &lt;dbl&gt; | fuelPetrol &lt;dbl&gt; | transmissionManual &lt;dbl&gt; | fuelCNG &lt;dbl&gt; | fuelDiesel.1 &lt;dbl&gt; | fuelLPG.1 &lt;dbl&gt; | fuelPetrol.1 &lt;dbl&gt; | transmissionManual.1 &lt;dbl&gt; | seller_type_factor &lt;fct&gt; |\n",
       "|---|---|---|---|---|---|---|---|---|---|---|---|---|---|---|---|---|---|---|---|---|---|\n",
       "| 9 | Toyota Etios VXD                          | 2011 |  350000 |  90000 | Diesel | 0 | Manual    | First Owner  | 23.59 | 1364 | ⋯ | 1 | 0 | 0 | 1 | 0 | 1 | 0 | 0 | 1 | 0 |\n",
       "| 12 | Maruti Zen LX                             | 2005 |   92000 | 100000 | Petrol | 0 | Manual    | Second Owner | 17.30 |  993 | ⋯ | 0 | 0 | 1 | 1 | 0 | 0 | 0 | 1 | 1 | 0 |\n",
       "| 16 | Mahindra KUV 100 mFALCON G80 K8 5str      | 2016 |  400000 |  40000 | Petrol | 0 | Manual    | First Owner  | 18.15 | 1198 | ⋯ | 0 | 0 | 1 | 1 | 0 | 0 | 0 | 1 | 1 | 0 |\n",
       "| 19 | Maruti Alto LX                            | 2002 |  150000 |  80000 | Petrol | 0 | Manual    | Second Owner | 19.70 |  796 | ⋯ | 0 | 0 | 1 | 1 | 0 | 0 | 0 | 1 | 1 | 0 |\n",
       "| 21 | Mahindra Verito 1.5 D4 BSIII              | 2011 |  174000 | 100000 | Diesel | 0 | Manual    | Second Owner | 21.00 | 1461 | ⋯ | 1 | 0 | 0 | 1 | 0 | 1 | 0 | 0 | 1 | 0 |\n",
       "| 27 | Maruti Alto 800 LXI                       | 2017 |  275000 |  28000 | Petrol | 0 | Manual    | First Owner  | 24.70 |  796 | ⋯ | 0 | 0 | 1 | 1 | 0 | 0 | 0 | 1 | 1 | 0 |\n",
       "| 31 | Maruti Vitara Brezza LDi Option           | 2017 |  670000 |  70000 | Diesel | 0 | Manual    | First Owner  | 24.30 | 1248 | ⋯ | 1 | 0 | 0 | 1 | 0 | 1 | 0 | 0 | 1 | 0 |\n",
       "| 33 | Maruti Omni 8 Seater BSIV                 | 2012 |  150000 |  35000 | Petrol | 0 | Manual    | Second Owner | 14.00 |  796 | ⋯ | 0 | 0 | 1 | 1 | 0 | 0 | 0 | 1 | 1 | 0 |\n",
       "| 35 | Maruti Vitara Brezza LDi                  | 2017 |  650000 |  16200 | Diesel | 0 | Manual    | First Owner  | 24.30 | 1248 | ⋯ | 1 | 0 | 0 | 1 | 0 | 1 | 0 | 0 | 1 | 0 |\n",
       "| 36 | Maruti Alto 800 CNG LXI Optional          | 2019 |  330000 |  10000 | CNG    | 0 | Manual    | Second Owner | 33.44 |  796 | ⋯ | 0 | 0 | 0 | 1 | 1 | 0 | 0 | 0 | 1 | 0 |\n",
       "| 41 | Maruti 800 Std                            | 2012 |  150000 |  76000 | Petrol | 0 | Manual    | First Owner  | 16.10 |  796 | ⋯ | 0 | 0 | 1 | 1 | 0 | 0 | 0 | 1 | 1 | 0 |\n",
       "| 43 | Honda City i VTEC VX                      | 2018 |  925000 |  28900 | Petrol | 1 | Manual    | First Owner  | 17.80 | 1497 | ⋯ | 0 | 0 | 1 | 1 | 0 | 0 | 0 | 1 | 1 | 1 |\n",
       "| 46 | Maruti Vitara Brezza VDi                  | 2018 |  819999 |  32600 | Diesel | 1 | Manual    | First Owner  | 24.30 | 1248 | ⋯ | 1 | 0 | 0 | 1 | 0 | 1 | 0 | 0 | 1 | 1 |\n",
       "| 48 | Toyota Fortuner 4x4 MT                    | 2014 | 1500000 |  77000 | Diesel | 1 | Manual    | First Owner  | 12.55 | 2982 | ⋯ | 1 | 0 | 0 | 1 | 0 | 1 | 0 | 0 | 1 | 1 |\n",
       "| 50 | Mercedes-Benz B Class B180                | 2014 | 1450000 |  27800 | Diesel | 1 | Automatic | Second Owner | 14.80 | 2143 | ⋯ | 1 | 0 | 0 | 0 | 0 | 1 | 0 | 0 | 0 | 1 |\n",
       "| 52 | Mitsubishi Pajero Sport 4X4               | 2013 | 1090000 | 151000 | Diesel | 1 | Manual    | First Owner  | 13.50 | 2477 | ⋯ | 1 | 0 | 0 | 1 | 0 | 1 | 0 | 0 | 1 | 1 |\n",
       "| 54 | Maruti Ciaz Zeta                          | 2018 |  850000 |  64000 | Petrol | 1 | Manual    | First Owner  | 20.65 | 1462 | ⋯ | 0 | 0 | 1 | 1 | 0 | 0 | 0 | 1 | 1 | 1 |\n",
       "| 56 | Toyota Innova Crysta 2.8 ZX AT BSIV       | 2016 | 1650000 | 127700 | Diesel | 1 | Automatic | Second Owner | 11.36 | 2755 | ⋯ | 1 | 0 | 0 | 0 | 0 | 1 | 0 | 0 | 0 | 1 |\n",
       "| 58 | Audi A6 2.0 TDI Technology                | 2013 | 1750000 |  33900 | Diesel | 1 | Automatic | Second Owner | 17.68 | 1968 | ⋯ | 1 | 0 | 0 | 0 | 0 | 1 | 0 | 0 | 0 | 1 |\n",
       "| 61 | Mercedes-Benz New C-Class 220 CDI AT      | 2013 | 1425000 |  59000 | Diesel | 1 | Automatic | First Owner  | 14.84 | 2143 | ⋯ | 1 | 0 | 0 | 0 | 0 | 1 | 0 | 0 | 0 | 1 |\n",
       "| 62 | Tata Manza ELAN Quadrajet BS IV           | 2011 |  265000 | 120000 | Diesel | 0 | Manual    | First Owner  | 21.12 | 1248 | ⋯ | 1 | 0 | 0 | 1 | 0 | 1 | 0 | 0 | 1 | 0 |\n",
       "| 68 | Volkswagen Ameo 1.5 TDI Highline 16 Alloy | 2016 |  540000 |  40000 | Diesel | 0 | Manual    | First Owner  | 22.00 | 1498 | ⋯ | 1 | 0 | 0 | 1 | 0 | 1 | 0 | 0 | 1 | 0 |\n",
       "| 71 | Volkswagen Ameo 1.5 TDI Comfortline       | 2017 |  500000 |  80000 | Diesel | 0 | Manual    | First Owner  | 21.66 | 1498 | ⋯ | 1 | 0 | 0 | 1 | 0 | 1 | 0 | 0 | 1 | 0 |\n",
       "| 77 | Maruti Swift Star VDI                     | 2013 |  450000 | 120000 | Diesel | 0 | Manual    | Second Owner | 22.90 | 1248 | ⋯ | 1 | 0 | 0 | 1 | 0 | 1 | 0 | 0 | 1 | 0 |\n",
       "| 78 | Maruti Ertiga ZXI                         | 2012 |  450000 | 120000 | Petrol | 0 | Manual    | Second Owner | 16.02 | 1373 | ⋯ | 0 | 0 | 1 | 1 | 0 | 0 | 0 | 1 | 1 | 0 |\n",
       "| 82 | Ford EcoSport 1.5 TDCi Titanium Plus BSIV | 2015 |  610000 |  90000 | Diesel | 0 | Manual    | First Owner  | 22.77 | 1498 | ⋯ | 1 | 0 | 0 | 1 | 0 | 1 | 0 | 0 | 1 | 0 |\n",
       "| 85 | Datsun GO A Petrol                        | 2016 |  275000 |  49000 | Petrol | 1 | Manual    | First Owner  | 19.02 | 1198 | ⋯ | 0 | 0 | 1 | 1 | 0 | 0 | 0 | 1 | 1 | 1 |\n",
       "| 87 | Maruti Alto 800 LXI BSIV                  | 2016 |  275000 |  38000 | Petrol | 1 | Manual    | First Owner  | 24.70 |  796 | ⋯ | 0 | 0 | 1 | 1 | 0 | 0 | 0 | 1 | 1 | 1 |\n",
       "| 90 | Maruti Omni 8 Seater BSIV                 | 2017 |  280000 |  32000 | Petrol | 1 | Manual    | First Owner  | 14.00 |  796 | ⋯ | 0 | 0 | 1 | 1 | 0 | 0 | 0 | 1 | 1 | 1 |\n",
       "| 93 | Hyundai i10 Magna 1.1L                    | 2015 |  351000 |  45000 | Petrol | 1 | Manual    | Second Owner | 19.81 | 1086 | ⋯ | 0 | 0 | 1 | 1 | 0 | 0 | 0 | 1 | 1 | 1 |\n",
       "| ⋮ | ⋮ | ⋮ | ⋮ | ⋮ | ⋮ | ⋮ | ⋮ | ⋮ | ⋮ | ⋮ | ⋱ | ⋮ | ⋮ | ⋮ | ⋮ | ⋮ | ⋮ | ⋮ | ⋮ | ⋮ | ⋮ |\n",
       "| 7996 | Maruti Swift VXI BSIII                     | 2008 |  170000 |  80000 | Petrol | 0 | Manual    | Third Owner  | 16.10 | 1298 | ⋯ | 0 | 0 | 1 | 1 | 0 | 0 | 0 | 1 | 1 | 0 |\n",
       "| 8000 | Maruti Alto LX                             | 2004 |  100000 |  40000 | Petrol | 0 | Manual    | First Owner  | 19.70 |  796 | ⋯ | 0 | 0 | 1 | 1 | 0 | 0 | 0 | 1 | 1 | 0 |\n",
       "| 8002 | Ford Fiesta 1.4 ZXi Duratec                | 2011 |  240000 |  80000 | Petrol | 0 | Manual    | Second Owner | 16.60 | 1388 | ⋯ | 0 | 0 | 1 | 1 | 0 | 0 | 0 | 1 | 1 | 0 |\n",
       "| 8006 | Hyundai Verna CRDi 1.6 SX                  | 2018 |  950000 |  70000 | Diesel | 0 | Manual    | First Owner  | 22.00 | 1582 | ⋯ | 1 | 0 | 0 | 1 | 0 | 1 | 0 | 0 | 1 | 0 |\n",
       "| 8007 | Maruti Swift VDI Optional                  | 2017 |  660000 |  56000 | Diesel | 0 | Manual    | First Owner  | 25.20 | 1248 | ⋯ | 1 | 0 | 0 | 1 | 0 | 1 | 0 | 0 | 1 | 0 |\n",
       "| 8009 | Maruti Alto K10 VXI Airbag                 | 2017 |  382000 |  40000 | Petrol | 0 | Manual    | First Owner  | 23.95 |  998 | ⋯ | 0 | 0 | 1 | 1 | 0 | 0 | 0 | 1 | 1 | 0 |\n",
       "| 8013 | Ford Figo Diesel Titanium                  | 2011 |  200000 | 170000 | Diesel | 0 | Manual    | Second Owner | 20.00 | 1399 | ⋯ | 1 | 0 | 0 | 1 | 0 | 1 | 0 | 0 | 1 | 0 |\n",
       "| 8014 | Maruti Celerio LDi                         | 2015 |  400000 |  95000 | Diesel | 0 | Manual    | First Owner  | 27.62 |  793 | ⋯ | 1 | 0 | 0 | 1 | 0 | 1 | 0 | 0 | 1 | 0 |\n",
       "| 8015 | Maruti Swift VDI                           | 2012 |  416000 |  90000 | Diesel | 0 | Manual    | Second Owner | 22.90 | 1248 | ⋯ | 1 | 0 | 0 | 1 | 0 | 1 | 0 | 0 | 1 | 0 |\n",
       "| 8035 | Renault Duster 110PS Diesel RxZ            | 2015 |  600000 | 160000 | Diesel | 0 | Manual    | First Owner  | 19.01 | 1461 | ⋯ | 1 | 0 | 0 | 1 | 0 | 1 | 0 | 0 | 1 | 0 |\n",
       "| 8040 | Maruti Alto K10 LXI                        | 2011 |  135000 | 110048 | Petrol | 0 | Manual    | Third Owner  | 20.92 |  998 | ⋯ | 0 | 0 | 1 | 1 | 0 | 0 | 0 | 1 | 1 | 0 |\n",
       "| 8041 | Hyundai Xcent 1.2 CRDi E Plus              | 2018 |  680000 |  26000 | Diesel | 0 | Manual    | First Owner  | 25.40 | 1186 | ⋯ | 1 | 0 | 0 | 1 | 0 | 1 | 0 | 0 | 1 | 0 |\n",
       "| 8049 | Volkswagen Polo Select 1.2 MPI Highline    | 2010 |  210000 |  44500 | Petrol | 1 | Manual    | First Owner  | 16.47 | 1198 | ⋯ | 0 | 0 | 1 | 1 | 0 | 0 | 0 | 1 | 1 | 1 |\n",
       "| 8051 | Ford Ecosport 1.5 Petrol Titanium          | 2016 |  599000 |  39000 | Petrol | 1 | Manual    | First Owner  | 15.90 | 1496 | ⋯ | 0 | 0 | 1 | 1 | 0 | 0 | 0 | 1 | 1 | 1 |\n",
       "| 8053 | Honda CR-V 2.4L 4WD AT                     | 2012 |  750000 |  50171 | Petrol | 1 | Automatic | First Owner  | 11.10 | 2354 | ⋯ | 0 | 0 | 1 | 0 | 0 | 0 | 0 | 1 | 0 | 1 |\n",
       "| 8059 | Audi A3 40 TFSI Premium                    | 2017 | 1689999 |   8000 | Petrol | 1 | Automatic | First Owner  | 16.60 | 1798 | ⋯ | 0 | 0 | 1 | 0 | 0 | 0 | 0 | 1 | 0 | 1 |\n",
       "| 8062 | Hyundai i20 Asta (o)                       | 2017 |  600000 |  35000 | Petrol | 1 | Manual    | First Owner  | 17.00 | 1197 | ⋯ | 0 | 0 | 1 | 1 | 0 | 0 | 0 | 1 | 1 | 1 |\n",
       "| 8064 | Hyundai Creta 1.6 SX Automatic             | 2016 |  890000 |  40000 | Petrol | 1 | Automatic | First Owner  | 14.80 | 1591 | ⋯ | 0 | 0 | 1 | 0 | 0 | 0 | 0 | 1 | 0 | 1 |\n",
       "| 8074 | Hyundai Grand i10 Magna                    | 2014 |  400000 |  20000 | Petrol | 0 | Manual    | First Owner  | 18.90 | 1197 | ⋯ | 0 | 0 | 1 | 1 | 0 | 0 | 0 | 1 | 1 | 0 |\n",
       "| 8075 | Maruti SX4 ZXI MT BSIV                     | 2013 |  295000 |  60000 | Petrol | 0 | Manual    | Third Owner  | 16.51 | 1586 | ⋯ | 0 | 0 | 1 | 1 | 0 | 0 | 0 | 1 | 1 | 0 |\n",
       "| 8078 | Toyota Innova 2.5 E 7 STR                  | 2009 |  550000 | 250000 | Diesel | 0 | Manual    | First Owner  | 12.80 | 2494 | ⋯ | 1 | 0 | 0 | 1 | 0 | 1 | 0 | 0 | 1 | 0 |\n",
       "| 8079 | Chevrolet Spark 1.0 LS                     | 2011 |  114999 | 100000 | Petrol | 0 | Manual    | Second Owner | 18.00 |  995 | ⋯ | 0 | 0 | 1 | 1 | 0 | 0 | 0 | 1 | 1 | 0 |\n",
       "| 8080 | Tata Indigo LS                             | 2007 |   90177 | 129000 | Diesel | 0 | Manual    | Third Owner  | 17.00 | 1405 | ⋯ | 1 | 0 | 0 | 1 | 0 | 1 | 0 | 0 | 1 | 0 |\n",
       "| 8093 | Hyundai i20 2015-2017 Asta Option 1.4 CRDi | 2017 |  780000 |  28000 | Diesel | 0 | Manual    | First Owner  | 22.54 | 1396 | ⋯ | 1 | 0 | 0 | 1 | 0 | 1 | 0 | 0 | 1 | 0 |\n",
       "| 8096 | Ford Figo Diesel Titanium                  | 2012 |  260000 | 194000 | Diesel | 0 | Manual    | First Owner  | 20.00 | 1399 | ⋯ | 1 | 0 | 0 | 1 | 0 | 1 | 0 | 0 | 1 | 0 |\n",
       "| 8107 | Hyundai Verna 1.6 SX                       | 2012 |  450000 | 128000 | Diesel | 0 | Manual    | Second Owner | 22.32 | 1582 | ⋯ | 1 | 0 | 0 | 1 | 0 | 1 | 0 | 0 | 1 | 0 |\n",
       "| 8110 | Ford Freestyle Titanium Plus Diesel BSIV   | 2018 |  750000 |  24000 | Diesel | 0 | Manual    | First Owner  | 24.40 | 1498 | ⋯ | 1 | 0 | 0 | 1 | 0 | 1 | 0 | 0 | 1 | 0 |\n",
       "| 8112 | Toyota Etios Cross 1.4L GD                 | 2014 |  425000 |  50000 | Diesel | 0 | Manual    | First Owner  | 23.59 | 1364 | ⋯ | 1 | 0 | 0 | 1 | 0 | 1 | 0 | 0 | 1 | 0 |\n",
       "| 8121 | Hyundai Santro Xing GLS                    | 2008 |  120000 | 191000 | Petrol | 0 | Manual    | First Owner  | 17.92 | 1086 | ⋯ | 0 | 0 | 1 | 1 | 0 | 0 | 0 | 1 | 1 | 0 |\n",
       "| 8127 | Tata Indigo CR4                            | 2013 |  290000 |  25000 | Diesel | 0 | Manual    | First Owner  | 23.57 | 1396 | ⋯ | 1 | 0 | 0 | 1 | 0 | 1 | 0 | 0 | 1 | 0 |\n",
       "\n"
      ],
      "text/plain": [
       "     name                                       year selling_price km_driven\n",
       "9    Toyota Etios VXD                           2011  350000        90000   \n",
       "12   Maruti Zen LX                              2005   92000       100000   \n",
       "16   Mahindra KUV 100 mFALCON G80 K8 5str       2016  400000        40000   \n",
       "19   Maruti Alto LX                             2002  150000        80000   \n",
       "21   Mahindra Verito 1.5 D4 BSIII               2011  174000       100000   \n",
       "27   Maruti Alto 800 LXI                        2017  275000        28000   \n",
       "31   Maruti Vitara Brezza LDi Option            2017  670000        70000   \n",
       "33   Maruti Omni 8 Seater BSIV                  2012  150000        35000   \n",
       "35   Maruti Vitara Brezza LDi                   2017  650000        16200   \n",
       "36   Maruti Alto 800 CNG LXI Optional           2019  330000        10000   \n",
       "41   Maruti 800 Std                             2012  150000        76000   \n",
       "43   Honda City i VTEC VX                       2018  925000        28900   \n",
       "46   Maruti Vitara Brezza VDi                   2018  819999        32600   \n",
       "48   Toyota Fortuner 4x4 MT                     2014 1500000        77000   \n",
       "50   Mercedes-Benz B Class B180                 2014 1450000        27800   \n",
       "52   Mitsubishi Pajero Sport 4X4                2013 1090000       151000   \n",
       "54   Maruti Ciaz Zeta                           2018  850000        64000   \n",
       "56   Toyota Innova Crysta 2.8 ZX AT BSIV        2016 1650000       127700   \n",
       "58   Audi A6 2.0 TDI Technology                 2013 1750000        33900   \n",
       "61   Mercedes-Benz New C-Class 220 CDI AT       2013 1425000        59000   \n",
       "62   Tata Manza ELAN Quadrajet BS IV            2011  265000       120000   \n",
       "68   Volkswagen Ameo 1.5 TDI Highline 16 Alloy  2016  540000        40000   \n",
       "71   Volkswagen Ameo 1.5 TDI Comfortline        2017  500000        80000   \n",
       "77   Maruti Swift Star VDI                      2013  450000       120000   \n",
       "78   Maruti Ertiga ZXI                          2012  450000       120000   \n",
       "82   Ford EcoSport 1.5 TDCi Titanium Plus BSIV  2015  610000        90000   \n",
       "85   Datsun GO A Petrol                         2016  275000        49000   \n",
       "87   Maruti Alto 800 LXI BSIV                   2016  275000        38000   \n",
       "90   Maruti Omni 8 Seater BSIV                  2017  280000        32000   \n",
       "93   Hyundai i10 Magna 1.1L                     2015  351000        45000   \n",
       "⋮    ⋮                                          ⋮    ⋮             ⋮        \n",
       "7996 Maruti Swift VXI BSIII                     2008  170000        80000   \n",
       "8000 Maruti Alto LX                             2004  100000        40000   \n",
       "8002 Ford Fiesta 1.4 ZXi Duratec                2011  240000        80000   \n",
       "8006 Hyundai Verna CRDi 1.6 SX                  2018  950000        70000   \n",
       "8007 Maruti Swift VDI Optional                  2017  660000        56000   \n",
       "8009 Maruti Alto K10 VXI Airbag                 2017  382000        40000   \n",
       "8013 Ford Figo Diesel Titanium                  2011  200000       170000   \n",
       "8014 Maruti Celerio LDi                         2015  400000        95000   \n",
       "8015 Maruti Swift VDI                           2012  416000        90000   \n",
       "8035 Renault Duster 110PS Diesel RxZ            2015  600000       160000   \n",
       "8040 Maruti Alto K10 LXI                        2011  135000       110048   \n",
       "8041 Hyundai Xcent 1.2 CRDi E Plus              2018  680000        26000   \n",
       "8049 Volkswagen Polo Select 1.2 MPI Highline    2010  210000        44500   \n",
       "8051 Ford Ecosport 1.5 Petrol Titanium          2016  599000        39000   \n",
       "8053 Honda CR-V 2.4L 4WD AT                     2012  750000        50171   \n",
       "8059 Audi A3 40 TFSI Premium                    2017 1689999         8000   \n",
       "8062 Hyundai i20 Asta (o)                       2017  600000        35000   \n",
       "8064 Hyundai Creta 1.6 SX Automatic             2016  890000        40000   \n",
       "8074 Hyundai Grand i10 Magna                    2014  400000        20000   \n",
       "8075 Maruti SX4 ZXI MT BSIV                     2013  295000        60000   \n",
       "8078 Toyota Innova 2.5 E 7 STR                  2009  550000       250000   \n",
       "8079 Chevrolet Spark 1.0 LS                     2011  114999       100000   \n",
       "8080 Tata Indigo LS                             2007   90177       129000   \n",
       "8093 Hyundai i20 2015-2017 Asta Option 1.4 CRDi 2017  780000        28000   \n",
       "8096 Ford Figo Diesel Titanium                  2012  260000       194000   \n",
       "8107 Hyundai Verna 1.6 SX                       2012  450000       128000   \n",
       "8110 Ford Freestyle Titanium Plus Diesel BSIV   2018  750000        24000   \n",
       "8112 Toyota Etios Cross 1.4L GD                 2014  425000        50000   \n",
       "8121 Hyundai Santro Xing GLS                    2008  120000       191000   \n",
       "8127 Tata Indigo CR4                            2013  290000        25000   \n",
       "     fuel   seller_type transmission owner        mileage engine ⋯ fuelDiesel\n",
       "9    Diesel 0           Manual       First Owner  23.59   1364   ⋯ 1         \n",
       "12   Petrol 0           Manual       Second Owner 17.30    993   ⋯ 0         \n",
       "16   Petrol 0           Manual       First Owner  18.15   1198   ⋯ 0         \n",
       "19   Petrol 0           Manual       Second Owner 19.70    796   ⋯ 0         \n",
       "21   Diesel 0           Manual       Second Owner 21.00   1461   ⋯ 1         \n",
       "27   Petrol 0           Manual       First Owner  24.70    796   ⋯ 0         \n",
       "31   Diesel 0           Manual       First Owner  24.30   1248   ⋯ 1         \n",
       "33   Petrol 0           Manual       Second Owner 14.00    796   ⋯ 0         \n",
       "35   Diesel 0           Manual       First Owner  24.30   1248   ⋯ 1         \n",
       "36   CNG    0           Manual       Second Owner 33.44    796   ⋯ 0         \n",
       "41   Petrol 0           Manual       First Owner  16.10    796   ⋯ 0         \n",
       "43   Petrol 1           Manual       First Owner  17.80   1497   ⋯ 0         \n",
       "46   Diesel 1           Manual       First Owner  24.30   1248   ⋯ 1         \n",
       "48   Diesel 1           Manual       First Owner  12.55   2982   ⋯ 1         \n",
       "50   Diesel 1           Automatic    Second Owner 14.80   2143   ⋯ 1         \n",
       "52   Diesel 1           Manual       First Owner  13.50   2477   ⋯ 1         \n",
       "54   Petrol 1           Manual       First Owner  20.65   1462   ⋯ 0         \n",
       "56   Diesel 1           Automatic    Second Owner 11.36   2755   ⋯ 1         \n",
       "58   Diesel 1           Automatic    Second Owner 17.68   1968   ⋯ 1         \n",
       "61   Diesel 1           Automatic    First Owner  14.84   2143   ⋯ 1         \n",
       "62   Diesel 0           Manual       First Owner  21.12   1248   ⋯ 1         \n",
       "68   Diesel 0           Manual       First Owner  22.00   1498   ⋯ 1         \n",
       "71   Diesel 0           Manual       First Owner  21.66   1498   ⋯ 1         \n",
       "77   Diesel 0           Manual       Second Owner 22.90   1248   ⋯ 1         \n",
       "78   Petrol 0           Manual       Second Owner 16.02   1373   ⋯ 0         \n",
       "82   Diesel 0           Manual       First Owner  22.77   1498   ⋯ 1         \n",
       "85   Petrol 1           Manual       First Owner  19.02   1198   ⋯ 0         \n",
       "87   Petrol 1           Manual       First Owner  24.70    796   ⋯ 0         \n",
       "90   Petrol 1           Manual       First Owner  14.00    796   ⋯ 0         \n",
       "93   Petrol 1           Manual       Second Owner 19.81   1086   ⋯ 0         \n",
       "⋮    ⋮      ⋮           ⋮            ⋮            ⋮       ⋮      ⋱ ⋮         \n",
       "7996 Petrol 0           Manual       Third Owner  16.10   1298   ⋯ 0         \n",
       "8000 Petrol 0           Manual       First Owner  19.70    796   ⋯ 0         \n",
       "8002 Petrol 0           Manual       Second Owner 16.60   1388   ⋯ 0         \n",
       "8006 Diesel 0           Manual       First Owner  22.00   1582   ⋯ 1         \n",
       "8007 Diesel 0           Manual       First Owner  25.20   1248   ⋯ 1         \n",
       "8009 Petrol 0           Manual       First Owner  23.95    998   ⋯ 0         \n",
       "8013 Diesel 0           Manual       Second Owner 20.00   1399   ⋯ 1         \n",
       "8014 Diesel 0           Manual       First Owner  27.62    793   ⋯ 1         \n",
       "8015 Diesel 0           Manual       Second Owner 22.90   1248   ⋯ 1         \n",
       "8035 Diesel 0           Manual       First Owner  19.01   1461   ⋯ 1         \n",
       "8040 Petrol 0           Manual       Third Owner  20.92    998   ⋯ 0         \n",
       "8041 Diesel 0           Manual       First Owner  25.40   1186   ⋯ 1         \n",
       "8049 Petrol 1           Manual       First Owner  16.47   1198   ⋯ 0         \n",
       "8051 Petrol 1           Manual       First Owner  15.90   1496   ⋯ 0         \n",
       "8053 Petrol 1           Automatic    First Owner  11.10   2354   ⋯ 0         \n",
       "8059 Petrol 1           Automatic    First Owner  16.60   1798   ⋯ 0         \n",
       "8062 Petrol 1           Manual       First Owner  17.00   1197   ⋯ 0         \n",
       "8064 Petrol 1           Automatic    First Owner  14.80   1591   ⋯ 0         \n",
       "8074 Petrol 0           Manual       First Owner  18.90   1197   ⋯ 0         \n",
       "8075 Petrol 0           Manual       Third Owner  16.51   1586   ⋯ 0         \n",
       "8078 Diesel 0           Manual       First Owner  12.80   2494   ⋯ 1         \n",
       "8079 Petrol 0           Manual       Second Owner 18.00    995   ⋯ 0         \n",
       "8080 Diesel 0           Manual       Third Owner  17.00   1405   ⋯ 1         \n",
       "8093 Diesel 0           Manual       First Owner  22.54   1396   ⋯ 1         \n",
       "8096 Diesel 0           Manual       First Owner  20.00   1399   ⋯ 1         \n",
       "8107 Diesel 0           Manual       Second Owner 22.32   1582   ⋯ 1         \n",
       "8110 Diesel 0           Manual       First Owner  24.40   1498   ⋯ 1         \n",
       "8112 Diesel 0           Manual       First Owner  23.59   1364   ⋯ 1         \n",
       "8121 Petrol 0           Manual       First Owner  17.92   1086   ⋯ 0         \n",
       "8127 Diesel 0           Manual       First Owner  23.57   1396   ⋯ 1         \n",
       "     fuelLPG fuelPetrol transmissionManual fuelCNG fuelDiesel.1 fuelLPG.1\n",
       "9    0       0          1                  0       1            0        \n",
       "12   0       1          1                  0       0            0        \n",
       "16   0       1          1                  0       0            0        \n",
       "19   0       1          1                  0       0            0        \n",
       "21   0       0          1                  0       1            0        \n",
       "27   0       1          1                  0       0            0        \n",
       "31   0       0          1                  0       1            0        \n",
       "33   0       1          1                  0       0            0        \n",
       "35   0       0          1                  0       1            0        \n",
       "36   0       0          1                  1       0            0        \n",
       "41   0       1          1                  0       0            0        \n",
       "43   0       1          1                  0       0            0        \n",
       "46   0       0          1                  0       1            0        \n",
       "48   0       0          1                  0       1            0        \n",
       "50   0       0          0                  0       1            0        \n",
       "52   0       0          1                  0       1            0        \n",
       "54   0       1          1                  0       0            0        \n",
       "56   0       0          0                  0       1            0        \n",
       "58   0       0          0                  0       1            0        \n",
       "61   0       0          0                  0       1            0        \n",
       "62   0       0          1                  0       1            0        \n",
       "68   0       0          1                  0       1            0        \n",
       "71   0       0          1                  0       1            0        \n",
       "77   0       0          1                  0       1            0        \n",
       "78   0       1          1                  0       0            0        \n",
       "82   0       0          1                  0       1            0        \n",
       "85   0       1          1                  0       0            0        \n",
       "87   0       1          1                  0       0            0        \n",
       "90   0       1          1                  0       0            0        \n",
       "93   0       1          1                  0       0            0        \n",
       "⋮    ⋮       ⋮          ⋮                  ⋮       ⋮            ⋮        \n",
       "7996 0       1          1                  0       0            0        \n",
       "8000 0       1          1                  0       0            0        \n",
       "8002 0       1          1                  0       0            0        \n",
       "8006 0       0          1                  0       1            0        \n",
       "8007 0       0          1                  0       1            0        \n",
       "8009 0       1          1                  0       0            0        \n",
       "8013 0       0          1                  0       1            0        \n",
       "8014 0       0          1                  0       1            0        \n",
       "8015 0       0          1                  0       1            0        \n",
       "8035 0       0          1                  0       1            0        \n",
       "8040 0       1          1                  0       0            0        \n",
       "8041 0       0          1                  0       1            0        \n",
       "8049 0       1          1                  0       0            0        \n",
       "8051 0       1          1                  0       0            0        \n",
       "8053 0       1          0                  0       0            0        \n",
       "8059 0       1          0                  0       0            0        \n",
       "8062 0       1          1                  0       0            0        \n",
       "8064 0       1          0                  0       0            0        \n",
       "8074 0       1          1                  0       0            0        \n",
       "8075 0       1          1                  0       0            0        \n",
       "8078 0       0          1                  0       1            0        \n",
       "8079 0       1          1                  0       0            0        \n",
       "8080 0       0          1                  0       1            0        \n",
       "8093 0       0          1                  0       1            0        \n",
       "8096 0       0          1                  0       1            0        \n",
       "8107 0       0          1                  0       1            0        \n",
       "8110 0       0          1                  0       1            0        \n",
       "8112 0       0          1                  0       1            0        \n",
       "8121 0       1          1                  0       0            0        \n",
       "8127 0       0          1                  0       1            0        \n",
       "     fuelPetrol.1 transmissionManual.1 seller_type_factor\n",
       "9    0            1                    0                 \n",
       "12   1            1                    0                 \n",
       "16   1            1                    0                 \n",
       "19   1            1                    0                 \n",
       "21   0            1                    0                 \n",
       "27   1            1                    0                 \n",
       "31   0            1                    0                 \n",
       "33   1            1                    0                 \n",
       "35   0            1                    0                 \n",
       "36   0            1                    0                 \n",
       "41   1            1                    0                 \n",
       "43   1            1                    1                 \n",
       "46   0            1                    1                 \n",
       "48   0            1                    1                 \n",
       "50   0            0                    1                 \n",
       "52   0            1                    1                 \n",
       "54   1            1                    1                 \n",
       "56   0            0                    1                 \n",
       "58   0            0                    1                 \n",
       "61   0            0                    1                 \n",
       "62   0            1                    0                 \n",
       "68   0            1                    0                 \n",
       "71   0            1                    0                 \n",
       "77   0            1                    0                 \n",
       "78   1            1                    0                 \n",
       "82   0            1                    0                 \n",
       "85   1            1                    1                 \n",
       "87   1            1                    1                 \n",
       "90   1            1                    1                 \n",
       "93   1            1                    1                 \n",
       "⋮    ⋮            ⋮                    ⋮                 \n",
       "7996 1            1                    0                 \n",
       "8000 1            1                    0                 \n",
       "8002 1            1                    0                 \n",
       "8006 0            1                    0                 \n",
       "8007 0            1                    0                 \n",
       "8009 1            1                    0                 \n",
       "8013 0            1                    0                 \n",
       "8014 0            1                    0                 \n",
       "8015 0            1                    0                 \n",
       "8035 0            1                    0                 \n",
       "8040 1            1                    0                 \n",
       "8041 0            1                    0                 \n",
       "8049 1            1                    1                 \n",
       "8051 1            1                    1                 \n",
       "8053 1            0                    1                 \n",
       "8059 1            0                    1                 \n",
       "8062 1            1                    1                 \n",
       "8064 1            0                    1                 \n",
       "8074 1            1                    0                 \n",
       "8075 1            1                    0                 \n",
       "8078 0            1                    0                 \n",
       "8079 1            1                    0                 \n",
       "8080 0            1                    0                 \n",
       "8093 0            1                    0                 \n",
       "8096 0            1                    0                 \n",
       "8107 0            1                    0                 \n",
       "8110 0            1                    0                 \n",
       "8112 0            1                    0                 \n",
       "8121 1            1                    0                 \n",
       "8127 0            1                    0                 "
      ]
     },
     "metadata": {},
     "output_type": "display_data"
    }
   ],
   "source": [
    "test_data"
   ]
  },
  {
   "cell_type": "code",
   "execution_count": 36,
   "id": "0f5c3c87",
   "metadata": {},
   "outputs": [
    {
     "data": {
      "text/html": [
       "<style>\n",
       ".dl-inline {width: auto; margin:0; padding: 0}\n",
       ".dl-inline>dt, .dl-inline>dd {float: none; width: auto; display: inline-block}\n",
       ".dl-inline>dt::after {content: \":\\0020\"; padding-right: .5ex}\n",
       ".dl-inline>dt:not(:first-of-type) {padding-left: .5ex}\n",
       "</style><dl class=dl-inline><dt>9</dt><dd>0.0830364623260125</dd><dt>12</dt><dd>0.0228962488852653</dd><dt>16</dt><dd>0.123066776958543</dd><dt>19</dt><dd>0.0213699116497145</dd><dt>21</dt><dd>0.073085578368706</dd><dt>27</dt><dd>0.1298658839994</dd></dl>\n"
      ],
      "text/latex": [
       "\\begin{description*}\n",
       "\\item[9] 0.0830364623260125\n",
       "\\item[12] 0.0228962488852653\n",
       "\\item[16] 0.123066776958543\n",
       "\\item[19] 0.0213699116497145\n",
       "\\item[21] 0.073085578368706\n",
       "\\item[27] 0.1298658839994\n",
       "\\end{description*}\n"
      ],
      "text/markdown": [
       "9\n",
       ":   0.083036462326012512\n",
       ":   0.022896248885265316\n",
       ":   0.12306677695854319\n",
       ":   0.021369911649714521\n",
       ":   0.07308557836870627\n",
       ":   0.1298658839994\n",
       "\n"
      ],
      "text/plain": [
       "         9         12         16         19         21         27 \n",
       "0.08303646 0.02289625 0.12306678 0.02136991 0.07308558 0.12986588 "
      ]
     },
     "metadata": {},
     "output_type": "display_data"
    }
   ],
   "source": [
    "head(predicted_values)"
   ]
  },
  {
   "cell_type": "code",
   "execution_count": 37,
   "id": "830ea951",
   "metadata": {},
   "outputs": [
    {
     "data": {
      "text/plain": [
       "       \n",
       "           0    1\n",
       "  FALSE 1881  266\n",
       "  TRUE    74  145"
      ]
     },
     "metadata": {},
     "output_type": "display_data"
    }
   ],
   "source": [
    "# Matriz de confusión\n",
    "conf_matrix <- table(predicted_values > 0.5, test_data$seller_type)\n",
    "conf_matrix\n"
   ]
  },
  {
   "cell_type": "code",
   "execution_count": 38,
   "id": "0d9e94d1",
   "metadata": {},
   "outputs": [
    {
     "data": {
      "text/html": [
       "0.856297548605241"
      ],
      "text/latex": [
       "0.856297548605241"
      ],
      "text/markdown": [
       "0.856297548605241"
      ],
      "text/plain": [
       "[1] 0.8562975"
      ]
     },
     "metadata": {},
     "output_type": "display_data"
    },
    {
     "data": {
      "text/html": [
       "0.352798053527981"
      ],
      "text/latex": [
       "0.352798053527981"
      ],
      "text/markdown": [
       "0.352798053527981"
      ],
      "text/plain": [
       "[1] 0.3527981"
      ]
     },
     "metadata": {},
     "output_type": "display_data"
    },
    {
     "data": {
      "text/html": [
       "0.962148337595908"
      ],
      "text/latex": [
       "0.962148337595908"
      ],
      "text/markdown": [
       "0.962148337595908"
      ],
      "text/plain": [
       "[1] 0.9621483"
      ]
     },
     "metadata": {},
     "output_type": "display_data"
    }
   ],
   "source": [
    "# Calcular métricas de precisión, sensibilidad, especificidad\n",
    "TP <- conf_matrix[2, 2]  # Verdaderos positivos\n",
    "TN <- conf_matrix[1, 1]  # Verdaderos negativos\n",
    "FP <- conf_matrix[2, 1]  # Falsos positivos\n",
    "FN <- conf_matrix[1, 2]  # Falsos negativos\n",
    "\n",
    "# Precisión\n",
    "precision <- (TP + TN) / sum(conf_matrix)\n",
    "precision\n",
    "\n",
    "# Sensibilidad (Recall)\n",
    "sensitivity <- TP / (TP + FN)\n",
    "sensitivity\n",
    "\n",
    "# Especificidad\n",
    "specificity <- TN / (TN + FP)\n",
    "specificity\n"
   ]
  },
  {
   "cell_type": "markdown",
   "id": "31db789f",
   "metadata": {},
   "source": [
    "## Regresión Lineal/Múltiple"
   ]
  },
  {
   "cell_type": "code",
   "execution_count": 45,
   "id": "4c2659f0",
   "metadata": {},
   "outputs": [
    {
     "name": "stderr",
     "output_type": "stream",
     "text": [
      "Installing package into 'C:/Users/fcris/AppData/Local/R/win-library/4.2'\n",
      "(as 'lib' is unspecified)\n",
      "\n"
     ]
    },
    {
     "name": "stdout",
     "output_type": "stream",
     "text": [
      "package 'glmnet' successfully unpacked and MD5 sums checked\n",
      "\n",
      "The downloaded binary packages are in\n",
      "\tC:\\Users\\fcris\\AppData\\Local\\Temp\\RtmpeuA7Gr\\downloaded_packages\n"
     ]
    }
   ],
   "source": [
    "install.packages(\"glmnet\")"
   ]
  },
  {
   "cell_type": "code",
   "execution_count": 48,
   "id": "cb56814b",
   "metadata": {
    "scrolled": true
   },
   "outputs": [
    {
     "data": {
      "text/html": [
       "<table class=\"dataframe\">\n",
       "<caption>A data.frame: 6 × 19</caption>\n",
       "<thead>\n",
       "\t<tr><th></th><th scope=col>name</th><th scope=col>year</th><th scope=col>selling_price</th><th scope=col>km_driven</th><th scope=col>fuel</th><th scope=col>seller_type</th><th scope=col>transmission</th><th scope=col>owner</th><th scope=col>mileage</th><th scope=col>engine</th><th scope=col>max_power</th><th scope=col>torque</th><th scope=col>seats</th><th scope=col>price_usd</th><th scope=col>fuelCNG</th><th scope=col>fuelDiesel</th><th scope=col>fuelLPG</th><th scope=col>fuelPetrol</th><th scope=col>transmissionManual</th></tr>\n",
       "\t<tr><th></th><th scope=col>&lt;chr&gt;</th><th scope=col>&lt;int&gt;</th><th scope=col>&lt;int&gt;</th><th scope=col>&lt;int&gt;</th><th scope=col>&lt;fct&gt;</th><th scope=col>&lt;fct&gt;</th><th scope=col>&lt;fct&gt;</th><th scope=col>&lt;chr&gt;</th><th scope=col>&lt;dbl&gt;</th><th scope=col>&lt;dbl&gt;</th><th scope=col>&lt;dbl&gt;</th><th scope=col>&lt;chr&gt;</th><th scope=col>&lt;int&gt;</th><th scope=col>&lt;dbl&gt;</th><th scope=col>&lt;dbl&gt;</th><th scope=col>&lt;dbl&gt;</th><th scope=col>&lt;dbl&gt;</th><th scope=col>&lt;dbl&gt;</th><th scope=col>&lt;dbl&gt;</th></tr>\n",
       "</thead>\n",
       "<tbody>\n",
       "\t<tr><th scope=row>1</th><td>Maruti Swift Dzire VDI       </td><td>2014</td><td>450000</td><td>145500</td><td>Diesel</td><td>0</td><td>Manual</td><td>First Owner </td><td>23.40</td><td>1248</td><td>   74</td><td>190Nm@ 2000rpm          </td><td>5</td><td>5401.135</td><td>0</td><td>1</td><td>0</td><td>0</td><td>1</td></tr>\n",
       "\t<tr><th scope=row>2</th><td>Skoda Rapid 1.5 TDI Ambition </td><td>2014</td><td>370000</td><td>120000</td><td>Diesel</td><td>0</td><td>Manual</td><td>Second Owner</td><td>21.14</td><td>1498</td><td>10352</td><td>250Nm@ 1500-2500rpm     </td><td>5</td><td>4440.933</td><td>0</td><td>1</td><td>0</td><td>0</td><td>1</td></tr>\n",
       "\t<tr><th scope=row>3</th><td>Honda City 2017-2020 EXi     </td><td>2006</td><td>158000</td><td>140000</td><td>Petrol</td><td>0</td><td>Manual</td><td>Third Owner </td><td>17.70</td><td>1497</td><td>   78</td><td>12.7@ 2,700(kgm@ rpm)   </td><td>5</td><td>1896.398</td><td>0</td><td>0</td><td>0</td><td>1</td><td>1</td></tr>\n",
       "\t<tr><th scope=row>4</th><td>Hyundai i20 Sportz Diesel    </td><td>2010</td><td>225000</td><td>127000</td><td>Diesel</td><td>0</td><td>Manual</td><td>First Owner </td><td>23.00</td><td>1396</td><td>   90</td><td>22.4 kgm at 1750-2750rpm</td><td>5</td><td>2700.567</td><td>0</td><td>1</td><td>0</td><td>0</td><td>1</td></tr>\n",
       "\t<tr><th scope=row>5</th><td>Maruti Swift VXI BSIII       </td><td>2007</td><td>130000</td><td>120000</td><td>Petrol</td><td>0</td><td>Manual</td><td>First Owner </td><td>16.10</td><td>1298</td><td>  882</td><td>11.5@ 4,500(kgm@ rpm)   </td><td>5</td><td>1560.328</td><td>0</td><td>0</td><td>0</td><td>1</td><td>1</td></tr>\n",
       "\t<tr><th scope=row>6</th><td>Hyundai Xcent 1.2 VTVT E Plus</td><td>2017</td><td>440000</td><td> 45000</td><td>Petrol</td><td>0</td><td>Manual</td><td>First Owner </td><td>20.14</td><td>1197</td><td> 8186</td><td>113.75nm@ 4000rpm       </td><td>5</td><td>5281.109</td><td>0</td><td>0</td><td>0</td><td>1</td><td>1</td></tr>\n",
       "</tbody>\n",
       "</table>\n"
      ],
      "text/latex": [
       "A data.frame: 6 × 19\n",
       "\\begin{tabular}{r|lllllllllllllllllll}\n",
       "  & name & year & selling\\_price & km\\_driven & fuel & seller\\_type & transmission & owner & mileage & engine & max\\_power & torque & seats & price\\_usd & fuelCNG & fuelDiesel & fuelLPG & fuelPetrol & transmissionManual\\\\\n",
       "  & <chr> & <int> & <int> & <int> & <fct> & <fct> & <fct> & <chr> & <dbl> & <dbl> & <dbl> & <chr> & <int> & <dbl> & <dbl> & <dbl> & <dbl> & <dbl> & <dbl>\\\\\n",
       "\\hline\n",
       "\t1 & Maruti Swift Dzire VDI        & 2014 & 450000 & 145500 & Diesel & 0 & Manual & First Owner  & 23.40 & 1248 &    74 & 190Nm@ 2000rpm           & 5 & 5401.135 & 0 & 1 & 0 & 0 & 1\\\\\n",
       "\t2 & Skoda Rapid 1.5 TDI Ambition  & 2014 & 370000 & 120000 & Diesel & 0 & Manual & Second Owner & 21.14 & 1498 & 10352 & 250Nm@ 1500-2500rpm      & 5 & 4440.933 & 0 & 1 & 0 & 0 & 1\\\\\n",
       "\t3 & Honda City 2017-2020 EXi      & 2006 & 158000 & 140000 & Petrol & 0 & Manual & Third Owner  & 17.70 & 1497 &    78 & 12.7@ 2,700(kgm@ rpm)    & 5 & 1896.398 & 0 & 0 & 0 & 1 & 1\\\\\n",
       "\t4 & Hyundai i20 Sportz Diesel     & 2010 & 225000 & 127000 & Diesel & 0 & Manual & First Owner  & 23.00 & 1396 &    90 & 22.4 kgm at 1750-2750rpm & 5 & 2700.567 & 0 & 1 & 0 & 0 & 1\\\\\n",
       "\t5 & Maruti Swift VXI BSIII        & 2007 & 130000 & 120000 & Petrol & 0 & Manual & First Owner  & 16.10 & 1298 &   882 & 11.5@ 4,500(kgm@ rpm)    & 5 & 1560.328 & 0 & 0 & 0 & 1 & 1\\\\\n",
       "\t6 & Hyundai Xcent 1.2 VTVT E Plus & 2017 & 440000 &  45000 & Petrol & 0 & Manual & First Owner  & 20.14 & 1197 &  8186 & 113.75nm@ 4000rpm        & 5 & 5281.109 & 0 & 0 & 0 & 1 & 1\\\\\n",
       "\\end{tabular}\n"
      ],
      "text/markdown": [
       "\n",
       "A data.frame: 6 × 19\n",
       "\n",
       "| <!--/--> | name &lt;chr&gt; | year &lt;int&gt; | selling_price &lt;int&gt; | km_driven &lt;int&gt; | fuel &lt;fct&gt; | seller_type &lt;fct&gt; | transmission &lt;fct&gt; | owner &lt;chr&gt; | mileage &lt;dbl&gt; | engine &lt;dbl&gt; | max_power &lt;dbl&gt; | torque &lt;chr&gt; | seats &lt;int&gt; | price_usd &lt;dbl&gt; | fuelCNG &lt;dbl&gt; | fuelDiesel &lt;dbl&gt; | fuelLPG &lt;dbl&gt; | fuelPetrol &lt;dbl&gt; | transmissionManual &lt;dbl&gt; |\n",
       "|---|---|---|---|---|---|---|---|---|---|---|---|---|---|---|---|---|---|---|---|\n",
       "| 1 | Maruti Swift Dzire VDI        | 2014 | 450000 | 145500 | Diesel | 0 | Manual | First Owner  | 23.40 | 1248 |    74 | 190Nm@ 2000rpm           | 5 | 5401.135 | 0 | 1 | 0 | 0 | 1 |\n",
       "| 2 | Skoda Rapid 1.5 TDI Ambition  | 2014 | 370000 | 120000 | Diesel | 0 | Manual | Second Owner | 21.14 | 1498 | 10352 | 250Nm@ 1500-2500rpm      | 5 | 4440.933 | 0 | 1 | 0 | 0 | 1 |\n",
       "| 3 | Honda City 2017-2020 EXi      | 2006 | 158000 | 140000 | Petrol | 0 | Manual | Third Owner  | 17.70 | 1497 |    78 | 12.7@ 2,700(kgm@ rpm)    | 5 | 1896.398 | 0 | 0 | 0 | 1 | 1 |\n",
       "| 4 | Hyundai i20 Sportz Diesel     | 2010 | 225000 | 127000 | Diesel | 0 | Manual | First Owner  | 23.00 | 1396 |    90 | 22.4 kgm at 1750-2750rpm | 5 | 2700.567 | 0 | 1 | 0 | 0 | 1 |\n",
       "| 5 | Maruti Swift VXI BSIII        | 2007 | 130000 | 120000 | Petrol | 0 | Manual | First Owner  | 16.10 | 1298 |   882 | 11.5@ 4,500(kgm@ rpm)    | 5 | 1560.328 | 0 | 0 | 0 | 1 | 1 |\n",
       "| 6 | Hyundai Xcent 1.2 VTVT E Plus | 2017 | 440000 |  45000 | Petrol | 0 | Manual | First Owner  | 20.14 | 1197 |  8186 | 113.75nm@ 4000rpm        | 5 | 5281.109 | 0 | 0 | 0 | 1 | 1 |\n",
       "\n"
      ],
      "text/plain": [
       "  name                          year selling_price km_driven fuel   seller_type\n",
       "1 Maruti Swift Dzire VDI        2014 450000        145500    Diesel 0          \n",
       "2 Skoda Rapid 1.5 TDI Ambition  2014 370000        120000    Diesel 0          \n",
       "3 Honda City 2017-2020 EXi      2006 158000        140000    Petrol 0          \n",
       "4 Hyundai i20 Sportz Diesel     2010 225000        127000    Diesel 0          \n",
       "5 Maruti Swift VXI BSIII        2007 130000        120000    Petrol 0          \n",
       "6 Hyundai Xcent 1.2 VTVT E Plus 2017 440000         45000    Petrol 0          \n",
       "  transmission owner        mileage engine max_power torque                  \n",
       "1 Manual       First Owner  23.40   1248      74     190Nm@ 2000rpm          \n",
       "2 Manual       Second Owner 21.14   1498   10352     250Nm@ 1500-2500rpm     \n",
       "3 Manual       Third Owner  17.70   1497      78     12.7@ 2,700(kgm@ rpm)   \n",
       "4 Manual       First Owner  23.00   1396      90     22.4 kgm at 1750-2750rpm\n",
       "5 Manual       First Owner  16.10   1298     882     11.5@ 4,500(kgm@ rpm)   \n",
       "6 Manual       First Owner  20.14   1197    8186     113.75nm@ 4000rpm       \n",
       "  seats price_usd fuelCNG fuelDiesel fuelLPG fuelPetrol transmissionManual\n",
       "1 5     5401.135  0       1          0       0          1                 \n",
       "2 5     4440.933  0       1          0       0          1                 \n",
       "3 5     1896.398  0       0          0       1          1                 \n",
       "4 5     2700.567  0       1          0       0          1                 \n",
       "5 5     1560.328  0       0          0       1          1                 \n",
       "6 5     5281.109  0       0          0       1          1                 "
      ]
     },
     "metadata": {},
     "output_type": "display_data"
    }
   ],
   "source": [
    "head(data)"
   ]
  },
  {
   "cell_type": "code",
   "execution_count": 47,
   "id": "9109c3aa",
   "metadata": {},
   "outputs": [],
   "source": [
    "# Extraer solo los números de la columna 'mileage' y convertir a numérico\n",
    "data$mileage <- as.numeric(gsub(\"[^0-9.]\", \"\", data$mileage))\n",
    "\n",
    "# Limpiar caracteres no numéricos y mantener solo los números y puntos decimales\n",
    "data$mileage <- as.numeric(gsub(\"[^0-9.]\", \"\", data$mileage))\n",
    "data$engine <- as.numeric(gsub(\"[^0-9]\", \"\", data$engine))\n",
    "data$max_power <- as.numeric(gsub(\"[^0-9]\", \"\", data$max_power))\n"
   ]
  },
  {
   "cell_type": "code",
   "execution_count": 57,
   "id": "91b1cc4d",
   "metadata": {},
   "outputs": [
    {
     "data": {
      "text/plain": [
       "\n",
       "Call:\n",
       "lm(formula = price_usd ~ year + km_driven + mileage + engine + \n",
       "    max_power + seats + fuelCNG + fuelDiesel + fuelLPG + fuelPetrol + \n",
       "    transmissionManual, data = data)\n",
       "\n",
       "Residuals:\n",
       "   Min     1Q Median     3Q    Max \n",
       "-21498  -2244   -291   1495  93184 \n",
       "\n",
       "Coefficients: (1 not defined because of singularities)\n",
       "                     Estimate Std. Error t value Pr(>|t|)    \n",
       "(Intercept)        -1.273e+06  4.464e+04 -28.511  < 2e-16 ***\n",
       "year                6.396e+02  2.231e+01  28.673  < 2e-16 ***\n",
       "km_driven          -1.846e-02  1.485e-03 -12.428  < 2e-16 ***\n",
       "mileage             1.677e+01  2.887e+01   0.581   0.5612    \n",
       "engine              9.172e+00  2.690e-01  34.094  < 2e-16 ***\n",
       "max_power          -3.392e-03  1.451e-02  -0.234   0.8151    \n",
       "seats              -2.200e+03  1.040e+02 -21.155  < 2e-16 ***\n",
       "fuelCNG            -1.227e+02  8.634e+02  -0.142   0.8870    \n",
       "fuelDiesel          1.375e+03  2.024e+02   6.791 1.19e-11 ***\n",
       "fuelLPG             2.639e+03  1.047e+03   2.522   0.0117 *  \n",
       "fuelPetrol                 NA         NA      NA       NA    \n",
       "transmissionManual -1.030e+04  2.495e+02 -41.300  < 2e-16 ***\n",
       "---\n",
       "Signif. codes:  0 '***' 0.001 '**' 0.01 '*' 0.05 '.' 0.1 ' ' 1\n",
       "\n",
       "Residual standard error: 6401 on 8117 degrees of freedom\n",
       "Multiple R-squared:  0.563,\tAdjusted R-squared:  0.5625 \n",
       "F-statistic:  1046 on 10 and 8117 DF,  p-value: < 2.2e-16\n"
      ]
     },
     "metadata": {},
     "output_type": "display_data"
    }
   ],
   "source": [
    "# Ajustar un modelo de regresión lineal\n",
    "lm_model <- lm(price_usd ~ year + km_driven + mileage + engine + max_power + seats + fuelCNG + fuelDiesel + fuelLPG + fuelPetrol + transmissionManual, data = data)\n",
    "\n",
    "# Mostrar resumen del modelo\n",
    "summary(lm_model)"
   ]
  },
  {
   "cell_type": "code",
   "execution_count": 62,
   "id": "b94f09ff",
   "metadata": {},
   "outputs": [
    {
     "data": {
      "text/html": [
       "0.562462723485588"
      ],
      "text/latex": [
       "0.562462723485588"
      ],
      "text/markdown": [
       "0.562462723485588"
      ],
      "text/plain": [
       "[1] 0.5624627"
      ]
     },
     "metadata": {},
     "output_type": "display_data"
    }
   ],
   "source": [
    "# Obtener el R-cuadrado ajustado del modelo\n",
    "Adj_R_squared <- summary(lm_model)$adj.r.squared\n",
    "Adj_R_squared\n"
   ]
  },
  {
   "cell_type": "code",
   "execution_count": 67,
   "id": "6ba6d2c5",
   "metadata": {},
   "outputs": [
    {
     "data": {
      "text/plain": [
       "12 x 1 sparse Matrix of class \"dgCMatrix\"\n",
       "                              s1\n",
       "(Intercept)        -1.222613e+06\n",
       "year                6.155720e+02\n",
       "km_driven          -1.854172e-02\n",
       "mileage            -3.701297e+01\n",
       "engine              7.840428e+00\n",
       "max_power           1.383645e-02\n",
       "seats              -1.837293e+03\n",
       "fuelCNG            -8.336375e+02\n",
       "fuelDiesel          8.758899e+02\n",
       "fuelLPG             1.363370e+03\n",
       "fuelPetrol         -9.113923e+02\n",
       "transmissionManual -1.027124e+04"
      ]
     },
     "metadata": {},
     "output_type": "display_data"
    },
    {
     "data": {
      "text/plain": [
       "12 x 1 sparse Matrix of class \"dgCMatrix\"\n",
       "                              s1\n",
       "(Intercept)        -1.263487e+06\n",
       "year                6.354177e+02\n",
       "km_driven          -1.752139e-02\n",
       "mileage             .           \n",
       "engine              8.825292e+00\n",
       "max_power           .           \n",
       "seats              -2.066034e+03\n",
       "fuelCNG            -1.575124e+02\n",
       "fuelDiesel          6.636531e+02\n",
       "fuelLPG             1.026417e+03\n",
       "fuelPetrol         -6.660033e+02\n",
       "transmissionManual -1.031576e+04"
      ]
     },
     "metadata": {},
     "output_type": "display_data"
    }
   ],
   "source": [
    "# Preparar los datos\n",
    "y <- data$price_usd\n",
    "X <- data[, c('year', 'km_driven', 'mileage', 'engine', 'max_power', 'seats', 'fuelCNG', 'fuelDiesel', 'fuelLPG', 'fuelPetrol', 'transmissionManual')]\n",
    "\n",
    "# Ajustar modelo Ridge\n",
    "ridge_model <- cv.glmnet(as.matrix(X), y, alpha = 0)\n",
    "\n",
    "# Ajustar modelo Lasso\n",
    "lasso_model <- cv.glmnet(as.matrix(X), y, alpha = 1)\n",
    "\n",
    "# Coeficientes Ridge y Lasso\n",
    "coef(ridge_model, s = \"lambda.min\")\n",
    "coef(lasso_model, s = \"lambda.min\")\n",
    "\n",
    "\n"
   ]
  },
  {
   "cell_type": "code",
   "execution_count": 92,
   "id": "c4b5baf1",
   "metadata": {
    "scrolled": false
   },
   "outputs": [
    {
     "data": {
      "text/plain": [
       "\n",
       "Call:\n",
       "lm(formula = price_usd ~ year + km_driven + engine + seats + \n",
       "    fuelCNG + fuelDiesel + fuelLPG + fuelPetrol + transmissionManual, \n",
       "    data = data)\n",
       "\n",
       "Residuals:\n",
       "   Min     1Q Median     3Q    Max \n",
       "-21445  -2247   -294   1502  93633 \n",
       "\n",
       "Coefficients: (1 not defined because of singularities)\n",
       "                     Estimate Std. Error t value Pr(>|t|)    \n",
       "(Intercept)        -1.281e+06  4.057e+04 -31.570   <2e-16 ***\n",
       "year                6.439e+02  2.012e+01  32.000   <2e-16 ***\n",
       "km_driven          -1.845e-02  1.485e-03 -12.425   <2e-16 ***\n",
       "engine              9.080e+00  2.207e-01  41.143   <2e-16 ***\n",
       "seats              -2.212e+03  1.005e+02 -22.013   <2e-16 ***\n",
       "fuelCNG            -5.407e+01  8.557e+02  -0.063   0.9496    \n",
       "fuelDiesel          1.437e+03  1.735e+02   8.282   <2e-16 ***\n",
       "fuelLPG             2.640e+03  1.046e+03   2.522   0.0117 *  \n",
       "fuelPetrol                 NA         NA      NA       NA    \n",
       "transmissionManual -1.029e+04  2.483e+02 -41.445   <2e-16 ***\n",
       "---\n",
       "Signif. codes:  0 '***' 0.001 '**' 0.01 '*' 0.05 '.' 0.1 ' ' 1\n",
       "\n",
       "Residual standard error: 6400 on 8119 degrees of freedom\n",
       "Multiple R-squared:  0.563,\tAdjusted R-squared:  0.5626 \n",
       "F-statistic:  1307 on 8 and 8119 DF,  p-value: < 2.2e-16\n"
      ]
     },
     "metadata": {},
     "output_type": "display_data"
    }
   ],
   "source": [
    "lm_model_improved <- lm(price_usd ~ year + km_driven  + engine  + seats + fuelCNG + fuelDiesel + fuelLPG + fuelPetrol + transmissionManual, data = data)\n",
    "summary(lm_model_improved)"
   ]
  },
  {
   "cell_type": "code",
   "execution_count": 93,
   "id": "329c6245",
   "metadata": {},
   "outputs": [
    {
     "data": {
      "text/html": [
       "0.562550494251753"
      ],
      "text/latex": [
       "0.562550494251753"
      ],
      "text/markdown": [
       "0.562550494251753"
      ],
      "text/plain": [
       "[1] 0.5625505"
      ]
     },
     "metadata": {},
     "output_type": "display_data"
    }
   ],
   "source": [
    "Adj_R_squared <- summary(lm_model_improved)$adj.r.squared\n",
    "Adj_R_squared"
   ]
  },
  {
   "cell_type": "code",
   "execution_count": null,
   "id": "f4a509ff",
   "metadata": {},
   "outputs": [],
   "source": []
  }
 ],
 "metadata": {
  "kernelspec": {
   "display_name": "R",
   "language": "R",
   "name": "ir"
  },
  "language_info": {
   "codemirror_mode": "r",
   "file_extension": ".r",
   "mimetype": "text/x-r-source",
   "name": "R",
   "pygments_lexer": "r",
   "version": "4.2.1"
  }
 },
 "nbformat": 4,
 "nbformat_minor": 5
}
